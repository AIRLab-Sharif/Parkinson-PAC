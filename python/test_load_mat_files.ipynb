{
 "cells": [
  {
   "cell_type": "code",
   "execution_count": 4,
   "metadata": {},
   "outputs": [],
   "source": [
    "import pandas as pd\n",
    "import numpy as np\n",
    "import matplotlib\n",
    "import matplotlib.pyplot as plt\n",
    "import scipy.io as io\n",
    "import os\n",
    "import mne\n",
    "import pickle\n",
    "import itertools"
   ]
  },
  {
   "cell_type": "code",
   "execution_count": 24,
   "metadata": {},
   "outputs": [
    {
     "name": "stdout",
     "output_type": "stream",
     "text": [
      "(75, 1)\n",
      "<class 'numpy.ndarray'>\n",
      "(75, 1)\n",
      "<class 'numpy.ndarray'>\n"
     ]
    }
   ],
   "source": [
    "a = io.loadmat('/mnt/D/Mastersharif/MasterProject/Surprise/Codes/brainsurprise2/brainsurprise/habituation_codes/eeg_events.mat')\n",
    "b = io.loadmat('/mnt/D/Mastersharif/MasterProject/Surprise/Codes/brainsurprise2/brainsurprise/habituation_codes/critical_indexes.mat')\n",
    "c = io.loadmat('/mnt/D/Mastersharif/MasterProject/Surprise/Codes/brainsurprise2/brainsurprise/habituation_codes/change_block_point.mat')\n",
    "\n",
    "\n",
    "print(b['critical_indexes'].shape)\n",
    "print(type(b['critical_indexes']))\n",
    "\n",
    "print(c['change_block_index'].shape)\n",
    "print(type(c['change_block_index']))\n",
    "\n"
   ]
  },
  {
   "cell_type": "code",
   "execution_count": 32,
   "metadata": {},
   "outputs": [
    {
     "name": "stdout",
     "output_type": "stream",
     "text": [
      "[array([[  3,  33,  36,  42,  46,  48,  84,  91, 103, 106, 169, 173]],\n",
      "       dtype=uint8)                                                   ]\n"
     ]
    },
    {
     "data": {
      "text/plain": [
       "array([100], dtype=uint8)"
      ]
     },
     "execution_count": 32,
     "metadata": {},
     "output_type": "execute_result"
    }
   ],
   "source": [
    "print(b['critical_indexes'][72])\n",
    "\n",
    "\n",
    "c['change_block_index'][71]\n"
   ]
  }
 ],
 "metadata": {
  "interpreter": {
   "hash": "4dbf7481e991054104c17e61eb52bd4328dee5ea57af3a8ef865b5839f725976"
  },
  "kernelspec": {
   "display_name": "Python 3.9.7 ('brain')",
   "language": "python",
   "name": "python3"
  },
  "language_info": {
   "codemirror_mode": {
    "name": "ipython",
    "version": 3
   },
   "file_extension": ".py",
   "mimetype": "text/x-python",
   "name": "python",
   "nbconvert_exporter": "python",
   "pygments_lexer": "ipython3",
   "version": "3.9.7"
  },
  "orig_nbformat": 4
 },
 "nbformat": 4,
 "nbformat_minor": 2
}
