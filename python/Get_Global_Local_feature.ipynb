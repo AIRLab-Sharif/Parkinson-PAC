{
 "cells": [
  {
   "cell_type": "markdown",
   "metadata": {},
   "source": [
    "## Import packages"
   ]
  },
  {
   "cell_type": "code",
   "execution_count": 24,
   "metadata": {},
   "outputs": [],
   "source": [
    "%matplotlib inline\n",
    "import pandas as pd\n",
    "import numpy as np\n",
    "import matplotlib\n",
    "import matplotlib.pyplot as plt\n",
    "import scipy.io as scio\n",
    "import os\n",
    "import mne\n",
    "import pickle\n",
    "\n",
    "# from numba import jit, cuda\n",
    "\n",
    "import pac\n",
    "import scipy.signal as ss\n",
    "\n",
    "import Get_global_local_feature"
   ]
  },
  {
   "cell_type": "markdown",
   "metadata": {},
   "source": [
    "## Get global feature using convolution"
   ]
  },
  {
   "cell_type": "code",
   "execution_count": 25,
   "metadata": {},
   "outputs": [
    {
     "data": {
      "text/plain": [
       "array([[ 2.,  1.,  1.,  1.],\n",
       "       [ 1.,  3.,  1.,  1.],\n",
       "       [ 1.,  1.,  0.,  1.],\n",
       "       [ 1.,  1.,  1., 10.]])"
      ]
     },
     "execution_count": 25,
     "metadata": {},
     "output_type": "execute_result"
    }
   ],
   "source": [
    "PAC_dist = np.ones(shape=[20,20])\n",
    "PAC_dist[0:5,0:5] = PAC_dist[0:5,0:5]*2\n",
    "PAC_dist[5:10,5:10] *= 3\n",
    "PAC_dist[10:15,10:15]*= 0\n",
    "PAC_dist[15:20,15:20]*= 10\n",
    "Get_global_local_feature.conv_PAC_dist(PAC_dist)\n",
    "# # Filtering\n",
    "# width_filter = 5\n",
    "# height_filter = 5\n",
    "# kernel_filter = np.ones(shape=[width_filter,height_filter])/(width_filter*height_filter)\n",
    "# PAC_feature = ss.convolve2d(PAC_dist,kernel_filter,mode='valid')\n",
    "# PAC_feature.shape\n",
    "# # Sampling\n",
    "# height_index = np.linspace(0,PAC_feature.shape[0]-1,PAC_dist.shape[0]//height_filter).astype(np.int32)\n",
    "# width_index = np.linspace(0,PAC_feature.shape[0]-1,PAC_dist.shape[1]//width_filter).astype(np.int32)\n",
    "# h,w = np.meshgrid(height_index,width_index)\n",
    "# PAC_feature[h,w]"
   ]
  },
  {
   "cell_type": "code",
   "execution_count": 26,
   "metadata": {},
   "outputs": [
    {
     "name": "stdout",
     "output_type": "stream",
     "text": [
      "[[ 1.  1.  1.]\n",
      " [ 1. 15.  1.]\n",
      " [ 1.  1.  1.]]\n",
      "[[1]\n",
      " [1]\n",
      " [1]]\n"
     ]
    },
    {
     "data": {
      "text/plain": [
       "array([[ 1.],\n",
       "       [15.],\n",
       "       [ 1.]])"
      ]
     },
     "execution_count": 26,
     "metadata": {},
     "output_type": "execute_result"
    }
   ],
   "source": [
    "a = np.ones([3,3])\n",
    "a[1,1] = 15\n",
    "print(a)\n",
    "\n",
    "u,v = np.meshgrid([1],[0,1,2])\n",
    "print(u)\n",
    "a[u,v]\n",
    "\n"
   ]
  },
  {
   "cell_type": "code",
   "execution_count": 33,
   "metadata": {},
   "outputs": [],
   "source": [
    "def conv_PAC_dist(PAC_dist,h=4,w=4,down_sample_factor_h=4,down_sample_factor_w=4,filter_mode='valid'):\n",
    "    \"\"\"PAC_dist input PAC values\\\n",
    "    h filter kernel size along axis 0\\\n",
    "    w filter kernel size along axis 1\\\n",
    "    down sample factor h along axis 0\\\n",
    "    down sample factor w along axis 1\\\n",
    "    filter mode define the mode of convolve2d of scipy.signal\"\"\"\n",
    "    # Filtering\n",
    "    width_filter = w\n",
    "    height_filter = h\n",
    "    kernel_filter = np.ones(shape=[width_filter,height_filter])/(width_filter*height_filter)\n",
    "    PAC_feature = ss.convolve2d(PAC_dist,kernel_filter,mode=filter_mode)\n",
    "\n",
    "    # Sampling\n",
    "    height_index = np.linspace(0,PAC_feature.shape[0]-1,PAC_dist.shape[0]//down_sample_factor_h).astype(np.int32)\n",
    "    width_index = np.linspace(0,PAC_feature.shape[0]-1,PAC_dist.shape[1]//down_sample_factor_w).astype(np.int32)\n",
    "    h,w = np.meshgrid(height_index,width_index)\n",
    "    return PAC_feature[w,h]\n"
   ]
  },
  {
   "cell_type": "code",
   "execution_count": 34,
   "metadata": {},
   "outputs": [],
   "source": [
    "a = np.array( [[1]*5 + [2]*5]*5 + [[3]*5 + [4]*5]*5 )"
   ]
  },
  {
   "cell_type": "code",
   "execution_count": 35,
   "metadata": {},
   "outputs": [
    {
     "data": {
      "text/plain": [
       "array([[1., 2.],\n",
       "       [3., 4.]])"
      ]
     },
     "execution_count": 35,
     "metadata": {},
     "output_type": "execute_result"
    }
   ],
   "source": [
    "conv_PAC_dist(a)"
   ]
  },
  {
   "cell_type": "code",
   "execution_count": null,
   "metadata": {},
   "outputs": [],
   "source": []
  }
 ],
 "metadata": {
  "hide_input": false,
  "interpreter": {
   "hash": "03a4708f0c4954715ae9cf7024e72e3792c12398c409e26581e2d99117072eb2"
  },
  "kernelspec": {
   "display_name": "Python 3",
   "language": "python",
   "name": "python3"
  },
  "language_info": {
   "codemirror_mode": {
    "name": "ipython",
    "version": 3
   },
   "file_extension": ".py",
   "mimetype": "text/x-python",
   "name": "python",
   "nbconvert_exporter": "python",
   "pygments_lexer": "ipython3",
   "version": "3.6.6"
  },
  "toc": {
   "base_numbering": 1,
   "nav_menu": {},
   "number_sections": true,
   "sideBar": true,
   "skip_h1_title": false,
   "title_cell": "Table of Contents",
   "title_sidebar": "Contents",
   "toc_cell": false,
   "toc_position": {},
   "toc_section_display": true,
   "toc_window_display": false
  },
  "varInspector": {
   "cols": {
    "lenName": 16,
    "lenType": 16,
    "lenVar": 40
   },
   "kernels_config": {
    "python": {
     "delete_cmd_postfix": "",
     "delete_cmd_prefix": "del ",
     "library": "var_list.py",
     "varRefreshCmd": "print(var_dic_list())"
    },
    "r": {
     "delete_cmd_postfix": ") ",
     "delete_cmd_prefix": "rm(",
     "library": "var_list.r",
     "varRefreshCmd": "cat(var_dic_list()) "
    }
   },
   "types_to_exclude": [
    "module",
    "function",
    "builtin_function_or_method",
    "instance",
    "_Feature"
   ],
   "window_display": false
  }
 },
 "nbformat": 4,
 "nbformat_minor": 2
}
