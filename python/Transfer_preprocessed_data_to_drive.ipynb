{
 "cells": [
  {
   "cell_type": "markdown",
   "metadata": {},
   "source": [
    "## Import Package"
   ]
  },
  {
   "cell_type": "code",
   "execution_count": 29,
   "metadata": {},
   "outputs": [],
   "source": [
    "%matplotlib inline\n",
    "import pandas as pd\n",
    "import numpy as np\n",
    "import matplotlib\n",
    "import matplotlib.pyplot as plt\n",
    "import scipy.io as scio\n",
    "import os\n",
    "import pac\n",
    "import mne\n",
    "import pickle\n",
    "import itertools\n",
    "from numba import jit, cuda\n",
    "import shutil\n"
   ]
  },
  {
   "cell_type": "markdown",
   "metadata": {},
   "source": [
    "# Create the same structure directory as orignal datasets\n",
    "### Load task files"
   ]
  },
  {
   "cell_type": "code",
   "execution_count": 30,
   "metadata": {},
   "outputs": [
    {
     "data": {
      "text/plain": [
       "(75, 2)"
      ]
     },
     "execution_count": 30,
     "metadata": {},
     "output_type": "execute_result"
    }
   ],
   "source": [
    "list_tasks_info = pd.read_csv('../task_track_files/task_track_file_matlab_windows.csv',usecols=['local_file_path','preprocessed_one'])\n",
    "list_tasks_info\n",
    "Path_destination = 'C:\\\\Users\\\\Mohammad\\Desktop\\\\temp_file\\\\Send_to_google_drive'\n",
    "Path_original = 'D:\\Mastersharif\\MasterProject\\data\\parkinsons-oddball'\n",
    "list_tasks_info.shape\n"
   ]
  },
  {
   "cell_type": "code",
   "execution_count": 47,
   "metadata": {},
   "outputs": [],
   "source": [
    "for i in np.arange(list_tasks_info.shape[0]):\n",
    "    a = list_tasks_info['local_file_path'][i].split('\\\\')\n",
    "    b = list_tasks_info['preprocessed_one'][i].split('.')\n",
    "    b[-1] = 'fdt'\n",
    "    second_file_orginal_path = b[0]+ '.' +b[-1]\n",
    "    second_file_orginal_path = os.path.join(Path_original,list_tasks_info['local_file_path'][i],second_file_orginal_path)\n",
    "    file_orginal_path = os.path.join(Path_original,list_tasks_info['local_file_path'][i],list_tasks_info['preprocessed_one'][i])\n",
    "    Path = Path_destination\n",
    "    a = a[0:-1]\n",
    "    for i in a:\n",
    "        Path = os.path.join(Path,i)\n",
    "        if not os.path.isdir(Path):\n",
    "            os.mkdir(Path)\n",
    "    shutil.copy(file_orginal_path,Path)   \n",
    "    shutil.copy(second_file_orginal_path,Path)"
   ]
  }
 ],
 "metadata": {
  "interpreter": {
   "hash": "03a4708f0c4954715ae9cf7024e72e3792c12398c409e26581e2d99117072eb2"
  },
  "kernelspec": {
   "display_name": "Python 3.9.7 64-bit ('neuroscience': conda)",
   "name": "python3"
  },
  "language_info": {
   "codemirror_mode": {
    "name": "ipython",
    "version": 3
   },
   "file_extension": ".py",
   "mimetype": "text/x-python",
   "name": "python",
   "nbconvert_exporter": "python",
   "pygments_lexer": "ipython3",
   "version": "3.9.7"
  },
  "orig_nbformat": 4
 },
 "nbformat": 4,
 "nbformat_minor": 2
}
