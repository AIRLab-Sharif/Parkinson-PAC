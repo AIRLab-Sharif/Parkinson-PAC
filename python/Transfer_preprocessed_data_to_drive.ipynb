{
 "cells": [
  {
   "cell_type": "markdown",
   "metadata": {},
   "source": [
    "## Import Package"
   ]
  },
  {
   "cell_type": "code",
   "execution_count": 1,
   "metadata": {},
   "outputs": [],
   "source": [
    "# %matplotlib inlineco\n",
    "import pandas as pd\n",
    "import numpy as np\n",
    "import matplotlib\n",
    "import matplotlib.pyplot as plt\n",
    "import scipy.io as scio\n",
    "import os\n",
    "# import pac\n",
    "# import mne\n",
    "# import pickle\n",
    "# import itertools\n",
    "from numba import jit, cuda\n",
    "import shutil\n",
    "\n",
    "from pydrive.auth import GoogleAuth\n",
    "from pydrive.drive import GoogleDrive\n"
   ]
  },
  {
   "cell_type": "markdown",
   "metadata": {},
   "source": [
    "# Create the same structure directory as orignal datasets\n",
    "### Load task files"
   ]
  },
  {
   "cell_type": "code",
   "execution_count": 2,
   "metadata": {},
   "outputs": [
    {
     "data": {
      "text/html": [
       "<div>\n",
       "<style scoped>\n",
       "    .dataframe tbody tr th:only-of-type {\n",
       "        vertical-align: middle;\n",
       "    }\n",
       "\n",
       "    .dataframe tbody tr th {\n",
       "        vertical-align: top;\n",
       "    }\n",
       "\n",
       "    .dataframe thead th {\n",
       "        text-align: right;\n",
       "    }\n",
       "</style>\n",
       "<table border=\"1\" class=\"dataframe\">\n",
       "  <thead>\n",
       "    <tr style=\"text-align: right;\">\n",
       "      <th></th>\n",
       "      <th>local_file_path</th>\n",
       "      <th>preprocessed_two</th>\n",
       "    </tr>\n",
       "  </thead>\n",
       "  <tbody>\n",
       "    <tr>\n",
       "      <th>0</th>\n",
       "      <td>sub-001/ses-01/eeg/</td>\n",
       "      <td>pre_sub-001_ses-01_task-Rest_eeg_double.set</td>\n",
       "    </tr>\n",
       "    <tr>\n",
       "      <th>1</th>\n",
       "      <td>sub-001/ses-02/eeg/</td>\n",
       "      <td>pre_sub-001_ses-02_task-Rest_eeg_double.set</td>\n",
       "    </tr>\n",
       "    <tr>\n",
       "      <th>2</th>\n",
       "      <td>sub-002/ses-01/eeg/</td>\n",
       "      <td>pre_sub-002_ses-01_task-Rest_eeg_double.set</td>\n",
       "    </tr>\n",
       "    <tr>\n",
       "      <th>3</th>\n",
       "      <td>sub-002/ses-02/eeg/</td>\n",
       "      <td>pre_sub-002_ses-02_task-Rest_eeg_double.set</td>\n",
       "    </tr>\n",
       "    <tr>\n",
       "      <th>4</th>\n",
       "      <td>sub-003/ses-01/eeg/</td>\n",
       "      <td>pre_sub-003_ses-01_task-Rest_eeg_double.set</td>\n",
       "    </tr>\n",
       "    <tr>\n",
       "      <th>...</th>\n",
       "      <td>...</td>\n",
       "      <td>...</td>\n",
       "    </tr>\n",
       "    <tr>\n",
       "      <th>70</th>\n",
       "      <td>sub-046/ses-01/eeg/</td>\n",
       "      <td>pre_sub-046_ses-01_task-Rest_eeg_double.set</td>\n",
       "    </tr>\n",
       "    <tr>\n",
       "      <th>71</th>\n",
       "      <td>sub-047/ses-01/eeg/</td>\n",
       "      <td>pre_sub-047_ses-01_task-Rest_eeg_double.set</td>\n",
       "    </tr>\n",
       "    <tr>\n",
       "      <th>72</th>\n",
       "      <td>sub-048/ses-01/eeg/</td>\n",
       "      <td>pre_sub-048_ses-01_task-Rest_eeg_double.set</td>\n",
       "    </tr>\n",
       "    <tr>\n",
       "      <th>73</th>\n",
       "      <td>sub-049/ses-01/eeg/</td>\n",
       "      <td>pre_sub-049_ses-01_task-Rest_eeg_double.set</td>\n",
       "    </tr>\n",
       "    <tr>\n",
       "      <th>74</th>\n",
       "      <td>sub-050/ses-01/eeg/</td>\n",
       "      <td>pre_sub-050_ses-01_task-Rest_eeg_double.set</td>\n",
       "    </tr>\n",
       "  </tbody>\n",
       "</table>\n",
       "<p>75 rows × 2 columns</p>\n",
       "</div>"
      ],
      "text/plain": [
       "        local_file_path                             preprocessed_two\n",
       "0   sub-001/ses-01/eeg/  pre_sub-001_ses-01_task-Rest_eeg_double.set\n",
       "1   sub-001/ses-02/eeg/  pre_sub-001_ses-02_task-Rest_eeg_double.set\n",
       "2   sub-002/ses-01/eeg/  pre_sub-002_ses-01_task-Rest_eeg_double.set\n",
       "3   sub-002/ses-02/eeg/  pre_sub-002_ses-02_task-Rest_eeg_double.set\n",
       "4   sub-003/ses-01/eeg/  pre_sub-003_ses-01_task-Rest_eeg_double.set\n",
       "..                  ...                                          ...\n",
       "70  sub-046/ses-01/eeg/  pre_sub-046_ses-01_task-Rest_eeg_double.set\n",
       "71  sub-047/ses-01/eeg/  pre_sub-047_ses-01_task-Rest_eeg_double.set\n",
       "72  sub-048/ses-01/eeg/  pre_sub-048_ses-01_task-Rest_eeg_double.set\n",
       "73  sub-049/ses-01/eeg/  pre_sub-049_ses-01_task-Rest_eeg_double.set\n",
       "74  sub-050/ses-01/eeg/  pre_sub-050_ses-01_task-Rest_eeg_double.set\n",
       "\n",
       "[75 rows x 2 columns]"
      ]
     },
     "execution_count": 2,
     "metadata": {},
     "output_type": "execute_result"
    }
   ],
   "source": [
    "list_tasks_info = pd.read_csv('../task_track_files/task_track_file_matlab_windows_double_calculation.csv',usecols=['local_file_path','preprocessed_two'])\n",
    "list_tasks_info\n",
    "# Path_destination = 'C:\\\\Users\\\\Mohammad\\Desktop\\\\temp_file\\\\Send_to_google_drive'\n",
    "# Path_original = 'D:\\Mastersharif\\MasterProject\\data\\parkinsons-oddball'\n",
    "# Linux version\n",
    "Path_destination = '/home/moh/send_to_google_drive'\n",
    "Path_original = '/mnt/D/Mastersharif/MasterProject/data/parkinsons-oddball'\n",
    "list_tasks_info.shape\n",
    "list_tasks_info\n"
   ]
  },
  {
   "cell_type": "code",
   "execution_count": 3,
   "metadata": {},
   "outputs": [],
   "source": [
    "for i in np.arange(list_tasks_info.shape[0]):\n",
    "    a = list_tasks_info['local_file_path'][i].split('/')\n",
    "    b = list_tasks_info['preprocessed_two'][i].split('.')\n",
    "    b[-1] = 'fdt'\n",
    "    # second_file_orginal_path = b[0]+ '.' +b[-1]\n",
    "    # second_file_orginal_path = os.path.join(Path_original,list_tasks_info['local_file_path'][i],second_file_orginal_path)\n",
    "    file_orginal_path = os.path.join(Path_original,list_tasks_info['local_file_path'][i],list_tasks_info['preprocessed_two'][i])\n",
    "    Path = Path_destination\n",
    "    a = a[0:-1]\n",
    "    for i in a:\n",
    "        Path = os.path.join(Path,i)\n",
    "        if not os.path.isdir(Path):\n",
    "            os.mkdir(Path)\n",
    "    shutil.copy(file_orginal_path,Path)   \n",
    "    # shutil.copy(second_file_orginal_path,Path)"
   ]
  },
  {
   "cell_type": "markdown",
   "metadata": {},
   "source": [
    "### Upload file into google drive"
   ]
  },
  {
   "cell_type": "code",
   "execution_count": 3,
   "metadata": {},
   "outputs": [],
   "source": [
    "gauth = GoogleAuth()\n",
    "# Try to load saved client credentials\n",
    "gauth.LoadCredentialsFile(\"mycreds.txt\")\n",
    "if gauth.credentials is None:\n",
    "    # Authenticate if they're not there\n",
    "    gauth.LocalWebserverAuth()\n",
    "elif gauth.access_token_expired:\n",
    "    # Refresh them if expired\n",
    "    gauth.Refresh()\n",
    "else:\n",
    "    # Initialize the saved creds\n",
    "    gauth.Authorize()\n",
    "# Save the current credentials to a file\n",
    "gauth.SaveCredentialsFile(\"mycreds.txt\")\n",
    "\n",
    "drive = GoogleDrive(gauth)\n",
    "\n",
    "# textfile = drive.CreateFile()\n",
    "# textfile.SetContentFile('eng.txt')\n",
    "# textfile.Upload()\n",
    "# print(textfile)\n",
    "\n",
    "# drive.CreateFile({'id':textfile['id']}).GetContentFile('eng-dl.txt')"
   ]
  },
  {
   "cell_type": "code",
   "execution_count": null,
   "metadata": {},
   "outputs": [],
   "source": [
    "upload_file_list = ['Test.py']\n",
    "for upload_file in upload_file_list:\n",
    "\tgfile = drive.CreateFile({'parents': [{'id': '1pzschX3uMbxU0lB5WZ6IlEEeAUE8MZ-t'}]})\n",
    "\t# Read file and set it as the content of this instance.\n",
    "\tgfile.SetContentFile(upload_file)\n",
    "\tgfile.Upload() # Upload the file."
   ]
  },
  {
   "cell_type": "code",
   "execution_count": 14,
   "metadata": {},
   "outputs": [],
   "source": [
    "file_uploaded =  []\n",
    "\n",
    "file_list = drive.ListFile({'q': \"'1MzIulxrqKXvp3vDKv8qFgDdQJ0WuIVVC' in parents and trashed=false\"}).GetList()\n",
    "for file1 in file_list:\n",
    "    file_list_2 = drive.ListFile({'q': f\"'{file1['id']}' in parents and trashed=false\"}).GetList()\n",
    "    for file2 in file_list_2:\n",
    "        file_list_3 = drive.ListFile({'q': f\"'{file2['id']}' in parents and trashed=false\"}).GetList()\n",
    "        for file3 in file_list_3:\n",
    "            file_list_4 = drive.ListFile({'q': f\"'{file3['id']}' in parents and trashed=false\"}).GetList()\n",
    "            for file4 in file_list_4:\n",
    "                file_uploaded.append(file4['title'])\n",
    "\n",
    "\n",
    "            \n",
    "\n",
    "                \n",
    "                \n",
    "                \n",
    "\n",
    "\n",
    "        "
   ]
  },
  {
   "cell_type": "code",
   "execution_count": 15,
   "metadata": {},
   "outputs": [
    {
     "name": "stdout",
     "output_type": "stream",
     "text": [
      "['pre_sub-001_ses-01_task-Rest_eeg_double.set'\n",
      " 'pre_sub-002_ses-01_task-Rest_eeg_double.set'\n",
      " 'pre_sub-002_ses-02_task-Rest_eeg_double.set'\n",
      " 'pre_sub-029_ses-01_task-Rest_eeg_double.set'\n",
      " 'pre_sub-045_ses-01_task-Rest_eeg_double.set'\n",
      " 'pre_sub-016_ses-02_task-Rest_eeg_double.set'\n",
      " 'pre_sub-016_ses-01_task-Rest_eeg_double.set'\n",
      " 'pre_sub-021_ses-01_task-Rest_eeg_double.set'\n",
      " 'pre_sub-021_ses-02_task-Rest_eeg_double.set'\n",
      " 'pre_sub-026_ses-01_task-Rest_eeg_double.set'\n",
      " 'pre_sub-026_ses-02_task-Rest_eeg_double.set'\n",
      " 'pre_sub-039_ses-01_task-Rest_eeg_double.set'\n",
      " 'pre_sub-030_ses-01_task-Rest_eeg_double.set'\n",
      " 'pre_sub-048_ses-01_task-Rest_eeg_double.set'\n",
      " 'pre_sub-019_ses-01_task-Rest_eeg_double.set'\n",
      " 'pre_sub-019_ses-02_task-Rest_eeg_double.set'\n",
      " 'pre_sub-013_ses-01_task-Rest_eeg_double.set'\n",
      " 'pre_sub-013_ses-02_task-Rest_eeg_double.set']\n"
     ]
    }
   ],
   "source": [
    "print(np.array(file_uploaded))"
   ]
  },
  {
   "cell_type": "code",
   "execution_count": 4,
   "metadata": {},
   "outputs": [
    {
     "data": {
      "text/plain": [
       "'/mnt/D/Mastersharif/MasterProject/data/parkinsons-oddball/sub-023/ses-01/eeg/pre_sub-023_ses-01_task-Rest_eeg_double.set'"
      ]
     },
     "execution_count": 4,
     "metadata": {},
     "output_type": "execute_result"
    }
   ],
   "source": [
    "file_orginal_path = os.path.join(Path_original,list_tasks_info['local_file_path'][42],list_tasks_info['preprocessed_two'][42])\n",
    "file_orginal_path"
   ]
  },
  {
   "cell_type": "code",
   "execution_count": 5,
   "metadata": {},
   "outputs": [
    {
     "ename": "RedirectMissingLocation",
     "evalue": "Redirected but the response is missing a Location: header.",
     "output_type": "error",
     "traceback": [
      "\u001b[0;31m---------------------------------------------------------------------------\u001b[0m",
      "\u001b[0;31mRedirectMissingLocation\u001b[0m                   Traceback (most recent call last)",
      "\u001b[0;32m/tmp/ipykernel_16108/711709700.py\u001b[0m in \u001b[0;36m<module>\u001b[0;34m\u001b[0m\n\u001b[1;32m      7\u001b[0m \u001b[0mf\u001b[0m\u001b[0;34m.\u001b[0m\u001b[0mSetContentFile\u001b[0m\u001b[0;34m(\u001b[0m\u001b[0mfile_orginal_path\u001b[0m\u001b[0;34m)\u001b[0m\u001b[0;34m\u001b[0m\u001b[0;34m\u001b[0m\u001b[0m\n\u001b[1;32m      8\u001b[0m \u001b[0mf\u001b[0m\u001b[0;34m[\u001b[0m\u001b[0;34m'title'\u001b[0m\u001b[0;34m]\u001b[0m \u001b[0;34m=\u001b[0m \u001b[0mlist_tasks_info\u001b[0m\u001b[0;34m[\u001b[0m\u001b[0;34m'preprocessed_two'\u001b[0m\u001b[0;34m]\u001b[0m\u001b[0;34m[\u001b[0m\u001b[0;36m42\u001b[0m\u001b[0;34m]\u001b[0m\u001b[0;34m\u001b[0m\u001b[0;34m\u001b[0m\u001b[0m\n\u001b[0;32m----> 9\u001b[0;31m \u001b[0mf\u001b[0m\u001b[0;34m.\u001b[0m\u001b[0mUpload\u001b[0m\u001b[0;34m(\u001b[0m\u001b[0;34m)\u001b[0m\u001b[0;34m\u001b[0m\u001b[0;34m\u001b[0m\u001b[0m\n\u001b[0m",
      "\u001b[0;32m~/miniconda3/envs/brain/lib/python3.9/site-packages/pydrive/files.py\u001b[0m in \u001b[0;36mUpload\u001b[0;34m(self, param)\u001b[0m\n\u001b[1;32m    283\u001b[0m         \u001b[0mself\u001b[0m\u001b[0;34m.\u001b[0m\u001b[0m_FilesPatch\u001b[0m\u001b[0;34m(\u001b[0m\u001b[0mparam\u001b[0m\u001b[0;34m=\u001b[0m\u001b[0mparam\u001b[0m\u001b[0;34m)\u001b[0m\u001b[0;34m\u001b[0m\u001b[0;34m\u001b[0m\u001b[0m\n\u001b[1;32m    284\u001b[0m     \u001b[0;32melse\u001b[0m\u001b[0;34m:\u001b[0m\u001b[0;34m\u001b[0m\u001b[0;34m\u001b[0m\u001b[0m\n\u001b[0;32m--> 285\u001b[0;31m       \u001b[0mself\u001b[0m\u001b[0;34m.\u001b[0m\u001b[0m_FilesInsert\u001b[0m\u001b[0;34m(\u001b[0m\u001b[0mparam\u001b[0m\u001b[0;34m=\u001b[0m\u001b[0mparam\u001b[0m\u001b[0;34m)\u001b[0m\u001b[0;34m\u001b[0m\u001b[0;34m\u001b[0m\u001b[0m\n\u001b[0m\u001b[1;32m    286\u001b[0m \u001b[0;34m\u001b[0m\u001b[0m\n\u001b[1;32m    287\u001b[0m   \u001b[0;32mdef\u001b[0m \u001b[0mTrash\u001b[0m\u001b[0;34m(\u001b[0m\u001b[0mself\u001b[0m\u001b[0;34m,\u001b[0m \u001b[0mparam\u001b[0m\u001b[0;34m=\u001b[0m\u001b[0;32mNone\u001b[0m\u001b[0;34m)\u001b[0m\u001b[0;34m:\u001b[0m\u001b[0;34m\u001b[0m\u001b[0;34m\u001b[0m\u001b[0m\n",
      "\u001b[0;32m~/miniconda3/envs/brain/lib/python3.9/site-packages/pydrive/auth.py\u001b[0m in \u001b[0;36m_decorated\u001b[0;34m(self, *args, **kwargs)\u001b[0m\n\u001b[1;32m     73\u001b[0m       \u001b[0mself\u001b[0m\u001b[0;34m.\u001b[0m\u001b[0mhttp\u001b[0m \u001b[0;34m=\u001b[0m \u001b[0mself\u001b[0m\u001b[0;34m.\u001b[0m\u001b[0mauth\u001b[0m\u001b[0;34m.\u001b[0m\u001b[0mGet_Http_Object\u001b[0m\u001b[0;34m(\u001b[0m\u001b[0;34m)\u001b[0m\u001b[0;34m\u001b[0m\u001b[0;34m\u001b[0m\u001b[0m\n\u001b[1;32m     74\u001b[0m \u001b[0;34m\u001b[0m\u001b[0m\n\u001b[0;32m---> 75\u001b[0;31m     \u001b[0;32mreturn\u001b[0m \u001b[0mdecoratee\u001b[0m\u001b[0;34m(\u001b[0m\u001b[0mself\u001b[0m\u001b[0;34m,\u001b[0m \u001b[0;34m*\u001b[0m\u001b[0margs\u001b[0m\u001b[0;34m,\u001b[0m \u001b[0;34m**\u001b[0m\u001b[0mkwargs\u001b[0m\u001b[0;34m)\u001b[0m\u001b[0;34m\u001b[0m\u001b[0;34m\u001b[0m\u001b[0m\n\u001b[0m\u001b[1;32m     76\u001b[0m   \u001b[0;32mreturn\u001b[0m \u001b[0m_decorated\u001b[0m\u001b[0;34m\u001b[0m\u001b[0;34m\u001b[0m\u001b[0m\n\u001b[1;32m     77\u001b[0m \u001b[0;34m\u001b[0m\u001b[0m\n",
      "\u001b[0;32m~/miniconda3/envs/brain/lib/python3.9/site-packages/pydrive/files.py\u001b[0m in \u001b[0;36m_FilesInsert\u001b[0;34m(self, param)\u001b[0m\n\u001b[1;32m    366\u001b[0m       \u001b[0;32mif\u001b[0m \u001b[0mself\u001b[0m\u001b[0;34m.\u001b[0m\u001b[0mdirty\u001b[0m\u001b[0;34m[\u001b[0m\u001b[0;34m'content'\u001b[0m\u001b[0;34m]\u001b[0m\u001b[0;34m:\u001b[0m\u001b[0;34m\u001b[0m\u001b[0;34m\u001b[0m\u001b[0m\n\u001b[1;32m    367\u001b[0m         \u001b[0mparam\u001b[0m\u001b[0;34m[\u001b[0m\u001b[0;34m'media_body'\u001b[0m\u001b[0;34m]\u001b[0m \u001b[0;34m=\u001b[0m \u001b[0mself\u001b[0m\u001b[0;34m.\u001b[0m\u001b[0m_BuildMediaBody\u001b[0m\u001b[0;34m(\u001b[0m\u001b[0;34m)\u001b[0m\u001b[0;34m\u001b[0m\u001b[0;34m\u001b[0m\u001b[0m\n\u001b[0;32m--> 368\u001b[0;31m       metadata = self.auth.service.files().insert(**param).execute(\n\u001b[0m\u001b[1;32m    369\u001b[0m         http=self.http)\n\u001b[1;32m    370\u001b[0m     \u001b[0;32mexcept\u001b[0m \u001b[0merrors\u001b[0m\u001b[0;34m.\u001b[0m\u001b[0mHttpError\u001b[0m \u001b[0;32mas\u001b[0m \u001b[0merror\u001b[0m\u001b[0;34m:\u001b[0m\u001b[0;34m\u001b[0m\u001b[0;34m\u001b[0m\u001b[0m\n",
      "\u001b[0;32m~/miniconda3/envs/brain/lib/python3.9/site-packages/googleapiclient/_helpers.py\u001b[0m in \u001b[0;36mpositional_wrapper\u001b[0;34m(*args, **kwargs)\u001b[0m\n\u001b[1;32m    129\u001b[0m                 \u001b[0;32melif\u001b[0m \u001b[0mpositional_parameters_enforcement\u001b[0m \u001b[0;34m==\u001b[0m \u001b[0mPOSITIONAL_WARNING\u001b[0m\u001b[0;34m:\u001b[0m\u001b[0;34m\u001b[0m\u001b[0;34m\u001b[0m\u001b[0m\n\u001b[1;32m    130\u001b[0m                     \u001b[0mlogger\u001b[0m\u001b[0;34m.\u001b[0m\u001b[0mwarning\u001b[0m\u001b[0;34m(\u001b[0m\u001b[0mmessage\u001b[0m\u001b[0;34m)\u001b[0m\u001b[0;34m\u001b[0m\u001b[0;34m\u001b[0m\u001b[0m\n\u001b[0;32m--> 131\u001b[0;31m             \u001b[0;32mreturn\u001b[0m \u001b[0mwrapped\u001b[0m\u001b[0;34m(\u001b[0m\u001b[0;34m*\u001b[0m\u001b[0margs\u001b[0m\u001b[0;34m,\u001b[0m \u001b[0;34m**\u001b[0m\u001b[0mkwargs\u001b[0m\u001b[0;34m)\u001b[0m\u001b[0;34m\u001b[0m\u001b[0;34m\u001b[0m\u001b[0m\n\u001b[0m\u001b[1;32m    132\u001b[0m \u001b[0;34m\u001b[0m\u001b[0m\n\u001b[1;32m    133\u001b[0m         \u001b[0;32mreturn\u001b[0m \u001b[0mpositional_wrapper\u001b[0m\u001b[0;34m\u001b[0m\u001b[0;34m\u001b[0m\u001b[0m\n",
      "\u001b[0;32m~/miniconda3/envs/brain/lib/python3.9/site-packages/googleapiclient/http.py\u001b[0m in \u001b[0;36mexecute\u001b[0;34m(self, http, num_retries)\u001b[0m\n\u001b[1;32m    899\u001b[0m             \u001b[0mbody\u001b[0m \u001b[0;34m=\u001b[0m \u001b[0;32mNone\u001b[0m\u001b[0;34m\u001b[0m\u001b[0;34m\u001b[0m\u001b[0m\n\u001b[1;32m    900\u001b[0m             \u001b[0;32mwhile\u001b[0m \u001b[0mbody\u001b[0m \u001b[0;32mis\u001b[0m \u001b[0;32mNone\u001b[0m\u001b[0;34m:\u001b[0m\u001b[0;34m\u001b[0m\u001b[0;34m\u001b[0m\u001b[0m\n\u001b[0;32m--> 901\u001b[0;31m                 \u001b[0m_\u001b[0m\u001b[0;34m,\u001b[0m \u001b[0mbody\u001b[0m \u001b[0;34m=\u001b[0m \u001b[0mself\u001b[0m\u001b[0;34m.\u001b[0m\u001b[0mnext_chunk\u001b[0m\u001b[0;34m(\u001b[0m\u001b[0mhttp\u001b[0m\u001b[0;34m=\u001b[0m\u001b[0mhttp\u001b[0m\u001b[0;34m,\u001b[0m \u001b[0mnum_retries\u001b[0m\u001b[0;34m=\u001b[0m\u001b[0mnum_retries\u001b[0m\u001b[0;34m)\u001b[0m\u001b[0;34m\u001b[0m\u001b[0;34m\u001b[0m\u001b[0m\n\u001b[0m\u001b[1;32m    902\u001b[0m             \u001b[0;32mreturn\u001b[0m \u001b[0mbody\u001b[0m\u001b[0;34m\u001b[0m\u001b[0;34m\u001b[0m\u001b[0m\n\u001b[1;32m    903\u001b[0m \u001b[0;34m\u001b[0m\u001b[0m\n",
      "\u001b[0;32m~/miniconda3/envs/brain/lib/python3.9/site-packages/googleapiclient/_helpers.py\u001b[0m in \u001b[0;36mpositional_wrapper\u001b[0;34m(*args, **kwargs)\u001b[0m\n\u001b[1;32m    129\u001b[0m                 \u001b[0;32melif\u001b[0m \u001b[0mpositional_parameters_enforcement\u001b[0m \u001b[0;34m==\u001b[0m \u001b[0mPOSITIONAL_WARNING\u001b[0m\u001b[0;34m:\u001b[0m\u001b[0;34m\u001b[0m\u001b[0;34m\u001b[0m\u001b[0m\n\u001b[1;32m    130\u001b[0m                     \u001b[0mlogger\u001b[0m\u001b[0;34m.\u001b[0m\u001b[0mwarning\u001b[0m\u001b[0;34m(\u001b[0m\u001b[0mmessage\u001b[0m\u001b[0;34m)\u001b[0m\u001b[0;34m\u001b[0m\u001b[0;34m\u001b[0m\u001b[0m\n\u001b[0;32m--> 131\u001b[0;31m             \u001b[0;32mreturn\u001b[0m \u001b[0mwrapped\u001b[0m\u001b[0;34m(\u001b[0m\u001b[0;34m*\u001b[0m\u001b[0margs\u001b[0m\u001b[0;34m,\u001b[0m \u001b[0;34m**\u001b[0m\u001b[0mkwargs\u001b[0m\u001b[0;34m)\u001b[0m\u001b[0;34m\u001b[0m\u001b[0;34m\u001b[0m\u001b[0m\n\u001b[0m\u001b[1;32m    132\u001b[0m \u001b[0;34m\u001b[0m\u001b[0m\n\u001b[1;32m    133\u001b[0m         \u001b[0;32mreturn\u001b[0m \u001b[0mpositional_wrapper\u001b[0m\u001b[0;34m\u001b[0m\u001b[0;34m\u001b[0m\u001b[0m\n",
      "\u001b[0;32m~/miniconda3/envs/brain/lib/python3.9/site-packages/googleapiclient/http.py\u001b[0m in \u001b[0;36mnext_chunk\u001b[0;34m(self, http, num_retries)\u001b[0m\n\u001b[1;32m   1081\u001b[0m \u001b[0;34m\u001b[0m\u001b[0m\n\u001b[1;32m   1082\u001b[0m             \u001b[0;32mtry\u001b[0m\u001b[0;34m:\u001b[0m\u001b[0;34m\u001b[0m\u001b[0;34m\u001b[0m\u001b[0m\n\u001b[0;32m-> 1083\u001b[0;31m                 resp, content = http.request(\n\u001b[0m\u001b[1;32m   1084\u001b[0m                     \u001b[0mself\u001b[0m\u001b[0;34m.\u001b[0m\u001b[0mresumable_uri\u001b[0m\u001b[0;34m,\u001b[0m \u001b[0mmethod\u001b[0m\u001b[0;34m=\u001b[0m\u001b[0;34m\"PUT\"\u001b[0m\u001b[0;34m,\u001b[0m \u001b[0mbody\u001b[0m\u001b[0;34m=\u001b[0m\u001b[0mdata\u001b[0m\u001b[0;34m,\u001b[0m \u001b[0mheaders\u001b[0m\u001b[0;34m=\u001b[0m\u001b[0mheaders\u001b[0m\u001b[0;34m\u001b[0m\u001b[0;34m\u001b[0m\u001b[0m\n\u001b[1;32m   1085\u001b[0m                 )\n",
      "\u001b[0;32m~/miniconda3/envs/brain/lib/python3.9/site-packages/oauth2client/transport.py\u001b[0m in \u001b[0;36mnew_request\u001b[0;34m(uri, method, body, headers, redirections, connection_type)\u001b[0m\n\u001b[1;32m    171\u001b[0m             \u001b[0mbody_stream_position\u001b[0m \u001b[0;34m=\u001b[0m \u001b[0mbody\u001b[0m\u001b[0;34m.\u001b[0m\u001b[0mtell\u001b[0m\u001b[0;34m(\u001b[0m\u001b[0;34m)\u001b[0m\u001b[0;34m\u001b[0m\u001b[0;34m\u001b[0m\u001b[0m\n\u001b[1;32m    172\u001b[0m \u001b[0;34m\u001b[0m\u001b[0m\n\u001b[0;32m--> 173\u001b[0;31m         resp, content = request(orig_request_method, uri, method, body,\n\u001b[0m\u001b[1;32m    174\u001b[0m                                 \u001b[0mclean_headers\u001b[0m\u001b[0;34m(\u001b[0m\u001b[0mheaders\u001b[0m\u001b[0;34m)\u001b[0m\u001b[0;34m,\u001b[0m\u001b[0;34m\u001b[0m\u001b[0;34m\u001b[0m\u001b[0m\n\u001b[1;32m    175\u001b[0m                                 redirections, connection_type)\n",
      "\u001b[0;32m~/miniconda3/envs/brain/lib/python3.9/site-packages/oauth2client/transport.py\u001b[0m in \u001b[0;36mrequest\u001b[0;34m(http, uri, method, body, headers, redirections, connection_type)\u001b[0m\n\u001b[1;32m    278\u001b[0m     \u001b[0;31m# NOTE: Allowing http or http.request is temporary (See Issue 601).\u001b[0m\u001b[0;34m\u001b[0m\u001b[0;34m\u001b[0m\u001b[0m\n\u001b[1;32m    279\u001b[0m     \u001b[0mhttp_callable\u001b[0m \u001b[0;34m=\u001b[0m \u001b[0mgetattr\u001b[0m\u001b[0;34m(\u001b[0m\u001b[0mhttp\u001b[0m\u001b[0;34m,\u001b[0m \u001b[0;34m'request'\u001b[0m\u001b[0;34m,\u001b[0m \u001b[0mhttp\u001b[0m\u001b[0;34m)\u001b[0m\u001b[0;34m\u001b[0m\u001b[0;34m\u001b[0m\u001b[0m\n\u001b[0;32m--> 280\u001b[0;31m     return http_callable(uri, method=method, body=body, headers=headers,\n\u001b[0m\u001b[1;32m    281\u001b[0m                          \u001b[0mredirections\u001b[0m\u001b[0;34m=\u001b[0m\u001b[0mredirections\u001b[0m\u001b[0;34m,\u001b[0m\u001b[0;34m\u001b[0m\u001b[0;34m\u001b[0m\u001b[0m\n\u001b[1;32m    282\u001b[0m                          connection_type=connection_type)\n",
      "\u001b[0;32m~/miniconda3/envs/brain/lib/python3.9/site-packages/httplib2/__init__.py\u001b[0m in \u001b[0;36mrequest\u001b[0;34m(self, uri, method, body, headers, redirections, connection_type)\u001b[0m\n\u001b[1;32m   1723\u001b[0m                     \u001b[0mcontent\u001b[0m \u001b[0;34m=\u001b[0m \u001b[0;34mb\"\"\u001b[0m\u001b[0;34m\u001b[0m\u001b[0;34m\u001b[0m\u001b[0m\n\u001b[1;32m   1724\u001b[0m                 \u001b[0;32melse\u001b[0m\u001b[0;34m:\u001b[0m\u001b[0;34m\u001b[0m\u001b[0;34m\u001b[0m\u001b[0m\n\u001b[0;32m-> 1725\u001b[0;31m                     (response, content) = self._request(\n\u001b[0m\u001b[1;32m   1726\u001b[0m                         \u001b[0mconn\u001b[0m\u001b[0;34m,\u001b[0m \u001b[0mauthority\u001b[0m\u001b[0;34m,\u001b[0m \u001b[0muri\u001b[0m\u001b[0;34m,\u001b[0m \u001b[0mrequest_uri\u001b[0m\u001b[0;34m,\u001b[0m \u001b[0mmethod\u001b[0m\u001b[0;34m,\u001b[0m \u001b[0mbody\u001b[0m\u001b[0;34m,\u001b[0m \u001b[0mheaders\u001b[0m\u001b[0;34m,\u001b[0m \u001b[0mredirections\u001b[0m\u001b[0;34m,\u001b[0m \u001b[0mcachekey\u001b[0m\u001b[0;34m,\u001b[0m\u001b[0;34m\u001b[0m\u001b[0;34m\u001b[0m\u001b[0m\n\u001b[1;32m   1727\u001b[0m                     )\n",
      "\u001b[0;32m~/miniconda3/envs/brain/lib/python3.9/site-packages/httplib2/__init__.py\u001b[0m in \u001b[0;36m_request\u001b[0;34m(self, conn, host, absolute_uri, request_uri, method, body, headers, redirections, cachekey)\u001b[0m\n\u001b[1;32m   1462\u001b[0m                 \u001b[0;32mif\u001b[0m \u001b[0mredirections\u001b[0m\u001b[0;34m:\u001b[0m\u001b[0;34m\u001b[0m\u001b[0;34m\u001b[0m\u001b[0m\n\u001b[1;32m   1463\u001b[0m                     \u001b[0;32mif\u001b[0m \u001b[0;34m\"location\"\u001b[0m \u001b[0;32mnot\u001b[0m \u001b[0;32min\u001b[0m \u001b[0mresponse\u001b[0m \u001b[0;32mand\u001b[0m \u001b[0mresponse\u001b[0m\u001b[0;34m.\u001b[0m\u001b[0mstatus\u001b[0m \u001b[0;34m!=\u001b[0m \u001b[0;36m300\u001b[0m\u001b[0;34m:\u001b[0m\u001b[0;34m\u001b[0m\u001b[0;34m\u001b[0m\u001b[0m\n\u001b[0;32m-> 1464\u001b[0;31m                         raise RedirectMissingLocation(\n\u001b[0m\u001b[1;32m   1465\u001b[0m                             \u001b[0m_\u001b[0m\u001b[0;34m(\u001b[0m\u001b[0;34m\"Redirected but the response is missing a Location: header.\"\u001b[0m\u001b[0;34m)\u001b[0m\u001b[0;34m,\u001b[0m \u001b[0mresponse\u001b[0m\u001b[0;34m,\u001b[0m \u001b[0mcontent\u001b[0m\u001b[0;34m,\u001b[0m\u001b[0;34m\u001b[0m\u001b[0;34m\u001b[0m\u001b[0m\n\u001b[1;32m   1466\u001b[0m                         )\n",
      "\u001b[0;31mRedirectMissingLocation\u001b[0m: Redirected but the response is missing a Location: header."
     ]
    }
   ],
   "source": [
    "f = drive.CreateFile({\n",
    "   \"parents\": [{\n",
    "      \"kind\": \"drive#fileLink\",\n",
    "      \"id\": '1j8D2faA2wzTy5jIOwNEl0j7tKxdQav9Q'\n",
    "   }]\n",
    "})\n",
    "f.SetContentFile(file_orginal_path)\n",
    "f['title'] = list_tasks_info['preprocessed_two'][42]\n",
    "f.Upload()"
   ]
  },
  {
   "cell_type": "code",
   "execution_count": 19,
   "metadata": {},
   "outputs": [
    {
     "data": {
      "text/plain": [
       "330"
      ]
     },
     "execution_count": 19,
     "metadata": {},
     "output_type": "execute_result"
    }
   ],
   "source": [
    "int('330')"
   ]
  },
  {
   "cell_type": "code",
   "execution_count": 18,
   "metadata": {},
   "outputs": [
    {
     "name": "stdout",
     "output_type": "stream",
     "text": [
      "['pre_sub-001_ses-01_task-Rest_eeg_double.set'\n",
      " 'pre_sub-002_ses-01_task-Rest_eeg_double.set'\n",
      " 'pre_sub-002_ses-02_task-Rest_eeg_double.set'\n",
      " 'pre_sub-029_ses-01_task-Rest_eeg_double.set'\n",
      " 'pre_sub-045_ses-01_task-Rest_eeg_double.set'\n",
      " 'pre_sub-016_ses-02_task-Rest_eeg_double.set'\n",
      " 'pre_sub-016_ses-01_task-Rest_eeg_double.set'\n",
      " 'pre_sub-021_ses-01_task-Rest_eeg_double.set'\n",
      " 'pre_sub-021_ses-02_task-Rest_eeg_double.set'\n",
      " 'pre_sub-026_ses-01_task-Rest_eeg_double.set'\n",
      " 'pre_sub-026_ses-02_task-Rest_eeg_double.set'\n",
      " 'pre_sub-039_ses-01_task-Rest_eeg_double.set'\n",
      " 'pre_sub-030_ses-01_task-Rest_eeg_double.set'\n",
      " 'pre_sub-048_ses-01_task-Rest_eeg_double.set'\n",
      " 'pre_sub-019_ses-01_task-Rest_eeg_double.set'\n",
      " 'pre_sub-019_ses-02_task-Rest_eeg_double.set'\n",
      " 'pre_sub-013_ses-01_task-Rest_eeg_double.set'\n",
      " 'pre_sub-013_ses-02_task-Rest_eeg_double.set']\n"
     ]
    },
    {
     "data": {
      "text/plain": [
       "18"
      ]
     },
     "execution_count": 18,
     "metadata": {},
     "output_type": "execute_result"
    }
   ],
   "source": [
    "print(np.array(file_uploaded))\n",
    "len(file_uploaded)"
   ]
  },
  {
   "cell_type": "code",
   "execution_count": 11,
   "metadata": {},
   "outputs": [
    {
     "name": "stdout",
     "output_type": "stream",
     "text": [
      "title: pre_sub-001_ses-01_task-Rest_eeg_double.set, id: 1JR7LI9cRN4ShXc2DA6KTh3o3_LrFYRyn\n"
     ]
    }
   ],
   "source": [
    "file_list = drive.ListFile({'q': \"'1Hp8KbU2jn7bhDpu6r4KplVylnuZsSAqr' in parents and trashed=false\"}).GetList()\n",
    "for file1 in file_list:\n",
    "  print('title: %s, id: %s' % (file1['title'], file1['id']))"
   ]
  },
  {
   "cell_type": "code",
   "execution_count": 12,
   "metadata": {},
   "outputs": [],
   "source": [
    "a = []\n",
    "a.append('a')"
   ]
  },
  {
   "cell_type": "code",
   "execution_count": 13,
   "metadata": {},
   "outputs": [
    {
     "name": "stdout",
     "output_type": "stream",
     "text": [
      "['a']\n"
     ]
    }
   ],
   "source": [
    "print(a)\n"
   ]
  },
  {
   "cell_type": "code",
   "execution_count": 4,
   "metadata": {},
   "outputs": [
    {
     "name": "stdout",
     "output_type": "stream",
     "text": [
      "title: MasterProject_heidari, id: 1CoelnoZjw7btTMbAWoIAAK4kbAScK1vj\n",
      "title: Unit5, id: 1CCH1_hvzQqC2SmZkFjHrVieVfqNsmeCtwZ5FCKt6e5g\n",
      "title: Unit5, id: 1wXYADZ7toDeVcecD91iZwr7BW6FGK2na6oS0uD5oDBY\n",
      "title: Unit4, id: 1_JaTSIkHUhj5Ym5PqEfdTkdbArUGXbS8i2wXg14Xsqk\n",
      "title: Unit4, id: 1WdxWGqFXl74bZlbHilXyugd-DSAyJ_p73QPjDTYbgYQ\n",
      "title: Unit4, id: 1nABbHA8WmdibfYd6PENlbmj5H3qDKha8OJ7pRlmUfXs\n",
      "title: Unit4, id: 1jwRdDruweRZCesrFivog_miAyAbiAhS6oKeGQrKnku8\n",
      "title: ّUnit3, id: 1s_MoxHcDvK3VYREtkkNHPpdWutZ-UBwymTtBAFgQh9U\n",
      "title: unit2, id: 1bhj9THYT7ewpz_a4q4PUzcBe8XBTS2cd_R5SOVIg0ak\n",
      "title: unit2, id: 1yVcTni4_UBwrZh_LwnworkJQpA8Gk6HY2F6asA_qRxY\n",
      "title: unit2, id: 1UCoec8awTGMa424EWFktJ_Kx5J1MVOuPFcqJxON3fX8\n",
      "title: unit2, id: 17Q11BnvhNcfybo4Nz8_Y7ENUS9_c49JNiKiFxGF7j8Q\n",
      "title: hof-pnki-nrz - Sep 2, 2021, id: 1lsRo_iIiNuCB60kIQNcu3bGR8i3N15hXOLoY-R_GCrA\n",
      "title: dop-juvs-wva - Sep 2, 2021, id: 1IAn2YH0ssK4OSdzsgrw-ZtvSI6XB9OrmTQ9BshTeCvs\n",
      "title: rbh-oyom-pef - Aug 21, 2021, id: 1AqAh0DJM9sDLYFoZwYKDH_KNgRqAuVEfnvhHt9a2cf0\n",
      "title: tmn-oxdi-fxt - Aug 21, 2021, id: 1bEp4p2-A1soCVMu4oXdkN8j-Io1hWt6n8oU_9suXMG0\n",
      "title: IELTS1_class_files, id: 1k3i7NgVS5Jq_OB0ov3JCrhNqn0w8czKh\n",
      "title: Certificates, id: 1NI0A4Scx-Os-3TO29a3-h-Rnw__ljJHe\n",
      "title: covid 19.rar, id: 1B_9J61nG5M7bkXiuKh9UaFhrcH0Vjtk6\n",
      "title: Schedule, id: 15cICCi8yX-uMPaadGjl3nGJzcI2xEBqeNqoUU54JjvA\n",
      "title: Weekly time sheet, id: 13qSMmhku_smgzMywHmLcw-pDsU0IfoKbXkVH_ZEMV64\n",
      "title: Employee shift schedule, id: 1H6NBw4iPa_GPuzDb1en5KX5JXdeiMXdCZYfs5Q6AcoY\n",
      "title: heidari's work day, id: 1dbzMuQkZmRIyAkS-OzrBQjYPVPgoyjYwfE6OFs1FzVQ\n",
      "title: Olivier Bousquet, Ulrike von Luxburg, Gunnar Rätsch - Advanced Lectures On Machine Learning_ Revised Lectures-Springer (2004).pdf, id: 0B2Snipj_lVimei13emV3OGkxYkEweEpYYl9xaWFLS1Z5WDY0\n",
      "title: Olivier Bousquet, Ulrike von Luxburg, Gunnar Rätsch - Advanced Lectures On Machine Learning_ Revised Lectures-Springer (2004).pdf, id: 14hklUXbS9Qb41dzXFzqEPoAYBipNq3dg\n",
      "title: Europass, id: 19Hut3I-hrgEyWtF8MKRUG0ogSuGpA7cb\n",
      "title: ncv.pdf, id: 0B2Snipj_lVimYk83ZjF2eG8yMXdUd3hsRWpDZ2hfN1NfVHZZ\n",
      "title: bachelor_project, id: 1FsLNERKoVOSFwcHsEu9Xbk4RHqGTmdbA\n",
      "title: DSP_2_1.m, id: 0B2Snipj_lVimc3UzSjU4OG82SFR4YlNjenBINy0zbGhWTmw4\n",
      "title: dspproject.rar, id: 0B2Snipj_lVimQ1FnM2NqQ09LRktDZnJQOFN6d2RabzB4SjQw\n",
      "title: DSP_2_1.m, id: 0B2Snipj_lVimS2lFQ1NicFU2NndzeWNUbkNtS2dHNTRjcE9V\n",
      "title: ex2.zip, id: 0B2Snipj_lVimUVdXektERmRYU2hmNUs5Nm10aDhnTkNqMFY0\n",
      "title: Colab Notebooks, id: 1kNJrnokeomwGXk6h9Nry3XKdIcbJrOoV\n",
      "title: hex6.pdf, id: 0B2Snipj_lVimd2ZzRmFuWHlEbUh0SXgyS1JDSDJickNpZjQ4\n",
      "title: 9525983heidaribeni.pdf, id: 0B2Snipj_lVimRDBJY2VQcnVTQ1lEekNRMkZUaVhxaDhkTzRF\n",
      "title: 9525983(hw-4).rar, id: 1Mos7b3CAHp6T4yrRUzGqrCV24YGVvVY0\n",
      "title: 9525983(hw-4).rar, id: 1DeA3cSMxzvOnhqEZWpsBQZGRNLJhSjn-\n",
      "title: 9525983(hw4-computer).rar, id: 0B2Snipj_lVimcDdtbHlLM19BTC1IN0xmLU0yeVZCTVo1Ql9r\n",
      "title: حرکت یکنواخت.jpg, id: 0B2Snipj_lVimY2JmNGlCakZKU0E4SzlPcWY0Q21fbEtjWi1Z\n",
      "title: حرکت شتابدار بدون سرعت اولیه.jpg, id: 0B2Snipj_lVimdWswUTFTWmRQOUxCODNrRFJwaFR1X0lfN01r\n",
      "title: Asheghane S01-E15 480p.rar, id: 0B2Snipj_lVimU210SGNZcDlSMkk\n",
      "title: 818041369845.rar, id: 0B2Snipj_lVimbkhwNzdHazh6RE0\n"
     ]
    }
   ],
   "source": [
    "file_list = drive.ListFile({'q': \"'root' in parents and trashed=false\"}).GetList()\n",
    "for file1 in file_list:\n",
    "  print('title: %s, id: %s' % (file1['title'], file1['id']))"
   ]
  }
 ],
 "metadata": {
  "interpreter": {
   "hash": "03a4708f0c4954715ae9cf7024e72e3792c12398c409e26581e2d99117072eb2"
  },
  "kernelspec": {
   "display_name": "Python 3.9.7 64-bit ('neuroscience': conda)",
   "name": "python3"
  },
  "language_info": {
   "codemirror_mode": {
    "name": "ipython",
    "version": 3
   },
   "file_extension": ".py",
   "mimetype": "text/x-python",
   "name": "python",
   "nbconvert_exporter": "python",
   "pygments_lexer": "ipython3",
   "version": "3.9.7"
  },
  "orig_nbformat": 4
 },
 "nbformat": 4,
 "nbformat_minor": 2
}
