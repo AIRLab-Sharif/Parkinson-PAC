{
 "cells": [
  {
   "cell_type": "code",
   "execution_count": 12,
   "metadata": {},
   "outputs": [],
   "source": [
    "import matplotlib.pyplot as plt\n",
    "import pandas as pd \n",
    "import numpy as np\n",
    "import scipy.io as scio\n",
    "from scipy import special\n",
    "import numpy as np\n",
    "import os \n",
    "from pac import tfMI,tfMVL\n",
    "from numba import  cuda, jit\n",
    "import time \n",
    "import pickle\n",
    "from joblib import Parallel, delayed\n",
    "\n",
    "import multiprocessing\n",
    "import joblib\n",
    "\n",
    "import signal\n",
    "\n",
    "from sklearn.neighbors import NearestNeighbors\n",
    "\n"
   ]
  },
  {
   "cell_type": "code",
   "execution_count": 5,
   "metadata": {},
   "outputs": [
    {
     "data": {
      "text/html": [
       "<div>\n",
       "<style scoped>\n",
       "    .dataframe tbody tr th:only-of-type {\n",
       "        vertical-align: middle;\n",
       "    }\n",
       "\n",
       "    .dataframe tbody tr th {\n",
       "        vertical-align: top;\n",
       "    }\n",
       "\n",
       "    .dataframe thead th {\n",
       "        text-align: right;\n",
       "    }\n",
       "</style>\n",
       "<table border=\"1\" class=\"dataframe\">\n",
       "  <thead>\n",
       "    <tr style=\"text-align: right;\">\n",
       "      <th></th>\n",
       "      <th>local_file_path</th>\n",
       "      <th>raw_data_file_name</th>\n",
       "      <th>preprocessed_one</th>\n",
       "      <th>ERP_npy_file_with_normalization_and_baseline_correction</th>\n",
       "      <th>ERP_nobaseline_npy_file</th>\n",
       "      <th>Group_file_type</th>\n",
       "    </tr>\n",
       "  </thead>\n",
       "  <tbody>\n",
       "    <tr>\n",
       "      <th>0</th>\n",
       "      <td>sub-001/ses-01/eeg/</td>\n",
       "      <td>sub-001_ses-01_task-Rest_eeg.set</td>\n",
       "      <td>pre_sub-001_ses-01_task-Rest_eeg.set</td>\n",
       "      <td>ERP_base_correct_normalization_sub-001_ses-01_...</td>\n",
       "      <td>ERP_nb_correct_sub-001_ses-01_task-Rest_eeg.npy</td>\n",
       "      <td>PD_ON</td>\n",
       "    </tr>\n",
       "    <tr>\n",
       "      <th>1</th>\n",
       "      <td>sub-001/ses-02/eeg/</td>\n",
       "      <td>sub-001_ses-02_task-Rest_eeg.set</td>\n",
       "      <td>pre_sub-001_ses-02_task-Rest_eeg.set</td>\n",
       "      <td>ERP_base_correct_normalization_sub-001_ses-02_...</td>\n",
       "      <td>ERP_nb_correct_sub-001_ses-02_task-Rest_eeg.npy</td>\n",
       "      <td>PD_OFF</td>\n",
       "    </tr>\n",
       "    <tr>\n",
       "      <th>2</th>\n",
       "      <td>sub-002/ses-01/eeg/</td>\n",
       "      <td>sub-002_ses-01_task-Rest_eeg.set</td>\n",
       "      <td>pre_sub-002_ses-01_task-Rest_eeg.set</td>\n",
       "      <td>ERP_base_correct_normalization_sub-002_ses-01_...</td>\n",
       "      <td>ERP_nb_correct_sub-002_ses-01_task-Rest_eeg.npy</td>\n",
       "      <td>PD_ON</td>\n",
       "    </tr>\n",
       "    <tr>\n",
       "      <th>3</th>\n",
       "      <td>sub-002/ses-02/eeg/</td>\n",
       "      <td>sub-002_ses-02_task-Rest_eeg.set</td>\n",
       "      <td>pre_sub-002_ses-02_task-Rest_eeg.set</td>\n",
       "      <td>ERP_base_correct_normalization_sub-002_ses-02_...</td>\n",
       "      <td>ERP_nb_correct_sub-002_ses-02_task-Rest_eeg.npy</td>\n",
       "      <td>PD_OFF</td>\n",
       "    </tr>\n",
       "    <tr>\n",
       "      <th>4</th>\n",
       "      <td>sub-003/ses-01/eeg/</td>\n",
       "      <td>sub-003_ses-01_task-Rest_eeg.set</td>\n",
       "      <td>pre_sub-003_ses-01_task-Rest_eeg.set</td>\n",
       "      <td>ERP_base_correct_normalization_sub-003_ses-01_...</td>\n",
       "      <td>ERP_nb_correct_sub-003_ses-01_task-Rest_eeg.npy</td>\n",
       "      <td>CTL</td>\n",
       "    </tr>\n",
       "    <tr>\n",
       "      <th>...</th>\n",
       "      <td>...</td>\n",
       "      <td>...</td>\n",
       "      <td>...</td>\n",
       "      <td>...</td>\n",
       "      <td>...</td>\n",
       "      <td>...</td>\n",
       "    </tr>\n",
       "    <tr>\n",
       "      <th>70</th>\n",
       "      <td>sub-046/ses-01/eeg/</td>\n",
       "      <td>sub-046_ses-01_task-Rest_eeg.set</td>\n",
       "      <td>pre_sub-046_ses-01_task-Rest_eeg.set</td>\n",
       "      <td>ERP_base_correct_normalization_sub-046_ses-01_...</td>\n",
       "      <td>ERP_nb_correct_sub-046_ses-01_task-Rest_eeg.npy</td>\n",
       "      <td>CTL</td>\n",
       "    </tr>\n",
       "    <tr>\n",
       "      <th>71</th>\n",
       "      <td>sub-047/ses-01/eeg/</td>\n",
       "      <td>sub-047_ses-01_task-Rest_eeg.set</td>\n",
       "      <td>pre_sub-047_ses-01_task-Rest_eeg.set</td>\n",
       "      <td>ERP_base_correct_normalization_sub-047_ses-01_...</td>\n",
       "      <td>ERP_nb_correct_sub-047_ses-01_task-Rest_eeg.npy</td>\n",
       "      <td>CTL</td>\n",
       "    </tr>\n",
       "    <tr>\n",
       "      <th>72</th>\n",
       "      <td>sub-048/ses-01/eeg/</td>\n",
       "      <td>sub-048_ses-01_task-Rest_eeg.set</td>\n",
       "      <td>pre_sub-048_ses-01_task-Rest_eeg.set</td>\n",
       "      <td>ERP_base_correct_normalization_sub-048_ses-01_...</td>\n",
       "      <td>ERP_nb_correct_sub-048_ses-01_task-Rest_eeg.npy</td>\n",
       "      <td>CTL</td>\n",
       "    </tr>\n",
       "    <tr>\n",
       "      <th>73</th>\n",
       "      <td>sub-049/ses-01/eeg/</td>\n",
       "      <td>sub-049_ses-01_task-Rest_eeg.set</td>\n",
       "      <td>pre_sub-049_ses-01_task-Rest_eeg.set</td>\n",
       "      <td>ERP_base_correct_normalization_sub-049_ses-01_...</td>\n",
       "      <td>ERP_nb_correct_sub-049_ses-01_task-Rest_eeg.npy</td>\n",
       "      <td>CTL</td>\n",
       "    </tr>\n",
       "    <tr>\n",
       "      <th>74</th>\n",
       "      <td>sub-050/ses-01/eeg/</td>\n",
       "      <td>sub-050_ses-01_task-Rest_eeg.set</td>\n",
       "      <td>pre_sub-050_ses-01_task-Rest_eeg.set</td>\n",
       "      <td>ERP_base_correct_normalization_sub-050_ses-01_...</td>\n",
       "      <td>ERP_nb_correct_sub-050_ses-01_task-Rest_eeg.npy</td>\n",
       "      <td>CTL</td>\n",
       "    </tr>\n",
       "  </tbody>\n",
       "</table>\n",
       "<p>75 rows × 6 columns</p>\n",
       "</div>"
      ],
      "text/plain": [
       "        local_file_path                raw_data_file_name  \\\n",
       "0   sub-001/ses-01/eeg/  sub-001_ses-01_task-Rest_eeg.set   \n",
       "1   sub-001/ses-02/eeg/  sub-001_ses-02_task-Rest_eeg.set   \n",
       "2   sub-002/ses-01/eeg/  sub-002_ses-01_task-Rest_eeg.set   \n",
       "3   sub-002/ses-02/eeg/  sub-002_ses-02_task-Rest_eeg.set   \n",
       "4   sub-003/ses-01/eeg/  sub-003_ses-01_task-Rest_eeg.set   \n",
       "..                  ...                               ...   \n",
       "70  sub-046/ses-01/eeg/  sub-046_ses-01_task-Rest_eeg.set   \n",
       "71  sub-047/ses-01/eeg/  sub-047_ses-01_task-Rest_eeg.set   \n",
       "72  sub-048/ses-01/eeg/  sub-048_ses-01_task-Rest_eeg.set   \n",
       "73  sub-049/ses-01/eeg/  sub-049_ses-01_task-Rest_eeg.set   \n",
       "74  sub-050/ses-01/eeg/  sub-050_ses-01_task-Rest_eeg.set   \n",
       "\n",
       "                        preprocessed_one  \\\n",
       "0   pre_sub-001_ses-01_task-Rest_eeg.set   \n",
       "1   pre_sub-001_ses-02_task-Rest_eeg.set   \n",
       "2   pre_sub-002_ses-01_task-Rest_eeg.set   \n",
       "3   pre_sub-002_ses-02_task-Rest_eeg.set   \n",
       "4   pre_sub-003_ses-01_task-Rest_eeg.set   \n",
       "..                                   ...   \n",
       "70  pre_sub-046_ses-01_task-Rest_eeg.set   \n",
       "71  pre_sub-047_ses-01_task-Rest_eeg.set   \n",
       "72  pre_sub-048_ses-01_task-Rest_eeg.set   \n",
       "73  pre_sub-049_ses-01_task-Rest_eeg.set   \n",
       "74  pre_sub-050_ses-01_task-Rest_eeg.set   \n",
       "\n",
       "   ERP_npy_file_with_normalization_and_baseline_correction  \\\n",
       "0   ERP_base_correct_normalization_sub-001_ses-01_...        \n",
       "1   ERP_base_correct_normalization_sub-001_ses-02_...        \n",
       "2   ERP_base_correct_normalization_sub-002_ses-01_...        \n",
       "3   ERP_base_correct_normalization_sub-002_ses-02_...        \n",
       "4   ERP_base_correct_normalization_sub-003_ses-01_...        \n",
       "..                                                ...        \n",
       "70  ERP_base_correct_normalization_sub-046_ses-01_...        \n",
       "71  ERP_base_correct_normalization_sub-047_ses-01_...        \n",
       "72  ERP_base_correct_normalization_sub-048_ses-01_...        \n",
       "73  ERP_base_correct_normalization_sub-049_ses-01_...        \n",
       "74  ERP_base_correct_normalization_sub-050_ses-01_...        \n",
       "\n",
       "                            ERP_nobaseline_npy_file Group_file_type  \n",
       "0   ERP_nb_correct_sub-001_ses-01_task-Rest_eeg.npy           PD_ON  \n",
       "1   ERP_nb_correct_sub-001_ses-02_task-Rest_eeg.npy          PD_OFF  \n",
       "2   ERP_nb_correct_sub-002_ses-01_task-Rest_eeg.npy           PD_ON  \n",
       "3   ERP_nb_correct_sub-002_ses-02_task-Rest_eeg.npy          PD_OFF  \n",
       "4   ERP_nb_correct_sub-003_ses-01_task-Rest_eeg.npy             CTL  \n",
       "..                                              ...             ...  \n",
       "70  ERP_nb_correct_sub-046_ses-01_task-Rest_eeg.npy             CTL  \n",
       "71  ERP_nb_correct_sub-047_ses-01_task-Rest_eeg.npy             CTL  \n",
       "72  ERP_nb_correct_sub-048_ses-01_task-Rest_eeg.npy             CTL  \n",
       "73  ERP_nb_correct_sub-049_ses-01_task-Rest_eeg.npy             CTL  \n",
       "74  ERP_nb_correct_sub-050_ses-01_task-Rest_eeg.npy             CTL  \n",
       "\n",
       "[75 rows x 6 columns]"
      ]
     },
     "execution_count": 5,
     "metadata": {},
     "output_type": "execute_result"
    }
   ],
   "source": [
    "list_tasks_info = pd.read_csv('../task_track_files/task_track_file_matlab.csv', usecols=[\n",
    "                              'local_file_path', 'raw_data_file_name', 'Group_file_type', 'preprocessed_one', 'ERP_npy_file_with_normalization_and_baseline_correction', 'ERP_nobaseline_npy_file'])\n",
    "num_task_file = list_tasks_info.shape[0]\n",
    "list_tasks_info"
   ]
  },
  {
   "cell_type": "code",
   "execution_count": 7,
   "metadata": {},
   "outputs": [],
   "source": [
    "# Path = 'D:\\Mastersharif\\MasterProject\\data\\parkinsons-oddball'\n",
    "# Linux version Path\n",
    "Path = '/mnt/D/Mastersharif/MasterProject/data/parkinsons-oddball'\n",
    "ERP_collection = np.zeros([3, 25, 3, 63, 601])\n",
    "list_tasks_info.shape[0]\n",
    "counter_PD_on = 0\n",
    "counter_PD_off = 0\n",
    "counter_CTL = 0\n",
    "for i in np.arange(num_task_file):\n",
    "    Path_to_save_file = os.path.join(\n",
    "        Path, list_tasks_info['local_file_path'][i], list_tasks_info['ERP_npy_file_with_normalization_and_baseline_correction'][i])\n",
    "    ERP_array = np.load(Path_to_save_file)\n",
    "    if list_tasks_info['Group_file_type'][i] == 'PD_ON':\n",
    "        ERP_collection[0, counter_PD_on, :, :, :] = ERP_array\n",
    "        counter_PD_on = counter_PD_on + 1\n",
    "    elif list_tasks_info['Group_file_type'][i] == 'PD_OFF':\n",
    "        ERP_collection[1, counter_PD_off, :, :, :] = ERP_array\n",
    "        counter_PD_off = counter_PD_off + 1\n",
    "    elif list_tasks_info['Group_file_type'][i] == 'CTL':\n",
    "        ERP_collection[2, counter_CTL, :, :, :] = ERP_array\n",
    "        counter_CTL = counter_CTL + 1"
   ]
  },
  {
   "cell_type": "code",
   "execution_count": 11,
   "metadata": {},
   "outputs": [],
   "source": [
    "def plot_pac(pac, high_freq, low_freq, ax=None, **kwargs):\n",
    "    if ax is None:\n",
    "        fig = plt.figure(figsize=(7, 15))\n",
    "        ax = fig.subplots()\n",
    "\n",
    "    im = ax.imshow((pac), origin='lower', interpolation='nearest', #'nearest',\n",
    "#                    aspect='auto', )\n",
    "                   aspect=np.diff(low_freq)/np.diff(high_freq),cmap='RdBu_r',**kwargs)\n",
    "\n",
    "    if ax is None:\n",
    "        plt.show()\n",
    "        \n",
    "    return im "
   ]
  },
  {
   "cell_type": "markdown",
   "metadata": {},
   "source": [
    "### check the results of tfMVL"
   ]
  },
  {
   "cell_type": "code",
   "execution_count": null,
   "metadata": {},
   "outputs": [],
   "source": [
    "t = np.linspace(0,1,1000)\n",
    "f_s_1 = 10\n",
    "f_s_2 = 60\n",
    "\n",
    "s1 = np.sin(2*np.pi*f_s_1*t)\n",
    "s2 = np.sin(2*np.pi*f_s_2*t)\n",
    "s3 = s1+s2\n",
    "\n",
    "\n",
    "# down_sample_factor = 1\n",
    "# window_sample = int(window_size*(0.5/down_sample_factor))\n",
    "frequency_h_n = 76\n",
    "frequency_l_n = 23\n",
    "frequency_range_high = np.linspace(25,100,frequency_h_n).astype(np.int64)\n",
    "frequency_range_low = np.linspace(8,30,frequency_l_n).astype(np.int64)\n",
    "\n",
    "\n",
    "fre_h = 6\n",
    "fre_l = 1\n",
    "start = time.time()\n",
    "print(tfMI(s3,[fre_h,fre_h],[fre_l,fre_l],1000))\n",
    "end = time.time()\n",
    "print(end-start)\n",
    "\n",
    "PAC_test = np.zeros(shape=(frequency_h_n,frequency_l_n))\n",
    "for h,fre_h in enumerate(frequency_range_high):\n",
    "    for l,fre_l in enumerate(frequency_range_low):\n",
    "         \n",
    "        PAC_test[h,l] = tfMI(s3,[fre_h,fre_h],[fre_l,fre_l],1000)\n",
    "\n",
    "\n",
    "plot_pac(PAC_test,[frequency_range_high[0],frequency_range_high[-1]],[frequency_range_low[0],frequency_range_low[-1]])\n",
    "\n",
    "\n",
    "\n",
    "\n",
    "\n"
   ]
  },
  {
   "cell_type": "code",
   "execution_count": 12,
   "metadata": {},
   "outputs": [
    {
     "data": {
      "text/plain": [
       "<matplotlib.image.AxesImage at 0x7eff7b404d90>"
      ]
     },
     "execution_count": 12,
     "metadata": {},
     "output_type": "execute_result"
    },
    {
     "data": {
      "image/png": "[encoded data removed]",
      "text/plain": [
       "<Figure size 504x1080 with 1 Axes>"
      ]
     },
     "metadata": {
      "needs_background": "light"
     },
     "output_type": "display_data"
    }
   ],
   "source": [
    "plot_pac(PAC_test,[frequency_range_high[0],frequency_range_high[-1]],[frequency_range_low[0],frequency_range_low[-1]])"
   ]
  },
  {
   "cell_type": "markdown",
   "metadata": {},
   "source": [
    "## Modulation Index"
   ]
  },
  {
   "cell_type": "code",
   "execution_count": 126,
   "metadata": {},
   "outputs": [
    {
     "data": {
      "text/plain": [
       "1.8205819964842007"
      ]
     },
     "execution_count": 126,
     "metadata": {},
     "output_type": "execute_result"
    }
   ],
   "source": [
    "def _calc_MI(phase: np.ndarray, amp: np.ndarray,bin_num):\n",
    "    P_dist = np.zeros(shape=(phase.shape[0],))\n",
    "    index_bin = np.linspace(0,2*np.pi*(1-1/bin_num),bin_num)\n",
    "    index_bin_1 = np.array([index_bin])\n",
    "    index_bin_matrix = np.repeat(index_bin_1,phase.shape[0],axis=0)\n",
    "    phase = np.expand_dims(phase,axis=1)\n",
    "    temp =(phase-index_bin_matrix>=0)*(phase-index_bin_matrix<np.pi*2/bin_num)\n",
    "    temp = np.where(temp == 1)[1]*np.pi*2/bin_num\n",
    "    temp = np.expand_dims(temp,axis=0)\n",
    "    d = np.repeat(temp,index_bin.shape[0],axis=0)\n",
    "    h = np.expand_dims(index_bin,axis=1)\n",
    "    h=np.repeat(h,phase.shape[0],axis=1)\n",
    "    flag = (h==d)\n",
    "    amp = [amp]\n",
    "    amp = np.repeat(amp,index_bin.shape[0],axis=0)\n",
    "    out = np.sum(amp*flag,axis=1)/(np.sum(flag,axis=1)+1)   \n",
    "    P_dist = out/np.sum(out)\n",
    "    MI = -np.sum(P_dist[P_dist>0] * np.log(P_dist[P_dist>0])/np.log(2))\n",
    "    return MI\n",
    "\n",
    "c = np.array([2,3,4,3,4.9,4.9,2,4,2,1])*2*np.pi/5\n",
    "amp = np.array([26,30,40,30,40.9,40.9,20,40,20,10])\n",
    "\n",
    "_calc_MI(c,amp,18)    \n",
    "     "
   ]
  },
  {
   "cell_type": "markdown",
   "metadata": {},
   "source": [
    "## Estimation of Mutual Information"
   ]
  },
  {
   "cell_type": "code",
   "execution_count": 104,
   "metadata": {},
   "outputs": [
    {
     "name": "stdout",
     "output_type": "stream",
     "text": [
      "(100,)\n",
      "(100,)\n",
      "(100,)\n",
      "0.008211434991849842\n"
     ]
    }
   ],
   "source": [
    "# X = np.array([[-1, -1], [-2, -1], [-3, -1], [1, -1], [2, -1], [3, -1]])\n",
    "N = 100\n",
    "X = np.random.randn(N,2)\n",
    "k = 2\n",
    "\n",
    "# X_x = X[:,0]\n",
    "# X_x = np.expand_dims(X_x,axis=1)\n",
    "# nbrs = NearestNeighbors(n_neighbors=k, algorithm='ball_tree',metric='chebyshev').fit(X_x)\n",
    "# distances, indices = nbrs.kneighbors(X_x)\n",
    "# epsilons_x = distances[:,k-1]\n",
    "# X_y = X[:,1]\n",
    "# X_y = np.expand_dims(X_y,axis=1)\n",
    "# nbrs = NearestNeighbors(n_neighbors=k, algorithm='ball_tree',metric='chebyshev').fit(X_y)\n",
    "# distances, indices = nbrs.kneighbors(X_y)\n",
    "# epsilons_y = distances[:,k-1]\n",
    "\n",
    "nbrs = NearestNeighbors(n_neighbors=k, algorithm='ball_tree',metric='chebyshev').fit(X)\n",
    "distances, indices = nbrs.kneighbors(X)\n",
    "\n",
    "epsilons = distances[:,k-1]\n",
    "epsilons_x = np.abs(X[indices[:,0],0] - X[indices[:,k-1],0])\n",
    "epsilons_y = np.abs(X[indices[:,0],1] - X[indices[:,k-1],1])\n",
    "\n",
    "# print(epsilons == np.maximum(epsilons_x,epsilons_y))\n",
    "\n",
    "\n",
    "\n",
    "print(epsilons.shape)\n",
    "X1 = np.expand_dims(X,axis=0)\n",
    "X2 = np.repeat(X1,X.shape[0],axis=0)\n",
    "X3 = np.expand_dims(X,axis=1)\n",
    "X4 = np.repeat(X3,X.shape[0],axis=1)\n",
    "\n",
    "dis_x = np.abs(X4[:,:,0]-X2[:,:,0])\n",
    "dis_y = np.abs(X4[:,:,1]-X2[:,:,1])\n",
    "\n",
    "a = (dis_x<= epsilons_x)\n",
    "# print(a)\n",
    "n_x = np.sum(a,axis=0)-1\n",
    "\n",
    "a = (dis_y<= epsilons_y)\n",
    "# print(a)\n",
    "n_y = np.sum(a,axis=0)-1\n",
    "\n",
    "# print(n_x)\n",
    "# print(n_y)\n",
    "\n",
    "Phi_y = special.digamma(n_y)\n",
    "Phi_x = special.digamma(n_x)\n",
    "\n",
    "print(Phi_x.shape)\n",
    "print(Phi_y.shape)\n",
    "\n",
    "# print(special.digamma(k-1) - np.mean(special.digamma(n_x + 1)) - np.mean(special.digamma(n_y + 1)) + special.digamma(100))\n",
    "print(special.digamma(k-1) - 1/(k-1) - 1/(N-1) * np.sum(Phi_x + Phi_y) + special.digamma(N))"
   ]
  },
  {
   "cell_type": "code",
   "execution_count": 64,
   "metadata": {},
   "outputs": [
    {
     "name": "stdout",
     "output_type": "stream",
     "text": [
      "[0.40945994 0.40945994 0.40563687 0.40563687 0.85828533 1.01684022]\n",
      "[0.0035041  0.0035041  0.21297739 0.19265948 0.19265948 0.17531516]\n",
      "[0.16205754 0.13147663 0.11592576 0.11592576 0.19019532 0.19019532]\n"
     ]
    }
   ],
   "source": [
    "print(epsilons)\n",
    "print(epsilons_x)\n",
    "print(epsilons_y)"
   ]
  },
  {
   "cell_type": "code",
   "execution_count": 76,
   "metadata": {},
   "outputs": [
    {
     "name": "stdout",
     "output_type": "stream",
     "text": [
      "[ 1.23341536 -0.15356051]\n",
      "6\n",
      "4\n",
      "0.132771679446694\n",
      "0.0483650572211268\n"
     ]
    },
    {
     "data": {
      "image/png": "[encoded data removed]",
      "text/plain": [
       "<Figure size 432x288 with 1 Axes>"
      ]
     },
     "metadata": {
      "needs_background": "light"
     },
     "output_type": "display_data"
    }
   ],
   "source": [
    " import matplotlib.pyplot as plt\n",
    "\n",
    " plt.scatter(X[:,0],X[:,1])\n",
    "\n",
    " i = 1\n",
    " print(X[i,:])\n",
    " print(n_x[i])\n",
    " print(n_y[i])\n",
    " print(epsilons_x[i])\n",
    " print(epsilons_y[i])"
   ]
  },
  {
   "cell_type": "code",
   "execution_count": 35,
   "metadata": {},
   "outputs": [
    {
     "name": "stdout",
     "output_type": "stream",
     "text": [
      "[2. 1. 2. 2. 1. 2.]\n"
     ]
    }
   ],
   "source": [
    "print(distances[:,2])"
   ]
  },
  {
   "cell_type": "code",
   "execution_count": 33,
   "metadata": {},
   "outputs": [
    {
     "name": "stdout",
     "output_type": "stream",
     "text": [
      "(6,)\n",
      "[[2. 1. 2. 2. 1. 2.]]\n",
      "[[2. 1. 2. 2. 1. 2.]\n",
      " [2. 1. 2. 2. 1. 2.]\n",
      " [2. 1. 2. 2. 1. 2.]\n",
      " [2. 1. 2. 2. 1. 2.]\n",
      " [2. 1. 2. 2. 1. 2.]\n",
      " [2. 1. 2. 2. 1. 2.]]\n",
      "[[ True  True  True  True False False]\n",
      " [ True  True  True False False False]\n",
      " [ True  True  True False False False]\n",
      " [ True False False  True  True  True]\n",
      " [False False False  True  True  True]\n",
      " [False False False  True  True  True]]\n",
      "[4 3 3 4 3 3]\n"
     ]
    }
   ],
   "source": [
    "epsilons = distances[:,2]\n",
    "print(epsilons.shape)\n",
    "X1 = np.expand_dims(X,axis=0)\n",
    "X2 = np.repeat(X1,6,axis=0)\n",
    "X3 = np.expand_dims(X,axis=1)\n",
    "X4 = np.repeat(X3,6,axis=1)\n",
    "\n",
    "dis_x = np.abs(X4[:,:,0]-X2[:,:,0])\n",
    "dis_y = np.abs(X4[:,:,1]-X2[:,:,1])\n",
    "\n",
    "epsilons = np.expand_dims(epsilons,axis=0)\n",
    "print(epsilons)\n",
    "epsilons = np.repeat(epsilons,6,axis=0)\n",
    "\n",
    "print(epsilons)\n",
    "a= (dis_x<=epsilons)\n",
    "print(a)\n",
    "print(np.sum(a,axis=0))\n",
    "\n"
   ]
  },
  {
   "cell_type": "code",
   "execution_count": 25,
   "metadata": {},
   "outputs": [
    {
     "name": "stdout",
     "output_type": "stream",
     "text": [
      "(6, 6, 2)\n",
      "[[-2 -1]\n",
      " [-2 -1]\n",
      " [-2 -1]\n",
      " [-2 -1]\n",
      " [-2 -1]\n",
      " [-2 -1]]\n",
      "[[-1 -1]\n",
      " [-2 -1]\n",
      " [-3 -2]\n",
      " [ 1  1]\n",
      " [ 2  1]\n",
      " [ 3  2]]\n",
      "(6, 6, 2)\n",
      "(6, 6)\n",
      "[[0 1 2 2 3 4]\n",
      " [1 0 1 3 4 5]\n",
      " [2 1 0 4 5 6]\n",
      " [2 3 4 0 1 2]\n",
      " [3 4 5 1 0 1]\n",
      " [4 5 6 2 1 0]]\n"
     ]
    }
   ],
   "source": [
    "\n",
    "\n",
    "print(X4[:,1,:])\n",
    "print(X4.shape)\n",
    "\n",
    "dis = np.max(np.abs(X4-X2),axis=2)\n",
    "dis = np.max(np.abs(X4-X2),axis=2)\n",
    "print(dis.shape)\n",
    "print(dis)\n"
   ]
  },
  {
   "cell_type": "code",
   "execution_count": 38,
   "metadata": {},
   "outputs": [
    {
     "name": "stdout",
     "output_type": "stream",
     "text": [
      "[(array([0.4472136 , 0.89442719]), 'data_0', 0.0), (array([0.5547002 , 0.83205029]), 'data_1', 0.12427488311265757), (array([0.6, 0.8]), 'data_2', 0.1796111906318341)]\n"
     ]
    }
   ],
   "source": [
    "from nearpy import Engine\n",
    "from nearpy.filters import NearestFilter\n",
    "from nearpy.distances import EuclideanDistance\n",
    "from nearpy.hashes import RandomBinaryProjections\n",
    "\n",
    "# Dimension of our vector space\n",
    "dimension = 2\n",
    "\n",
    "# Create a random binary hash with 10 bits\n",
    "rbp = RandomBinaryProjections('rbp', 10)\n",
    "\n",
    "# Create engine with pipeline configuration\n",
    "engine = Engine(dimension, lshashes=[rbp],distance=EuclideanDistance(),vector_filters=[NearestFilter(3)])\n",
    "\n",
    "# Index 1000000 random vectors (set their data to a unique string)\n",
    "data = np.zeros(shape=(5,2))\n",
    "data[0] = [1,2]\n",
    "data[1] = [2,3]\n",
    "data[2] = [3,4]\n",
    "data[3] = [4,5]\n",
    "data[4] = [5,6]\n",
    "\n",
    "for index,element in enumerate(data):\n",
    "    engine.store_vector(element, 'data_%d' % index)\n",
    "\n",
    "# Create random query vector\n",
    "query = data[0]\n",
    "\n",
    "# Get nearest neighbours\n",
    "N = engine.neighbours(query)\n",
    "print(N)"
   ]
  },
  {
   "cell_type": "code",
   "execution_count": 39,
   "metadata": {},
   "outputs": [
    {
     "name": "stdout",
     "output_type": "stream",
     "text": [
      "[1. 2.]\n"
     ]
    }
   ],
   "source": [
    "print(query)"
   ]
  },
  {
   "cell_type": "code",
   "execution_count": 20,
   "metadata": {},
   "outputs": [
    {
     "name": "stdout",
     "output_type": "stream",
     "text": [
      "0.9111253374868991\n"
     ]
    }
   ],
   "source": [
    "print(N[0][2])"
   ]
  },
  {
   "cell_type": "code",
   "execution_count": 5,
   "metadata": {},
   "outputs": [
    {
     "data": {
      "text/plain": [
       "[25, 100]"
      ]
     },
     "execution_count": 5,
     "metadata": {},
     "output_type": "execute_result"
    }
   ],
   "source": [
    "[frequency_range_high[0],frequency_range_high[-1]]"
   ]
  },
  {
   "cell_type": "code",
   "execution_count": 104,
   "metadata": {},
   "outputs": [
    {
     "name": "stdout",
     "output_type": "stream",
     "text": [
      "(10,)\n",
      "(5,)\n",
      "[[26.  30.  40.  30.  40.9 40.9 20.  40.  20.  10. ]\n",
      " [26.  30.  40.  30.  40.9 40.9 20.  40.  20.  10. ]\n",
      " [26.  30.  40.  30.  40.9 40.9 20.  40.  20.  10. ]\n",
      " [26.  30.  40.  30.  40.9 40.9 20.  40.  20.  10. ]\n",
      " [26.  30.  40.  30.  40.9 40.9 20.  40.  20.  10. ]]\n",
      "[ 0.    5.   16.5  20.   32.36]\n"
     ]
    }
   ],
   "source": [
    "a = np.linspace(0,4,5)\n",
    "# print(a.shape)\n",
    "a = np.array([a])\n",
    "a.shape\n",
    "b = np.repeat(a,10,axis=0)\n",
    "# print(b.shape)\n",
    "c = np.array([2,3,4,3,4.9,4.9,2,4,2,1])\n",
    "amp = np.array([26,30,40,30,40.9,40.9,20,40,20,10])\n",
    "print(amp.shape)\n",
    "c = np.expand_dims(c,axis=1)\n",
    "# print(c.shape)\n",
    "# print(c-b)\n",
    "temp = (c-b>=0)*(c-b<1)\n",
    "t = np.where(temp==1)\n",
    "t = t[1]\n",
    "# print(t)\n",
    "t = np.expand_dims(t,axis=0)\n",
    "d = np.repeat(t,5,axis=0)\n",
    "# print(d)\n",
    "h = np.linspace(0,4,5)\n",
    "print(h.shape)\n",
    "h = np.expand_dims(h,axis=1)\n",
    "h=np.repeat(h,10,axis=1)\n",
    "# print(h)\n",
    "# print(h.shape)\n",
    "# print(d.shape)\n",
    "flag =(h==d)\n",
    "# print('dddddddddddddddddddddddddd')\n",
    "amp = [amp]\n",
    "amp = np.repeat(amp,5,axis=0)\n",
    "print(amp)\n",
    "out = np.sum(amp*flag,axis=1)/(np.sum(flag,axis=1)+1)\n",
    "print(out)\n",
    "# a = np.array([[1,4],[2,4],[3,4]])\n",
    "# b = np.array([[1,4],[2,4],[3,4]])\n",
    "# print(a==b)\n"
   ]
  },
  {
   "cell_type": "markdown",
   "metadata": {},
   "source": [
    "## Modualtion index"
   ]
  },
  {
   "cell_type": "code",
   "execution_count": null,
   "metadata": {},
   "outputs": [],
   "source": []
  }
 ],
 "metadata": {
  "interpreter": {
   "hash": "03a4708f0c4954715ae9cf7024e72e3792c12398c409e26581e2d99117072eb2"
  },
  "kernelspec": {
   "display_name": "Python 3.9.7 64-bit ('neuroscience': conda)",
   "language": "python",
   "name": "python3"
  },
  "language_info": {
   "codemirror_mode": {
    "name": "ipython",
    "version": 3
   },
   "file_extension": ".py",
   "mimetype": "text/x-python",
   "name": "python",
   "nbconvert_exporter": "python",
   "pygments_lexer": "ipython3",
   "version": "3.9.7"
  },
  "orig_nbformat": 4
 },
 "nbformat": 4,
 "nbformat_minor": 2
}
