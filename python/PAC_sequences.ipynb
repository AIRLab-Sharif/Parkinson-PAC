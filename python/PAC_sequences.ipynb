{
 "cells": [
  {
   "cell_type": "markdown",
   "metadata": {},
   "source": [
    "# PAC sequences \n",
    "### import "
   ]
  },
  {
   "cell_type": "code",
   "execution_count": 27,
   "metadata": {},
   "outputs": [],
   "source": [
    "%matplotlib inline\n",
    "import pandas as pd\n",
    "import numpy as np\n",
    "import matplotlib\n",
    "import matplotlib.pyplot as plt\n",
    "import scipy.io as scio\n",
    "import os\n",
    "import pac\n",
    "import mne\n",
    "import pickle\n",
    "import itertools\n",
    "from numba import jit, cuda\n",
    "import functools as ft"
   ]
  },
  {
   "cell_type": "code",
   "execution_count": 28,
   "metadata": {},
   "outputs": [
    {
     "data": {
      "text/html": [
       "<div>\n",
       "<style scoped>\n",
       "    .dataframe tbody tr th:only-of-type {\n",
       "        vertical-align: middle;\n",
       "    }\n",
       "\n",
       "    .dataframe tbody tr th {\n",
       "        vertical-align: top;\n",
       "    }\n",
       "\n",
       "    .dataframe thead th {\n",
       "        text-align: right;\n",
       "    }\n",
       "</style>\n",
       "<table border=\"1\" class=\"dataframe\">\n",
       "  <thead>\n",
       "    <tr style=\"text-align: right;\">\n",
       "      <th></th>\n",
       "      <th>local_file_path</th>\n",
       "      <th>preprocessed_one</th>\n",
       "      <th>PAC_sequences_v1</th>\n",
       "    </tr>\n",
       "  </thead>\n",
       "  <tbody>\n",
       "    <tr>\n",
       "      <th>0</th>\n",
       "      <td>sub-001\\ses-01\\eeg\\</td>\n",
       "      <td>pre_sub-001_ses-01_task-Rest_eeg.set</td>\n",
       "      <td>PAC_sequences_selected_ch_sub-001_ses-01_task-...</td>\n",
       "    </tr>\n",
       "    <tr>\n",
       "      <th>1</th>\n",
       "      <td>sub-001\\ses-02\\eeg\\</td>\n",
       "      <td>pre_sub-001_ses-02_task-Rest_eeg.set</td>\n",
       "      <td>PAC_sequences_selected_ch_sub-001_ses-02_task-...</td>\n",
       "    </tr>\n",
       "    <tr>\n",
       "      <th>2</th>\n",
       "      <td>sub-002\\ses-01\\eeg\\</td>\n",
       "      <td>pre_sub-002_ses-01_task-Rest_eeg.set</td>\n",
       "      <td>PAC_sequences_selected_ch_sub-002_ses-01_task-...</td>\n",
       "    </tr>\n",
       "    <tr>\n",
       "      <th>3</th>\n",
       "      <td>sub-002\\ses-02\\eeg\\</td>\n",
       "      <td>pre_sub-002_ses-02_task-Rest_eeg.set</td>\n",
       "      <td>PAC_sequences_selected_ch_sub-002_ses-02_task-...</td>\n",
       "    </tr>\n",
       "    <tr>\n",
       "      <th>4</th>\n",
       "      <td>sub-003\\ses-01\\eeg\\</td>\n",
       "      <td>pre_sub-003_ses-01_task-Rest_eeg.set</td>\n",
       "      <td>PAC_sequence_selected_ch_sub-003_ses-01_task-R...</td>\n",
       "    </tr>\n",
       "    <tr>\n",
       "      <th>...</th>\n",
       "      <td>...</td>\n",
       "      <td>...</td>\n",
       "      <td>...</td>\n",
       "    </tr>\n",
       "    <tr>\n",
       "      <th>70</th>\n",
       "      <td>sub-046\\ses-01\\eeg\\</td>\n",
       "      <td>pre_sub-046_ses-01_task-Rest_eeg.set</td>\n",
       "      <td>PAC_sequence_selected_ch_sub-046_ses-01_task-R...</td>\n",
       "    </tr>\n",
       "    <tr>\n",
       "      <th>71</th>\n",
       "      <td>sub-047\\ses-01\\eeg\\</td>\n",
       "      <td>pre_sub-047_ses-01_task-Rest_eeg.set</td>\n",
       "      <td>PAC_sequence_selected_ch_sub-047_ses-01_task-R...</td>\n",
       "    </tr>\n",
       "    <tr>\n",
       "      <th>72</th>\n",
       "      <td>sub-048\\ses-01\\eeg\\</td>\n",
       "      <td>pre_sub-048_ses-01_task-Rest_eeg.set</td>\n",
       "      <td>PAC_sequence_selected_ch_sub-048_ses-01_task-R...</td>\n",
       "    </tr>\n",
       "    <tr>\n",
       "      <th>73</th>\n",
       "      <td>sub-049\\ses-01\\eeg\\</td>\n",
       "      <td>pre_sub-049_ses-01_task-Rest_eeg.set</td>\n",
       "      <td>PAC_sequence_selected_ch_sub-049_ses-01_task-R...</td>\n",
       "    </tr>\n",
       "    <tr>\n",
       "      <th>74</th>\n",
       "      <td>sub-050\\ses-01\\eeg\\</td>\n",
       "      <td>pre_sub-050_ses-01_task-Rest_eeg.set</td>\n",
       "      <td>PAC_sequence_selected_ch_sub-050_ses-01_task-R...</td>\n",
       "    </tr>\n",
       "  </tbody>\n",
       "</table>\n",
       "<p>75 rows × 3 columns</p>\n",
       "</div>"
      ],
      "text/plain": [
       "        local_file_path                      preprocessed_one  \\\n",
       "0   sub-001\\ses-01\\eeg\\  pre_sub-001_ses-01_task-Rest_eeg.set   \n",
       "1   sub-001\\ses-02\\eeg\\  pre_sub-001_ses-02_task-Rest_eeg.set   \n",
       "2   sub-002\\ses-01\\eeg\\  pre_sub-002_ses-01_task-Rest_eeg.set   \n",
       "3   sub-002\\ses-02\\eeg\\  pre_sub-002_ses-02_task-Rest_eeg.set   \n",
       "4   sub-003\\ses-01\\eeg\\  pre_sub-003_ses-01_task-Rest_eeg.set   \n",
       "..                  ...                                   ...   \n",
       "70  sub-046\\ses-01\\eeg\\  pre_sub-046_ses-01_task-Rest_eeg.set   \n",
       "71  sub-047\\ses-01\\eeg\\  pre_sub-047_ses-01_task-Rest_eeg.set   \n",
       "72  sub-048\\ses-01\\eeg\\  pre_sub-048_ses-01_task-Rest_eeg.set   \n",
       "73  sub-049\\ses-01\\eeg\\  pre_sub-049_ses-01_task-Rest_eeg.set   \n",
       "74  sub-050\\ses-01\\eeg\\  pre_sub-050_ses-01_task-Rest_eeg.set   \n",
       "\n",
       "                                     PAC_sequences_v1  \n",
       "0   PAC_sequences_selected_ch_sub-001_ses-01_task-...  \n",
       "1   PAC_sequences_selected_ch_sub-001_ses-02_task-...  \n",
       "2   PAC_sequences_selected_ch_sub-002_ses-01_task-...  \n",
       "3   PAC_sequences_selected_ch_sub-002_ses-02_task-...  \n",
       "4   PAC_sequence_selected_ch_sub-003_ses-01_task-R...  \n",
       "..                                                ...  \n",
       "70  PAC_sequence_selected_ch_sub-046_ses-01_task-R...  \n",
       "71  PAC_sequence_selected_ch_sub-047_ses-01_task-R...  \n",
       "72  PAC_sequence_selected_ch_sub-048_ses-01_task-R...  \n",
       "73  PAC_sequence_selected_ch_sub-049_ses-01_task-R...  \n",
       "74  PAC_sequence_selected_ch_sub-050_ses-01_task-R...  \n",
       "\n",
       "[75 rows x 3 columns]"
      ]
     },
     "execution_count": 28,
     "metadata": {},
     "output_type": "execute_result"
    }
   ],
   "source": [
    "list_files_path_name = pd.read_csv('..//task_track_files//task_track_file_pac_sequences_ch.csv',usecols=['local_file_path','preprocessed_one','PAC_sequences_v1'])\n",
    "num_task_file = list_files_path_name.shape[0]\n",
    "list_files_path_name"
   ]
  },
  {
   "cell_type": "markdown",
   "metadata": {},
   "source": [
    "## Set parameter"
   ]
  },
  {
   "cell_type": "code",
   "execution_count": 33,
   "metadata": {},
   "outputs": [
    {
     "ename": "KeyboardInterrupt",
     "evalue": "",
     "output_type": "error",
     "traceback": [
      "\u001b[1;31m---------------------------------------------------------------------------\u001b[0m",
      "\u001b[1;31mKeyboardInterrupt\u001b[0m                         Traceback (most recent call last)",
      "\u001b[1;32m~\\AppData\\Local\\Temp/ipykernel_9716/899038753.py\u001b[0m in \u001b[0;36m<module>\u001b[1;34m\u001b[0m\n\u001b[0;32m     44\u001b[0m \u001b[0mt\u001b[0m \u001b[1;33m=\u001b[0m \u001b[0mnp\u001b[0m\u001b[1;33m.\u001b[0m\u001b[0mwhere\u001b[0m\u001b[1;33m(\u001b[0m\u001b[0mtemp\u001b[0m\u001b[1;33m)\u001b[0m\u001b[1;33m\u001b[0m\u001b[1;33m\u001b[0m\u001b[0m\n\u001b[0;32m     45\u001b[0m \u001b[0mindex_selected_ch\u001b[0m \u001b[1;33m=\u001b[0m \u001b[0mt\u001b[0m\u001b[1;33m[\u001b[0m\u001b[1;36m0\u001b[0m\u001b[1;33m]\u001b[0m\u001b[1;33m\u001b[0m\u001b[1;33m\u001b[0m\u001b[0m\n\u001b[1;32m---> 46\u001b[1;33m \u001b[0mh\u001b[0m\u001b[1;33m=\u001b[0m\u001b[1;36m1\u001b[0m\u001b[1;33m\u001b[0m\u001b[1;33m\u001b[0m\u001b[0m\n\u001b[0m",
      "\u001b[1;32m~\\AppData\\Local\\Temp/ipykernel_9716/899038753.py\u001b[0m in \u001b[0;36m<module>\u001b[1;34m\u001b[0m\n\u001b[0;32m     44\u001b[0m \u001b[0mt\u001b[0m \u001b[1;33m=\u001b[0m \u001b[0mnp\u001b[0m\u001b[1;33m.\u001b[0m\u001b[0mwhere\u001b[0m\u001b[1;33m(\u001b[0m\u001b[0mtemp\u001b[0m\u001b[1;33m)\u001b[0m\u001b[1;33m\u001b[0m\u001b[1;33m\u001b[0m\u001b[0m\n\u001b[0;32m     45\u001b[0m \u001b[0mindex_selected_ch\u001b[0m \u001b[1;33m=\u001b[0m \u001b[0mt\u001b[0m\u001b[1;33m[\u001b[0m\u001b[1;36m0\u001b[0m\u001b[1;33m]\u001b[0m\u001b[1;33m\u001b[0m\u001b[1;33m\u001b[0m\u001b[0m\n\u001b[1;32m---> 46\u001b[1;33m \u001b[0mh\u001b[0m\u001b[1;33m=\u001b[0m\u001b[1;36m1\u001b[0m\u001b[1;33m\u001b[0m\u001b[1;33m\u001b[0m\u001b[0m\n\u001b[0m",
      "\u001b[1;32m_pydevd_bundle/pydevd_cython.pyx\u001b[0m in \u001b[0;36m_pydevd_bundle.pydevd_cython.SafeCallWrapper.__call__\u001b[1;34m()\u001b[0m\n",
      "\u001b[1;32m_pydevd_bundle/pydevd_cython.pyx\u001b[0m in \u001b[0;36m_pydevd_bundle.pydevd_cython.PyDBFrame.trace_dispatch\u001b[1;34m()\u001b[0m\n",
      "\u001b[1;32m_pydevd_bundle/pydevd_cython.pyx\u001b[0m in \u001b[0;36m_pydevd_bundle.pydevd_cython.PyDBFrame.trace_dispatch\u001b[1;34m()\u001b[0m\n",
      "\u001b[1;32m_pydevd_bundle/pydevd_cython.pyx\u001b[0m in \u001b[0;36m_pydevd_bundle.pydevd_cython.PyDBFrame.trace_dispatch\u001b[1;34m()\u001b[0m\n",
      "\u001b[1;32m_pydevd_bundle/pydevd_cython.pyx\u001b[0m in \u001b[0;36m_pydevd_bundle.pydevd_cython.PyDBFrame.do_wait_suspend\u001b[1;34m()\u001b[0m\n",
      "\u001b[1;32m~\\anaconda3\\envs\\neuroscience\\lib\\site-packages\\debugpy\\_vendored\\pydevd\\pydevd.py\u001b[0m in \u001b[0;36mdo_wait_suspend\u001b[1;34m(self, thread, frame, event, arg, exception_type)\u001b[0m\n\u001b[0;32m   1947\u001b[0m \u001b[1;33m\u001b[0m\u001b[0m\n\u001b[0;32m   1948\u001b[0m             \u001b[1;32mwith\u001b[0m \u001b[0mself\u001b[0m\u001b[1;33m.\u001b[0m\u001b[0m_threads_suspended_single_notification\u001b[0m\u001b[1;33m.\u001b[0m\u001b[0mnotify_thread_suspended\u001b[0m\u001b[1;33m(\u001b[0m\u001b[0mthread_id\u001b[0m\u001b[1;33m,\u001b[0m \u001b[0mstop_reason\u001b[0m\u001b[1;33m)\u001b[0m\u001b[1;33m:\u001b[0m\u001b[1;33m\u001b[0m\u001b[1;33m\u001b[0m\u001b[0m\n\u001b[1;32m-> 1949\u001b[1;33m                 \u001b[0mkeep_suspended\u001b[0m \u001b[1;33m=\u001b[0m \u001b[0mself\u001b[0m\u001b[1;33m.\u001b[0m\u001b[0m_do_wait_suspend\u001b[0m\u001b[1;33m(\u001b[0m\u001b[0mthread\u001b[0m\u001b[1;33m,\u001b[0m \u001b[0mframe\u001b[0m\u001b[1;33m,\u001b[0m \u001b[0mevent\u001b[0m\u001b[1;33m,\u001b[0m \u001b[0marg\u001b[0m\u001b[1;33m,\u001b[0m \u001b[0msuspend_type\u001b[0m\u001b[1;33m,\u001b[0m \u001b[0mfrom_this_thread\u001b[0m\u001b[1;33m,\u001b[0m \u001b[0mframes_tracker\u001b[0m\u001b[1;33m)\u001b[0m\u001b[1;33m\u001b[0m\u001b[1;33m\u001b[0m\u001b[0m\n\u001b[0m\u001b[0;32m   1950\u001b[0m \u001b[1;33m\u001b[0m\u001b[0m\n\u001b[0;32m   1951\u001b[0m         \u001b[0mframes_list\u001b[0m \u001b[1;33m=\u001b[0m \u001b[1;32mNone\u001b[0m\u001b[1;33m\u001b[0m\u001b[1;33m\u001b[0m\u001b[0m\n",
      "\u001b[1;32m~\\anaconda3\\envs\\neuroscience\\lib\\site-packages\\debugpy\\_vendored\\pydevd\\pydevd.py\u001b[0m in \u001b[0;36m_do_wait_suspend\u001b[1;34m(self, thread, frame, event, arg, suspend_type, from_this_thread, frames_tracker)\u001b[0m\n\u001b[0;32m   1982\u001b[0m \u001b[1;33m\u001b[0m\u001b[0m\n\u001b[0;32m   1983\u001b[0m             \u001b[0mself\u001b[0m\u001b[1;33m.\u001b[0m\u001b[0mprocess_internal_commands\u001b[0m\u001b[1;33m(\u001b[0m\u001b[1;33m)\u001b[0m\u001b[1;33m\u001b[0m\u001b[1;33m\u001b[0m\u001b[0m\n\u001b[1;32m-> 1984\u001b[1;33m             \u001b[0mtime\u001b[0m\u001b[1;33m.\u001b[0m\u001b[0msleep\u001b[0m\u001b[1;33m(\u001b[0m\u001b[1;36m0.01\u001b[0m\u001b[1;33m)\u001b[0m\u001b[1;33m\u001b[0m\u001b[1;33m\u001b[0m\u001b[0m\n\u001b[0m\u001b[0;32m   1985\u001b[0m \u001b[1;33m\u001b[0m\u001b[0m\n\u001b[0;32m   1986\u001b[0m         \u001b[0mself\u001b[0m\u001b[1;33m.\u001b[0m\u001b[0mcancel_async_evaluation\u001b[0m\u001b[1;33m(\u001b[0m\u001b[0mget_current_thread_id\u001b[0m\u001b[1;33m(\u001b[0m\u001b[0mthread\u001b[0m\u001b[1;33m)\u001b[0m\u001b[1;33m,\u001b[0m \u001b[0mstr\u001b[0m\u001b[1;33m(\u001b[0m\u001b[0mid\u001b[0m\u001b[1;33m(\u001b[0m\u001b[0mframe\u001b[0m\u001b[1;33m)\u001b[0m\u001b[1;33m)\u001b[0m\u001b[1;33m)\u001b[0m\u001b[1;33m\u001b[0m\u001b[1;33m\u001b[0m\u001b[0m\n",
      "\u001b[1;31mKeyboardInterrupt\u001b[0m: "
     ]
    }
   ],
   "source": [
    "Path = 'D:\\Mastersharif\\MasterProject\\data\\parkinsons-oddball'\n",
    "montage = mne.channels.read_custom_montage('Standard-10-20-Cap81.locs')\n",
    "# set timing for s200 and s201 and s202\n",
    "tmax = 1.450\n",
    "tmin = 0.250\n",
    "num_sample_start = int(tmin/0.002)\n",
    "num_sample_final = int(tmax/0.002)\n",
    "periods = {'S200':[num_sample_start,num_sample_final],'S201':[num_sample_start,num_sample_final]}\n",
    "tmin = -0.2\n",
    "tmax = 1\n",
    "num_sample_start = int(tmin/0.002)\n",
    "num_sample_final = int(tmax/0.002)\n",
    "periods['S202'] = (num_sample_start,num_sample_final)\n",
    "baseline = {}\n",
    "tb1 = 0.250\n",
    "tb2 = 0.450\n",
    "num_sample_start = tb1/0.002\n",
    "num_sample_final = tb2/0.002\n",
    "baseline['S200'] =(num_sample_start,num_sample_final)\n",
    "baseline['S201'] = (num_sample_start,num_sample_final) \n",
    "tb1 = -0.2\n",
    "tb2 = 0.0\n",
    "num_sample_start = tb1/0.002\n",
    "num_sample_final = tb2/0.002\n",
    "baseline['S202'] = (num_sample_start,num_sample_final)\n",
    "\n",
    "start_time = -200\n",
    "end_time = 1000\n",
    "\n",
    "nobaseline = False\n",
    "\n",
    "High_fre = 30\n",
    "Low_fre = 6\n",
    "\n",
    "start_sample = np.int32((start_time+200)/2)\n",
    "\n",
    "end_sample = np.int32((end_time+200)/2)\n",
    "\n",
    "with open('..\\data\\channels_name.pkl', 'rb') as f:\n",
    "        channels_name = pickle.load(f)\n",
    "\n",
    "temp = list(map(lambda x: x in ['AF8','AF7','Fp1','Fp2'],channels_name))\n",
    "\n",
    "t = np.where(temp)\n",
    "index_selected_ch = t[0]\n",
    "h=1\n"
   ]
  },
  {
   "cell_type": "code",
   "execution_count": 46,
   "metadata": {},
   "outputs": [
    {
     "name": "stderr",
     "output_type": "stream",
     "text": [
      "C:\\Users\\Mohammad\\AppData\\Local\\Temp/ipykernel_9716/2873434368.py:1: NumbaWarning: \u001b[1m\n",
      "Compilation is falling back to object mode WITH looplifting enabled because Function \"PAC_sequences_cal\" failed type inference due to: \u001b[1mUntyped global name 'list_files_path_name':\u001b[0m \u001b[1m\u001b[1mCannot determine Numba type of <class 'pandas.core.frame.DataFrame'>\u001b[0m\n",
      "\u001b[1m\n",
      "File \"C:\\Users\\Mohammad\\AppData\\Local\\Temp\\ipykernel_9716\\2873434368.py\", line 4:\u001b[0m\n",
      "\u001b[1m<source missing, REPL/exec in use?>\u001b[0m\n",
      "\u001b[0m\u001b[0m\n",
      "  @jit(parallel=True)\n",
      "C:\\Users\\Mohammad\\AppData\\Local\\Temp/ipykernel_9716/2873434368.py:1: NumbaWarning: \u001b[1m\n",
      "Compilation is falling back to object mode WITHOUT looplifting enabled because Function \"PAC_sequences_cal\" failed type inference due to: \u001b[1m\u001b[1mCannot determine Numba type of <class 'numba.core.dispatcher.LiftedLoop'>\u001b[0m\n",
      "\u001b[1m\n",
      "File \"C:\\Users\\Mohammad\\AppData\\Local\\Temp\\ipykernel_9716\\2873434368.py\", line 3:\u001b[0m\n",
      "\u001b[1m<source missing, REPL/exec in use?>\u001b[0m\n",
      "\u001b[0m\u001b[0m\n",
      "  @jit(parallel=True)\n",
      "C:\\Users\\Mohammad\\anaconda3\\envs\\neuroscience\\lib\\site-packages\\numba\\core\\object_mode_passes.py:151: NumbaWarning: \u001b[1mFunction \"PAC_sequences_cal\" was compiled in object mode without forceobj=True, but has lifted loops.\n",
      "\u001b[1m\n",
      "File \"C:\\Users\\Mohammad\\AppData\\Local\\Temp\\ipykernel_9716\\2873434368.py\", line 3:\u001b[0m\n",
      "\u001b[1m<source missing, REPL/exec in use?>\u001b[0m\n",
      "\u001b[0m\n",
      "  warnings.warn(errors.NumbaWarning(warn_msg,\n",
      "C:\\Users\\Mohammad\\anaconda3\\envs\\neuroscience\\lib\\site-packages\\numba\\core\\object_mode_passes.py:161: NumbaDeprecationWarning: \u001b[1m\n",
      "Fall-back from the nopython compilation path to the object mode compilation path has been detected, this is deprecated behaviour.\n",
      "\n",
      "For more information visit https://numba.pydata.org/numba-doc/latest/reference/deprecation.html#deprecation-of-object-mode-fall-back-behaviour-when-using-jit\n",
      "\u001b[1m\n",
      "File \"C:\\Users\\Mohammad\\AppData\\Local\\Temp\\ipykernel_9716\\2873434368.py\", line 3:\u001b[0m\n",
      "\u001b[1m<source missing, REPL/exec in use?>\u001b[0m\n",
      "\u001b[0m\n",
      "  warnings.warn(errors.NumbaDeprecationWarning(msg,\n",
      "C:\\Users\\Mohammad\\AppData\\Local\\Temp/ipykernel_9716/2873434368.py:1: NumbaWarning: \u001b[1m\n",
      "Compilation is falling back to object mode WITHOUT looplifting enabled because Function \"PAC_sequences_cal\" failed type inference due to: \u001b[1mUntyped global name 'list_files_path_name':\u001b[0m \u001b[1m\u001b[1mCannot determine Numba type of <class 'pandas.core.frame.DataFrame'>\u001b[0m\n",
      "\u001b[1m\n",
      "File \"C:\\Users\\Mohammad\\AppData\\Local\\Temp\\ipykernel_9716\\2873434368.py\", line 4:\u001b[0m\n",
      "\u001b[1m<source missing, REPL/exec in use?>\u001b[0m\n",
      "\u001b[0m\u001b[0m\n",
      "  @jit(parallel=True)\n"
     ]
    },
    {
     "name": "stdout",
     "output_type": "stream",
     "text": [
      "Reading D:\\Mastersharif\\MasterProject\\data\\parkinsons-oddball\\sub-009\\ses-01\\eeg\\pre_sub-009_ses-01_task-Rest_eeg.fdt\n",
      "Reading 0 ... 238324  =      0.000 ...   476.648 secs...\n"
     ]
    },
    {
     "name": "stderr",
     "output_type": "stream",
     "text": [
      "C:\\Users\\Mohammad\\anaconda3\\envs\\neuroscience\\lib\\site-packages\\numba\\core\\object_mode_passes.py:151: NumbaWarning: \u001b[1mFunction \"PAC_sequences_cal\" was compiled in object mode without forceobj=True.\n",
      "\u001b[1m\n",
      "File \"C:\\Users\\Mohammad\\AppData\\Local\\Temp\\ipykernel_9716\\2873434368.py\", line 3:\u001b[0m\n",
      "\u001b[1m<source missing, REPL/exec in use?>\u001b[0m\n",
      "\u001b[0m\n",
      "  warnings.warn(errors.NumbaWarning(warn_msg,\n",
      "C:\\Users\\Mohammad\\anaconda3\\envs\\neuroscience\\lib\\site-packages\\numba\\core\\object_mode_passes.py:161: NumbaDeprecationWarning: \u001b[1m\n",
      "Fall-back from the nopython compilation path to the object mode compilation path has been detected, this is deprecated behaviour.\n",
      "\n",
      "For more information visit https://numba.pydata.org/numba-doc/latest/reference/deprecation.html#deprecation-of-object-mode-fall-back-behaviour-when-using-jit\n",
      "\u001b[1m\n",
      "File \"C:\\Users\\Mohammad\\AppData\\Local\\Temp\\ipykernel_9716\\2873434368.py\", line 3:\u001b[0m\n",
      "\u001b[1m<source missing, REPL/exec in use?>\u001b[0m\n",
      "\u001b[0m\n",
      "  warnings.warn(errors.NumbaDeprecationWarning(msg,\n",
      "C:\\Users\\Mohammad\\AppData\\Local\\Temp/ipykernel_9716/2873434368.py:73: RuntimeWarning: The data contains 'boundary' events, indicating data discontinuities. Be cautious of filtering and epoching around these events.\n",
      "  PAC_sequences_cal()\n"
     ]
    },
    {
     "name": "stdout",
     "output_type": "stream",
     "text": [
      "(63, 3)\n",
      "Reading D:\\Mastersharif\\MasterProject\\data\\parkinsons-oddball\\sub-009\\ses-02\\eeg\\pre_sub-009_ses-02_task-Rest_eeg.fdt\n",
      "Reading 0 ... 290824  =      0.000 ...   581.648 secs...\n"
     ]
    },
    {
     "name": "stderr",
     "output_type": "stream",
     "text": [
      "C:\\Users\\Mohammad\\AppData\\Local\\Temp/ipykernel_9716/2873434368.py:73: RuntimeWarning: The data contains 'boundary' events, indicating data discontinuities. Be cautious of filtering and epoching around these events.\n",
      "  PAC_sequences_cal()\n"
     ]
    },
    {
     "name": "stdout",
     "output_type": "stream",
     "text": [
      "(198, 3)\n",
      "Reading D:\\Mastersharif\\MasterProject\\data\\parkinsons-oddball\\sub-010\\ses-01\\eeg\\pre_sub-010_ses-01_task-Rest_eeg.fdt\n",
      "Reading 0 ... 283649  =      0.000 ...   567.298 secs...\n"
     ]
    },
    {
     "name": "stderr",
     "output_type": "stream",
     "text": [
      "C:\\Users\\Mohammad\\AppData\\Local\\Temp/ipykernel_9716/2873434368.py:73: RuntimeWarning: The data contains 'boundary' events, indicating data discontinuities. Be cautious of filtering and epoching around these events.\n",
      "  PAC_sequences_cal()\n"
     ]
    },
    {
     "name": "stdout",
     "output_type": "stream",
     "text": [
      "(196, 3)\n",
      "Reading D:\\Mastersharif\\MasterProject\\data\\parkinsons-oddball\\sub-010\\ses-02\\eeg\\pre_sub-010_ses-02_task-Rest_eeg.fdt\n",
      "Reading 0 ... 279749  =      0.000 ...   559.498 secs...\n"
     ]
    },
    {
     "name": "stderr",
     "output_type": "stream",
     "text": [
      "C:\\Users\\Mohammad\\AppData\\Local\\Temp/ipykernel_9716/2873434368.py:73: RuntimeWarning: The data contains 'boundary' events, indicating data discontinuities. Be cautious of filtering and epoching around these events.\n",
      "  PAC_sequences_cal()\n"
     ]
    },
    {
     "name": "stdout",
     "output_type": "stream",
     "text": [
      "(196, 3)\n",
      "Reading D:\\Mastersharif\\MasterProject\\data\\parkinsons-oddball\\sub-011\\ses-01\\eeg\\pre_sub-011_ses-01_task-Rest_eeg.fdt\n",
      "Reading 0 ... 292599  =      0.000 ...   585.198 secs...\n"
     ]
    },
    {
     "name": "stderr",
     "output_type": "stream",
     "text": [
      "C:\\Users\\Mohammad\\AppData\\Local\\Temp/ipykernel_9716/2873434368.py:73: RuntimeWarning: The data contains 'boundary' events, indicating data discontinuities. Be cautious of filtering and epoching around these events.\n",
      "  PAC_sequences_cal()\n"
     ]
    },
    {
     "name": "stdout",
     "output_type": "stream",
     "text": [
      "(197, 3)\n",
      "Reading D:\\Mastersharif\\MasterProject\\data\\parkinsons-oddball\\sub-011\\ses-02\\eeg\\pre_sub-011_ses-02_task-Rest_eeg.fdt\n",
      "Reading 0 ... 293499  =      0.000 ...   586.998 secs...\n"
     ]
    },
    {
     "name": "stderr",
     "output_type": "stream",
     "text": [
      "C:\\Users\\Mohammad\\AppData\\Local\\Temp/ipykernel_9716/2873434368.py:73: RuntimeWarning: The data contains 'boundary' events, indicating data discontinuities. Be cautious of filtering and epoching around these events.\n",
      "  PAC_sequences_cal()\n"
     ]
    },
    {
     "name": "stdout",
     "output_type": "stream",
     "text": [
      "(200, 3)\n",
      "Reading D:\\Mastersharif\\MasterProject\\data\\parkinsons-oddball\\sub-012\\ses-01\\eeg\\pre_sub-012_ses-01_task-Rest_eeg.fdt\n",
      "Reading 0 ... 300674  =      0.000 ...   601.348 secs...\n"
     ]
    },
    {
     "name": "stderr",
     "output_type": "stream",
     "text": [
      "C:\\Users\\Mohammad\\AppData\\Local\\Temp/ipykernel_9716/2873434368.py:73: RuntimeWarning: The data contains 'boundary' events, indicating data discontinuities. Be cautious of filtering and epoching around these events.\n",
      "  PAC_sequences_cal()\n"
     ]
    },
    {
     "name": "stdout",
     "output_type": "stream",
     "text": [
      "(196, 3)\n",
      "Reading D:\\Mastersharif\\MasterProject\\data\\parkinsons-oddball\\sub-012\\ses-02\\eeg\\pre_sub-012_ses-02_task-Rest_eeg.fdt\n",
      "Reading 0 ... 310649  =      0.000 ...   621.298 secs...\n"
     ]
    },
    {
     "name": "stderr",
     "output_type": "stream",
     "text": [
      "C:\\Users\\Mohammad\\AppData\\Local\\Temp/ipykernel_9716/2873434368.py:73: RuntimeWarning: The data contains 'boundary' events, indicating data discontinuities. Be cautious of filtering and epoching around these events.\n",
      "  PAC_sequences_cal()\n"
     ]
    },
    {
     "name": "stdout",
     "output_type": "stream",
     "text": [
      "(197, 3)\n",
      "Reading D:\\Mastersharif\\MasterProject\\data\\parkinsons-oddball\\sub-013\\ses-01\\eeg\\pre_sub-013_ses-01_task-Rest_eeg.fdt\n",
      "Reading 0 ... 293324  =      0.000 ...   586.648 secs...\n"
     ]
    },
    {
     "name": "stderr",
     "output_type": "stream",
     "text": [
      "C:\\Users\\Mohammad\\AppData\\Local\\Temp/ipykernel_9716/2873434368.py:73: RuntimeWarning: The data contains 'boundary' events, indicating data discontinuities. Be cautious of filtering and epoching around these events.\n",
      "  PAC_sequences_cal()\n"
     ]
    },
    {
     "name": "stdout",
     "output_type": "stream",
     "text": [
      "(200, 3)\n",
      "Reading D:\\Mastersharif\\MasterProject\\data\\parkinsons-oddball\\sub-013\\ses-02\\eeg\\pre_sub-013_ses-02_task-Rest_eeg.fdt\n",
      "Reading 0 ... 276899  =      0.000 ...   553.798 secs...\n"
     ]
    },
    {
     "name": "stderr",
     "output_type": "stream",
     "text": [
      "C:\\Users\\Mohammad\\AppData\\Local\\Temp/ipykernel_9716/2873434368.py:73: RuntimeWarning: The data contains 'boundary' events, indicating data discontinuities. Be cautious of filtering and epoching around these events.\n",
      "  PAC_sequences_cal()\n"
     ]
    },
    {
     "name": "stdout",
     "output_type": "stream",
     "text": [
      "(196, 3)\n",
      "Reading D:\\Mastersharif\\MasterProject\\data\\parkinsons-oddball\\sub-014\\ses-01\\eeg\\pre_sub-014_ses-01_task-Rest_eeg.fdt\n",
      "Reading 0 ... 291049  =      0.000 ...   582.098 secs...\n"
     ]
    },
    {
     "name": "stderr",
     "output_type": "stream",
     "text": [
      "C:\\Users\\Mohammad\\AppData\\Local\\Temp/ipykernel_9716/2873434368.py:73: RuntimeWarning: The data contains 'boundary' events, indicating data discontinuities. Be cautious of filtering and epoching around these events.\n",
      "  PAC_sequences_cal()\n"
     ]
    },
    {
     "name": "stdout",
     "output_type": "stream",
     "text": [
      "(198, 3)\n",
      "Reading D:\\Mastersharif\\MasterProject\\data\\parkinsons-oddball\\sub-014\\ses-02\\eeg\\pre_sub-014_ses-02_task-Rest_eeg.fdt\n",
      "Reading 0 ... 313299  =      0.000 ...   626.598 secs...\n"
     ]
    },
    {
     "name": "stderr",
     "output_type": "stream",
     "text": [
      "C:\\Users\\Mohammad\\AppData\\Local\\Temp/ipykernel_9716/2873434368.py:73: RuntimeWarning: The data contains 'boundary' events, indicating data discontinuities. Be cautious of filtering and epoching around these events.\n",
      "  PAC_sequences_cal()\n"
     ]
    },
    {
     "name": "stdout",
     "output_type": "stream",
     "text": [
      "(192, 3)\n",
      "Reading D:\\Mastersharif\\MasterProject\\data\\parkinsons-oddball\\sub-015\\ses-01\\eeg\\pre_sub-015_ses-01_task-Rest_eeg.fdt\n",
      "Reading 0 ... 295299  =      0.000 ...   590.598 secs...\n"
     ]
    },
    {
     "name": "stderr",
     "output_type": "stream",
     "text": [
      "C:\\Users\\Mohammad\\AppData\\Local\\Temp/ipykernel_9716/2873434368.py:73: RuntimeWarning: The data contains 'boundary' events, indicating data discontinuities. Be cautious of filtering and epoching around these events.\n",
      "  PAC_sequences_cal()\n"
     ]
    },
    {
     "name": "stdout",
     "output_type": "stream",
     "text": [
      "(195, 3)\n",
      "Reading D:\\Mastersharif\\MasterProject\\data\\parkinsons-oddball\\sub-015\\ses-02\\eeg\\pre_sub-015_ses-02_task-Rest_eeg.fdt\n",
      "Reading 0 ... 306724  =      0.000 ...   613.448 secs...\n"
     ]
    },
    {
     "name": "stderr",
     "output_type": "stream",
     "text": [
      "C:\\Users\\Mohammad\\AppData\\Local\\Temp/ipykernel_9716/2873434368.py:73: RuntimeWarning: The data contains 'boundary' events, indicating data discontinuities. Be cautious of filtering and epoching around these events.\n",
      "  PAC_sequences_cal()\n"
     ]
    },
    {
     "name": "stdout",
     "output_type": "stream",
     "text": [
      "(197, 3)\n",
      "Reading D:\\Mastersharif\\MasterProject\\data\\parkinsons-oddball\\sub-016\\ses-01\\eeg\\pre_sub-016_ses-01_task-Rest_eeg.fdt\n",
      "Reading 0 ... 310474  =      0.000 ...   620.948 secs...\n"
     ]
    },
    {
     "name": "stderr",
     "output_type": "stream",
     "text": [
      "C:\\Users\\Mohammad\\AppData\\Local\\Temp/ipykernel_9716/2873434368.py:73: RuntimeWarning: The data contains 'boundary' events, indicating data discontinuities. Be cautious of filtering and epoching around these events.\n",
      "  PAC_sequences_cal()\n"
     ]
    },
    {
     "name": "stdout",
     "output_type": "stream",
     "text": [
      "(197, 3)\n",
      "Reading D:\\Mastersharif\\MasterProject\\data\\parkinsons-oddball\\sub-016\\ses-02\\eeg\\pre_sub-016_ses-02_task-Rest_eeg.fdt\n",
      "Reading 0 ... 362599  =      0.000 ...   725.198 secs...\n"
     ]
    },
    {
     "name": "stderr",
     "output_type": "stream",
     "text": [
      "C:\\Users\\Mohammad\\AppData\\Local\\Temp/ipykernel_9716/2873434368.py:73: RuntimeWarning: The data contains 'boundary' events, indicating data discontinuities. Be cautious of filtering and epoching around these events.\n",
      "  PAC_sequences_cal()\n"
     ]
    },
    {
     "name": "stdout",
     "output_type": "stream",
     "text": [
      "(195, 3)\n",
      "Reading D:\\Mastersharif\\MasterProject\\data\\parkinsons-oddball\\sub-017\\ses-01\\eeg\\pre_sub-017_ses-01_task-Rest_eeg.fdt\n",
      "Reading 0 ... 336299  =      0.000 ...   672.598 secs...\n"
     ]
    },
    {
     "name": "stderr",
     "output_type": "stream",
     "text": [
      "C:\\Users\\Mohammad\\AppData\\Local\\Temp/ipykernel_9716/2873434368.py:73: RuntimeWarning: The data contains 'boundary' events, indicating data discontinuities. Be cautious of filtering and epoching around these events.\n",
      "  PAC_sequences_cal()\n"
     ]
    },
    {
     "name": "stdout",
     "output_type": "stream",
     "text": [
      "(196, 3)\n",
      "Reading D:\\Mastersharif\\MasterProject\\data\\parkinsons-oddball\\sub-017\\ses-02\\eeg\\pre_sub-017_ses-02_task-Rest_eeg.fdt\n",
      "Reading 0 ... 291149  =      0.000 ...   582.298 secs...\n"
     ]
    },
    {
     "name": "stderr",
     "output_type": "stream",
     "text": [
      "C:\\Users\\Mohammad\\AppData\\Local\\Temp/ipykernel_9716/2873434368.py:73: RuntimeWarning: The data contains 'boundary' events, indicating data discontinuities. Be cautious of filtering and epoching around these events.\n",
      "  PAC_sequences_cal()\n"
     ]
    },
    {
     "name": "stdout",
     "output_type": "stream",
     "text": [
      "(198, 3)\n",
      "Reading D:\\Mastersharif\\MasterProject\\data\\parkinsons-oddball\\sub-018\\ses-01\\eeg\\pre_sub-018_ses-01_task-Rest_eeg.fdt\n",
      "Reading 0 ... 293349  =      0.000 ...   586.698 secs...\n"
     ]
    },
    {
     "name": "stderr",
     "output_type": "stream",
     "text": [
      "C:\\Users\\Mohammad\\AppData\\Local\\Temp/ipykernel_9716/2873434368.py:73: RuntimeWarning: The data contains 'boundary' events, indicating data discontinuities. Be cautious of filtering and epoching around these events.\n",
      "  PAC_sequences_cal()\n"
     ]
    },
    {
     "name": "stdout",
     "output_type": "stream",
     "text": [
      "(197, 3)\n",
      "Reading D:\\Mastersharif\\MasterProject\\data\\parkinsons-oddball\\sub-018\\ses-02\\eeg\\pre_sub-018_ses-02_task-Rest_eeg.fdt\n",
      "Reading 0 ... 281749  =      0.000 ...   563.498 secs...\n"
     ]
    },
    {
     "name": "stderr",
     "output_type": "stream",
     "text": [
      "C:\\Users\\Mohammad\\AppData\\Local\\Temp/ipykernel_9716/2873434368.py:73: RuntimeWarning: The data contains 'boundary' events, indicating data discontinuities. Be cautious of filtering and epoching around these events.\n",
      "  PAC_sequences_cal()\n"
     ]
    },
    {
     "name": "stdout",
     "output_type": "stream",
     "text": [
      "(196, 3)\n",
      "Reading D:\\Mastersharif\\MasterProject\\data\\parkinsons-oddball\\sub-019\\ses-01\\eeg\\pre_sub-019_ses-01_task-Rest_eeg.fdt\n",
      "Reading 0 ... 432074  =      0.000 ...   864.148 secs...\n"
     ]
    },
    {
     "name": "stderr",
     "output_type": "stream",
     "text": [
      "C:\\Users\\Mohammad\\AppData\\Local\\Temp/ipykernel_9716/2873434368.py:73: RuntimeWarning: The data contains 'boundary' events, indicating data discontinuities. Be cautious of filtering and epoching around these events.\n",
      "  PAC_sequences_cal()\n"
     ]
    },
    {
     "name": "stdout",
     "output_type": "stream",
     "text": [
      "(198, 3)\n",
      "Reading D:\\Mastersharif\\MasterProject\\data\\parkinsons-oddball\\sub-019\\ses-02\\eeg\\pre_sub-019_ses-02_task-Rest_eeg.fdt\n",
      "Reading 0 ... 288874  =      0.000 ...   577.748 secs...\n"
     ]
    },
    {
     "name": "stderr",
     "output_type": "stream",
     "text": [
      "C:\\Users\\Mohammad\\AppData\\Local\\Temp/ipykernel_9716/2873434368.py:73: RuntimeWarning: The data contains 'boundary' events, indicating data discontinuities. Be cautious of filtering and epoching around these events.\n",
      "  PAC_sequences_cal()\n"
     ]
    },
    {
     "name": "stdout",
     "output_type": "stream",
     "text": [
      "(200, 3)\n",
      "Reading D:\\Mastersharif\\MasterProject\\data\\parkinsons-oddball\\sub-020\\ses-01\\eeg\\pre_sub-020_ses-01_task-Rest_eeg.fdt\n",
      "Reading 0 ... 304474  =      0.000 ...   608.948 secs...\n"
     ]
    },
    {
     "name": "stderr",
     "output_type": "stream",
     "text": [
      "C:\\Users\\Mohammad\\AppData\\Local\\Temp/ipykernel_9716/2873434368.py:73: RuntimeWarning: The data contains 'boundary' events, indicating data discontinuities. Be cautious of filtering and epoching around these events.\n",
      "  PAC_sequences_cal()\n"
     ]
    },
    {
     "name": "stdout",
     "output_type": "stream",
     "text": [
      "(199, 3)\n",
      "Reading D:\\Mastersharif\\MasterProject\\data\\parkinsons-oddball\\sub-020\\ses-02\\eeg\\pre_sub-020_ses-02_task-Rest_eeg.fdt\n",
      "Reading 0 ... 285199  =      0.000 ...   570.398 secs...\n"
     ]
    },
    {
     "name": "stderr",
     "output_type": "stream",
     "text": [
      "C:\\Users\\Mohammad\\AppData\\Local\\Temp/ipykernel_9716/2873434368.py:73: RuntimeWarning: The data contains 'boundary' events, indicating data discontinuities. Be cautious of filtering and epoching around these events.\n",
      "  PAC_sequences_cal()\n"
     ]
    },
    {
     "name": "stdout",
     "output_type": "stream",
     "text": [
      "(197, 3)\n",
      "Reading D:\\Mastersharif\\MasterProject\\data\\parkinsons-oddball\\sub-021\\ses-01\\eeg\\pre_sub-021_ses-01_task-Rest_eeg.fdt\n",
      "Reading 0 ... 275724  =      0.000 ...   551.448 secs...\n"
     ]
    },
    {
     "name": "stderr",
     "output_type": "stream",
     "text": [
      "C:\\Users\\Mohammad\\AppData\\Local\\Temp/ipykernel_9716/2873434368.py:73: RuntimeWarning: The data contains 'boundary' events, indicating data discontinuities. Be cautious of filtering and epoching around these events.\n",
      "  PAC_sequences_cal()\n"
     ]
    },
    {
     "name": "stdout",
     "output_type": "stream",
     "text": [
      "(198, 3)\n",
      "Reading D:\\Mastersharif\\MasterProject\\data\\parkinsons-oddball\\sub-021\\ses-02\\eeg\\pre_sub-021_ses-02_task-Rest_eeg.fdt\n",
      "Reading 0 ... 277299  =      0.000 ...   554.598 secs...\n"
     ]
    },
    {
     "name": "stderr",
     "output_type": "stream",
     "text": [
      "C:\\Users\\Mohammad\\AppData\\Local\\Temp/ipykernel_9716/2873434368.py:73: RuntimeWarning: The data contains 'boundary' events, indicating data discontinuities. Be cautious of filtering and epoching around these events.\n",
      "  PAC_sequences_cal()\n"
     ]
    },
    {
     "name": "stdout",
     "output_type": "stream",
     "text": [
      "(197, 3)\n",
      "Reading D:\\Mastersharif\\MasterProject\\data\\parkinsons-oddball\\sub-022\\ses-01\\eeg\\pre_sub-022_ses-01_task-Rest_eeg.fdt\n",
      "Reading 0 ... 330574  =      0.000 ...   661.148 secs...\n"
     ]
    },
    {
     "name": "stderr",
     "output_type": "stream",
     "text": [
      "C:\\Users\\Mohammad\\AppData\\Local\\Temp/ipykernel_9716/2873434368.py:73: RuntimeWarning: The data contains 'boundary' events, indicating data discontinuities. Be cautious of filtering and epoching around these events.\n",
      "  PAC_sequences_cal()\n"
     ]
    },
    {
     "name": "stdout",
     "output_type": "stream",
     "text": [
      "(197, 3)\n",
      "Reading D:\\Mastersharif\\MasterProject\\data\\parkinsons-oddball\\sub-022\\ses-02\\eeg\\pre_sub-022_ses-02_task-Rest_eeg.fdt\n",
      "Reading 0 ... 435049  =      0.000 ...   870.098 secs...\n"
     ]
    },
    {
     "name": "stderr",
     "output_type": "stream",
     "text": [
      "C:\\Users\\Mohammad\\AppData\\Local\\Temp/ipykernel_9716/2873434368.py:73: RuntimeWarning: The data contains 'boundary' events, indicating data discontinuities. Be cautious of filtering and epoching around these events.\n",
      "  PAC_sequences_cal()\n"
     ]
    },
    {
     "name": "stdout",
     "output_type": "stream",
     "text": [
      "(197, 3)\n",
      "Reading D:\\Mastersharif\\MasterProject\\data\\parkinsons-oddball\\sub-023\\ses-01\\eeg\\pre_sub-023_ses-01_task-Rest_eeg.fdt\n",
      "Reading 0 ... 259474  =      0.000 ...   518.948 secs...\n"
     ]
    },
    {
     "name": "stderr",
     "output_type": "stream",
     "text": [
      "C:\\Users\\Mohammad\\AppData\\Local\\Temp/ipykernel_9716/2873434368.py:73: RuntimeWarning: The data contains 'boundary' events, indicating data discontinuities. Be cautious of filtering and epoching around these events.\n",
      "  PAC_sequences_cal()\n"
     ]
    },
    {
     "name": "stdout",
     "output_type": "stream",
     "text": [
      "(196, 3)\n",
      "Reading D:\\Mastersharif\\MasterProject\\data\\parkinsons-oddball\\sub-023\\ses-02\\eeg\\pre_sub-023_ses-02_task-Rest_eeg.fdt\n",
      "Reading 0 ... 253524  =      0.000 ...   507.048 secs...\n"
     ]
    },
    {
     "name": "stderr",
     "output_type": "stream",
     "text": [
      "C:\\Users\\Mohammad\\AppData\\Local\\Temp/ipykernel_9716/2873434368.py:73: RuntimeWarning: The data contains 'boundary' events, indicating data discontinuities. Be cautious of filtering and epoching around these events.\n",
      "  PAC_sequences_cal()\n"
     ]
    },
    {
     "name": "stdout",
     "output_type": "stream",
     "text": [
      "(197, 3)\n",
      "Reading D:\\Mastersharif\\MasterProject\\data\\parkinsons-oddball\\sub-024\\ses-01\\eeg\\pre_sub-024_ses-01_task-Rest_eeg.fdt\n",
      "Reading 0 ... 259099  =      0.000 ...   518.198 secs...\n"
     ]
    },
    {
     "name": "stderr",
     "output_type": "stream",
     "text": [
      "C:\\Users\\Mohammad\\AppData\\Local\\Temp/ipykernel_9716/2873434368.py:73: RuntimeWarning: The data contains 'boundary' events, indicating data discontinuities. Be cautious of filtering and epoching around these events.\n",
      "  PAC_sequences_cal()\n"
     ]
    },
    {
     "name": "stdout",
     "output_type": "stream",
     "text": [
      "(197, 3)\n",
      "Reading D:\\Mastersharif\\MasterProject\\data\\parkinsons-oddball\\sub-024\\ses-02\\eeg\\pre_sub-024_ses-02_task-Rest_eeg.fdt\n",
      "Reading 0 ... 266449  =      0.000 ...   532.898 secs...\n"
     ]
    },
    {
     "name": "stderr",
     "output_type": "stream",
     "text": [
      "C:\\Users\\Mohammad\\AppData\\Local\\Temp/ipykernel_9716/2873434368.py:73: RuntimeWarning: The data contains 'boundary' events, indicating data discontinuities. Be cautious of filtering and epoching around these events.\n",
      "  PAC_sequences_cal()\n"
     ]
    },
    {
     "name": "stdout",
     "output_type": "stream",
     "text": [
      "(192, 3)\n",
      "Reading D:\\Mastersharif\\MasterProject\\data\\parkinsons-oddball\\sub-025\\ses-01\\eeg\\pre_sub-025_ses-01_task-Rest_eeg.fdt\n",
      "Reading 0 ... 303099  =      0.000 ...   606.198 secs...\n"
     ]
    },
    {
     "name": "stderr",
     "output_type": "stream",
     "text": [
      "C:\\Users\\Mohammad\\AppData\\Local\\Temp/ipykernel_9716/2873434368.py:73: RuntimeWarning: The data contains 'boundary' events, indicating data discontinuities. Be cautious of filtering and epoching around these events.\n",
      "  PAC_sequences_cal()\n"
     ]
    },
    {
     "name": "stdout",
     "output_type": "stream",
     "text": [
      "(199, 3)\n",
      "Reading D:\\Mastersharif\\MasterProject\\data\\parkinsons-oddball\\sub-025\\ses-02\\eeg\\pre_sub-025_ses-02_task-Rest_eeg.fdt\n",
      "Reading 0 ... 312624  =      0.000 ...   625.248 secs...\n"
     ]
    },
    {
     "name": "stderr",
     "output_type": "stream",
     "text": [
      "C:\\Users\\Mohammad\\AppData\\Local\\Temp/ipykernel_9716/2873434368.py:73: RuntimeWarning: The data contains 'boundary' events, indicating data discontinuities. Be cautious of filtering and epoching around these events.\n",
      "  PAC_sequences_cal()\n"
     ]
    },
    {
     "name": "stdout",
     "output_type": "stream",
     "text": [
      "(195, 3)\n",
      "Reading D:\\Mastersharif\\MasterProject\\data\\parkinsons-oddball\\sub-026\\ses-01\\eeg\\pre_sub-026_ses-01_task-Rest_eeg.fdt\n",
      "Reading 0 ... 290624  =      0.000 ...   581.248 secs...\n"
     ]
    },
    {
     "name": "stderr",
     "output_type": "stream",
     "text": [
      "C:\\Users\\Mohammad\\AppData\\Local\\Temp/ipykernel_9716/2873434368.py:73: RuntimeWarning: The data contains 'boundary' events, indicating data discontinuities. Be cautious of filtering and epoching around these events.\n",
      "  PAC_sequences_cal()\n"
     ]
    },
    {
     "name": "stdout",
     "output_type": "stream",
     "text": [
      "(198, 3)\n",
      "Reading D:\\Mastersharif\\MasterProject\\data\\parkinsons-oddball\\sub-026\\ses-02\\eeg\\pre_sub-026_ses-02_task-Rest_eeg.fdt\n",
      "Reading 0 ... 333574  =      0.000 ...   667.148 secs...\n"
     ]
    },
    {
     "name": "stderr",
     "output_type": "stream",
     "text": [
      "C:\\Users\\Mohammad\\AppData\\Local\\Temp/ipykernel_9716/2873434368.py:73: RuntimeWarning: The data contains 'boundary' events, indicating data discontinuities. Be cautious of filtering and epoching around these events.\n",
      "  PAC_sequences_cal()\n"
     ]
    },
    {
     "name": "stdout",
     "output_type": "stream",
     "text": [
      "(196, 3)\n",
      "Reading D:\\Mastersharif\\MasterProject\\data\\parkinsons-oddball\\sub-027\\ses-01\\eeg\\pre_sub-027_ses-01_task-Rest_eeg.fdt\n",
      "Reading 0 ... 324199  =      0.000 ...   648.398 secs...\n"
     ]
    },
    {
     "name": "stderr",
     "output_type": "stream",
     "text": [
      "C:\\Users\\Mohammad\\AppData\\Local\\Temp/ipykernel_9716/2873434368.py:73: RuntimeWarning: The data contains 'boundary' events, indicating data discontinuities. Be cautious of filtering and epoching around these events.\n",
      "  PAC_sequences_cal()\n"
     ]
    },
    {
     "name": "stdout",
     "output_type": "stream",
     "text": [
      "(196, 3)\n",
      "Reading D:\\Mastersharif\\MasterProject\\data\\parkinsons-oddball\\sub-027\\ses-02\\eeg\\pre_sub-027_ses-02_task-Rest_eeg.fdt\n",
      "Reading 0 ... 311424  =      0.000 ...   622.848 secs...\n"
     ]
    },
    {
     "name": "stderr",
     "output_type": "stream",
     "text": [
      "C:\\Users\\Mohammad\\AppData\\Local\\Temp/ipykernel_9716/2873434368.py:73: RuntimeWarning: The data contains 'boundary' events, indicating data discontinuities. Be cautious of filtering and epoching around these events.\n",
      "  PAC_sequences_cal()\n"
     ]
    },
    {
     "name": "stdout",
     "output_type": "stream",
     "text": [
      "(198, 3)\n",
      "Reading D:\\Mastersharif\\MasterProject\\data\\parkinsons-oddball\\sub-028\\ses-01\\eeg\\pre_sub-028_ses-01_task-Rest_eeg.fdt\n",
      "Reading 0 ... 278124  =      0.000 ...   556.248 secs...\n"
     ]
    },
    {
     "name": "stderr",
     "output_type": "stream",
     "text": [
      "C:\\Users\\Mohammad\\AppData\\Local\\Temp/ipykernel_9716/2873434368.py:73: RuntimeWarning: The data contains 'boundary' events, indicating data discontinuities. Be cautious of filtering and epoching around these events.\n",
      "  PAC_sequences_cal()\n"
     ]
    },
    {
     "name": "stdout",
     "output_type": "stream",
     "text": [
      "(196, 3)\n",
      "Reading D:\\Mastersharif\\MasterProject\\data\\parkinsons-oddball\\sub-029\\ses-01\\eeg\\pre_sub-029_ses-01_task-Rest_eeg.fdt\n",
      "Reading 0 ... 280274  =      0.000 ...   560.548 secs...\n"
     ]
    },
    {
     "name": "stderr",
     "output_type": "stream",
     "text": [
      "C:\\Users\\Mohammad\\AppData\\Local\\Temp/ipykernel_9716/2873434368.py:73: RuntimeWarning: The data contains 'boundary' events, indicating data discontinuities. Be cautious of filtering and epoching around these events.\n",
      "  PAC_sequences_cal()\n"
     ]
    },
    {
     "name": "stdout",
     "output_type": "stream",
     "text": [
      "(196, 3)\n",
      "Reading D:\\Mastersharif\\MasterProject\\data\\parkinsons-oddball\\sub-030\\ses-01\\eeg\\pre_sub-030_ses-01_task-Rest_eeg.fdt\n",
      "Reading 0 ... 303974  =      0.000 ...   607.948 secs...\n"
     ]
    },
    {
     "name": "stderr",
     "output_type": "stream",
     "text": [
      "C:\\Users\\Mohammad\\AppData\\Local\\Temp/ipykernel_9716/2873434368.py:73: RuntimeWarning: The data contains 'boundary' events, indicating data discontinuities. Be cautious of filtering and epoching around these events.\n",
      "  PAC_sequences_cal()\n"
     ]
    },
    {
     "name": "stdout",
     "output_type": "stream",
     "text": [
      "(195, 3)\n",
      "Reading D:\\Mastersharif\\MasterProject\\data\\parkinsons-oddball\\sub-031\\ses-01\\eeg\\pre_sub-031_ses-01_task-Rest_eeg.fdt\n",
      "Reading 0 ... 331824  =      0.000 ...   663.648 secs...\n"
     ]
    },
    {
     "name": "stderr",
     "output_type": "stream",
     "text": [
      "C:\\Users\\Mohammad\\AppData\\Local\\Temp/ipykernel_9716/2873434368.py:73: RuntimeWarning: The data contains 'boundary' events, indicating data discontinuities. Be cautious of filtering and epoching around these events.\n",
      "  PAC_sequences_cal()\n"
     ]
    },
    {
     "name": "stdout",
     "output_type": "stream",
     "text": [
      "(197, 3)\n",
      "Reading D:\\Mastersharif\\MasterProject\\data\\parkinsons-oddball\\sub-032\\ses-01\\eeg\\pre_sub-032_ses-01_task-Rest_eeg.fdt\n",
      "Reading 0 ... 328024  =      0.000 ...   656.048 secs...\n"
     ]
    },
    {
     "name": "stderr",
     "output_type": "stream",
     "text": [
      "C:\\Users\\Mohammad\\AppData\\Local\\Temp/ipykernel_9716/2873434368.py:73: RuntimeWarning: The data contains 'boundary' events, indicating data discontinuities. Be cautious of filtering and epoching around these events.\n",
      "  PAC_sequences_cal()\n"
     ]
    },
    {
     "name": "stdout",
     "output_type": "stream",
     "text": [
      "(200, 3)\n",
      "Reading D:\\Mastersharif\\MasterProject\\data\\parkinsons-oddball\\sub-033\\ses-01\\eeg\\pre_sub-033_ses-01_task-Rest_eeg.fdt\n",
      "Reading 0 ... 464449  =      0.000 ...   928.898 secs...\n"
     ]
    },
    {
     "name": "stderr",
     "output_type": "stream",
     "text": [
      "C:\\Users\\Mohammad\\AppData\\Local\\Temp/ipykernel_9716/2873434368.py:73: RuntimeWarning: The data contains 'boundary' events, indicating data discontinuities. Be cautious of filtering and epoching around these events.\n",
      "  PAC_sequences_cal()\n"
     ]
    },
    {
     "name": "stdout",
     "output_type": "stream",
     "text": [
      "(196, 3)\n",
      "Reading D:\\Mastersharif\\MasterProject\\data\\parkinsons-oddball\\sub-034\\ses-01\\eeg\\pre_sub-034_ses-01_task-Rest_eeg.fdt\n",
      "Reading 0 ... 319374  =      0.000 ...   638.748 secs...\n"
     ]
    },
    {
     "name": "stderr",
     "output_type": "stream",
     "text": [
      "C:\\Users\\Mohammad\\AppData\\Local\\Temp/ipykernel_9716/2873434368.py:73: RuntimeWarning: The data contains 'boundary' events, indicating data discontinuities. Be cautious of filtering and epoching around these events.\n",
      "  PAC_sequences_cal()\n"
     ]
    },
    {
     "name": "stdout",
     "output_type": "stream",
     "text": [
      "(195, 3)\n",
      "Reading D:\\Mastersharif\\MasterProject\\data\\parkinsons-oddball\\sub-035\\ses-01\\eeg\\pre_sub-035_ses-01_task-Rest_eeg.fdt\n",
      "Reading 0 ... 319499  =      0.000 ...   638.998 secs...\n"
     ]
    },
    {
     "name": "stderr",
     "output_type": "stream",
     "text": [
      "C:\\Users\\Mohammad\\AppData\\Local\\Temp/ipykernel_9716/2873434368.py:73: RuntimeWarning: The data contains 'boundary' events, indicating data discontinuities. Be cautious of filtering and epoching around these events.\n",
      "  PAC_sequences_cal()\n"
     ]
    },
    {
     "name": "stdout",
     "output_type": "stream",
     "text": [
      "(195, 3)\n",
      "Reading D:\\Mastersharif\\MasterProject\\data\\parkinsons-oddball\\sub-036\\ses-01\\eeg\\pre_sub-036_ses-01_task-Rest_eeg.fdt\n",
      "Reading 0 ... 303124  =      0.000 ...   606.248 secs...\n"
     ]
    },
    {
     "name": "stderr",
     "output_type": "stream",
     "text": [
      "C:\\Users\\Mohammad\\AppData\\Local\\Temp/ipykernel_9716/2873434368.py:73: RuntimeWarning: The data contains 'boundary' events, indicating data discontinuities. Be cautious of filtering and epoching around these events.\n",
      "  PAC_sequences_cal()\n"
     ]
    },
    {
     "name": "stdout",
     "output_type": "stream",
     "text": [
      "(200, 3)\n",
      "Reading D:\\Mastersharif\\MasterProject\\data\\parkinsons-oddball\\sub-037\\ses-01\\eeg\\pre_sub-037_ses-01_task-Rest_eeg.fdt\n",
      "Reading 0 ... 274949  =      0.000 ...   549.898 secs...\n"
     ]
    },
    {
     "name": "stderr",
     "output_type": "stream",
     "text": [
      "C:\\Users\\Mohammad\\AppData\\Local\\Temp/ipykernel_9716/2873434368.py:73: RuntimeWarning: The data contains 'boundary' events, indicating data discontinuities. Be cautious of filtering and epoching around these events.\n",
      "  PAC_sequences_cal()\n"
     ]
    },
    {
     "name": "stdout",
     "output_type": "stream",
     "text": [
      "(198, 3)\n",
      "Reading D:\\Mastersharif\\MasterProject\\data\\parkinsons-oddball\\sub-038\\ses-01\\eeg\\pre_sub-038_ses-01_task-Rest_eeg.fdt\n",
      "Reading 0 ... 265549  =      0.000 ...   531.098 secs...\n"
     ]
    },
    {
     "name": "stderr",
     "output_type": "stream",
     "text": [
      "C:\\Users\\Mohammad\\AppData\\Local\\Temp/ipykernel_9716/2873434368.py:73: RuntimeWarning: The data contains 'boundary' events, indicating data discontinuities. Be cautious of filtering and epoching around these events.\n",
      "  PAC_sequences_cal()\n"
     ]
    },
    {
     "name": "stdout",
     "output_type": "stream",
     "text": [
      "(198, 3)\n",
      "Reading D:\\Mastersharif\\MasterProject\\data\\parkinsons-oddball\\sub-039\\ses-01\\eeg\\pre_sub-039_ses-01_task-Rest_eeg.fdt\n",
      "Reading 0 ... 346249  =      0.000 ...   692.498 secs...\n"
     ]
    },
    {
     "name": "stderr",
     "output_type": "stream",
     "text": [
      "C:\\Users\\Mohammad\\AppData\\Local\\Temp/ipykernel_9716/2873434368.py:73: RuntimeWarning: The data contains 'boundary' events, indicating data discontinuities. Be cautious of filtering and epoching around these events.\n",
      "  PAC_sequences_cal()\n"
     ]
    },
    {
     "name": "stdout",
     "output_type": "stream",
     "text": [
      "(196, 3)\n",
      "Reading D:\\Mastersharif\\MasterProject\\data\\parkinsons-oddball\\sub-040\\ses-01\\eeg\\pre_sub-040_ses-01_task-Rest_eeg.fdt\n",
      "Reading 0 ... 312249  =      0.000 ...   624.498 secs...\n"
     ]
    },
    {
     "name": "stderr",
     "output_type": "stream",
     "text": [
      "C:\\Users\\Mohammad\\AppData\\Local\\Temp/ipykernel_9716/2873434368.py:73: RuntimeWarning: The data contains 'boundary' events, indicating data discontinuities. Be cautious of filtering and epoching around these events.\n",
      "  PAC_sequences_cal()\n"
     ]
    },
    {
     "name": "stdout",
     "output_type": "stream",
     "text": [
      "(197, 3)\n",
      "Reading D:\\Mastersharif\\MasterProject\\data\\parkinsons-oddball\\sub-041\\ses-01\\eeg\\pre_sub-041_ses-01_task-Rest_eeg.fdt\n",
      "Reading 0 ... 268624  =      0.000 ...   537.248 secs...\n"
     ]
    },
    {
     "name": "stderr",
     "output_type": "stream",
     "text": [
      "C:\\Users\\Mohammad\\AppData\\Local\\Temp/ipykernel_9716/2873434368.py:73: RuntimeWarning: The data contains 'boundary' events, indicating data discontinuities. Be cautious of filtering and epoching around these events.\n",
      "  PAC_sequences_cal()\n"
     ]
    },
    {
     "name": "stdout",
     "output_type": "stream",
     "text": [
      "(195, 3)\n",
      "Reading D:\\Mastersharif\\MasterProject\\data\\parkinsons-oddball\\sub-042\\ses-01\\eeg\\pre_sub-042_ses-01_task-Rest_eeg.fdt\n",
      "Reading 0 ... 314374  =      0.000 ...   628.748 secs...\n"
     ]
    },
    {
     "name": "stderr",
     "output_type": "stream",
     "text": [
      "C:\\Users\\Mohammad\\AppData\\Local\\Temp/ipykernel_9716/2873434368.py:73: RuntimeWarning: The data contains 'boundary' events, indicating data discontinuities. Be cautious of filtering and epoching around these events.\n",
      "  PAC_sequences_cal()\n"
     ]
    },
    {
     "name": "stdout",
     "output_type": "stream",
     "text": [
      "(197, 3)\n",
      "Reading D:\\Mastersharif\\MasterProject\\data\\parkinsons-oddball\\sub-043\\ses-01\\eeg\\pre_sub-043_ses-01_task-Rest_eeg.fdt\n",
      "Reading 0 ... 285199  =      0.000 ...   570.398 secs...\n"
     ]
    },
    {
     "name": "stderr",
     "output_type": "stream",
     "text": [
      "C:\\Users\\Mohammad\\AppData\\Local\\Temp/ipykernel_9716/2873434368.py:73: RuntimeWarning: The data contains 'boundary' events, indicating data discontinuities. Be cautious of filtering and epoching around these events.\n",
      "  PAC_sequences_cal()\n"
     ]
    },
    {
     "name": "stdout",
     "output_type": "stream",
     "text": [
      "(195, 3)\n",
      "Reading D:\\Mastersharif\\MasterProject\\data\\parkinsons-oddball\\sub-044\\ses-01\\eeg\\pre_sub-044_ses-01_task-Rest_eeg.fdt\n",
      "Reading 0 ... 278474  =      0.000 ...   556.948 secs...\n"
     ]
    },
    {
     "name": "stderr",
     "output_type": "stream",
     "text": [
      "C:\\Users\\Mohammad\\AppData\\Local\\Temp/ipykernel_9716/2873434368.py:73: RuntimeWarning: The data contains 'boundary' events, indicating data discontinuities. Be cautious of filtering and epoching around these events.\n",
      "  PAC_sequences_cal()\n"
     ]
    },
    {
     "name": "stdout",
     "output_type": "stream",
     "text": [
      "(197, 3)\n",
      "Reading D:\\Mastersharif\\MasterProject\\data\\parkinsons-oddball\\sub-045\\ses-01\\eeg\\pre_sub-045_ses-01_task-Rest_eeg.fdt\n",
      "Reading 0 ... 273724  =      0.000 ...   547.448 secs...\n"
     ]
    },
    {
     "name": "stderr",
     "output_type": "stream",
     "text": [
      "C:\\Users\\Mohammad\\AppData\\Local\\Temp/ipykernel_9716/2873434368.py:73: RuntimeWarning: The data contains 'boundary' events, indicating data discontinuities. Be cautious of filtering and epoching around these events.\n",
      "  PAC_sequences_cal()\n"
     ]
    },
    {
     "name": "stdout",
     "output_type": "stream",
     "text": [
      "(193, 3)\n",
      "Reading D:\\Mastersharif\\MasterProject\\data\\parkinsons-oddball\\sub-046\\ses-01\\eeg\\pre_sub-046_ses-01_task-Rest_eeg.fdt\n",
      "Reading 0 ... 284874  =      0.000 ...   569.748 secs...\n"
     ]
    },
    {
     "name": "stderr",
     "output_type": "stream",
     "text": [
      "C:\\Users\\Mohammad\\AppData\\Local\\Temp/ipykernel_9716/2873434368.py:73: RuntimeWarning: The data contains 'boundary' events, indicating data discontinuities. Be cautious of filtering and epoching around these events.\n",
      "  PAC_sequences_cal()\n"
     ]
    },
    {
     "name": "stdout",
     "output_type": "stream",
     "text": [
      "(196, 3)\n",
      "Reading D:\\Mastersharif\\MasterProject\\data\\parkinsons-oddball\\sub-047\\ses-01\\eeg\\pre_sub-047_ses-01_task-Rest_eeg.fdt\n",
      "Reading 0 ... 257249  =      0.000 ...   514.498 secs...\n"
     ]
    },
    {
     "name": "stderr",
     "output_type": "stream",
     "text": [
      "C:\\Users\\Mohammad\\AppData\\Local\\Temp/ipykernel_9716/2873434368.py:73: RuntimeWarning: The data contains 'boundary' events, indicating data discontinuities. Be cautious of filtering and epoching around these events.\n",
      "  PAC_sequences_cal()\n"
     ]
    },
    {
     "name": "stdout",
     "output_type": "stream",
     "text": [
      "(198, 3)\n",
      "Reading D:\\Mastersharif\\MasterProject\\data\\parkinsons-oddball\\sub-048\\ses-01\\eeg\\pre_sub-048_ses-01_task-Rest_eeg.fdt\n",
      "Reading 0 ... 302399  =      0.000 ...   604.798 secs...\n"
     ]
    },
    {
     "name": "stderr",
     "output_type": "stream",
     "text": [
      "C:\\Users\\Mohammad\\AppData\\Local\\Temp/ipykernel_9716/2873434368.py:73: RuntimeWarning: The data contains 'boundary' events, indicating data discontinuities. Be cautious of filtering and epoching around these events.\n",
      "  PAC_sequences_cal()\n"
     ]
    },
    {
     "name": "stdout",
     "output_type": "stream",
     "text": [
      "(195, 3)\n",
      "Reading D:\\Mastersharif\\MasterProject\\data\\parkinsons-oddball\\sub-049\\ses-01\\eeg\\pre_sub-049_ses-01_task-Rest_eeg.fdt\n",
      "Reading 0 ... 269924  =      0.000 ...   539.848 secs...\n"
     ]
    },
    {
     "name": "stderr",
     "output_type": "stream",
     "text": [
      "C:\\Users\\Mohammad\\AppData\\Local\\Temp/ipykernel_9716/2873434368.py:73: RuntimeWarning: The data contains 'boundary' events, indicating data discontinuities. Be cautious of filtering and epoching around these events.\n",
      "  PAC_sequences_cal()\n"
     ]
    },
    {
     "name": "stdout",
     "output_type": "stream",
     "text": [
      "(199, 3)\n",
      "Reading D:\\Mastersharif\\MasterProject\\data\\parkinsons-oddball\\sub-050\\ses-01\\eeg\\pre_sub-050_ses-01_task-Rest_eeg.fdt\n",
      "Reading 0 ... 297699  =      0.000 ...   595.398 secs...\n"
     ]
    },
    {
     "name": "stderr",
     "output_type": "stream",
     "text": [
      "C:\\Users\\Mohammad\\AppData\\Local\\Temp/ipykernel_9716/2873434368.py:73: RuntimeWarning: The data contains 'boundary' events, indicating data discontinuities. Be cautious of filtering and epoching around these events.\n",
      "  PAC_sequences_cal()\n"
     ]
    },
    {
     "name": "stdout",
     "output_type": "stream",
     "text": [
      "(198, 3)\n"
     ]
    }
   ],
   "source": [
    "@jit(parallel=True)\n",
    "def PAC_sequences_cal():\n",
    "   for j in np.arange(num_task_file):\n",
    "      Path_to_load_file = os.path.join(Path,list_files_path_name['local_file_path'][j],list_files_path_name['preprocessed_one'][j])\n",
    "      Path_to_save_file = os.path.join(Path,list_files_path_name['local_file_path'][j],list_files_path_name['PAC_sequences_v1'][j])\n",
    "      if not os.path.isfile(Path_to_save_file):\n",
    "         EEG = mne.io.read_raw_eeglab(Path_to_load_file,eog=(),preload=True)\n",
    "         eeg_signals = EEG['data'][0]*np.array([1e6],dtype=np.float64)\n",
    "         events, event_dict = mne.events_from_annotations(EEG, verbose=0)\n",
    "         events = mne.pick_events(events,include=[event_dict['S200'],event_dict['S201'],event_dict['S202']])\n",
    "         print(events.shape)\n",
    "         eeg_trials = np.zeros(shape=(63,events.shape[0],601))\n",
    "         # calculation of trials with basline correction\n",
    "         for i,event_detail in enumerate(events):\n",
    "            if event_detail[2] == event_dict['S200']:\n",
    "               t = eeg_signals[:,event_detail[0]+periods['S200'][0]:event_detail[0]+periods['S200'][1]+1]\n",
    "               t = t - np.expand_dims(np.mean(t[:,0:100],axis=1),axis=1) \n",
    "               eeg_trials[:,i,0:t.shape[1]] = t\n",
    "            elif event_detail[2] == event_dict['S201']:\n",
    "               t = eeg_signals[:,event_detail[0]+periods['S201'][0]:event_detail[0]+periods['S201'][1]+1] \n",
    "               t = t - np.expand_dims(np.mean(t[:,0:100],axis=1),axis=1) \n",
    "               eeg_trials[:,i,0:t.shape[1]] = t\n",
    "            elif event_detail[2] == event_dict['S202']:\n",
    "               t = eeg_signals[:,event_detail[0]+periods['S202'][0]:event_detail[0]+periods['S202'][1]+1] \n",
    "               t = t - np.expand_dims(np.mean(t[:,0:100],axis=1),axis=1) \n",
    "               eeg_trials[:,i,0:t.shape[1]] =  t  \n",
    "         \n",
    "         PAC_sequences = np.zeros(shape=[index_selected_ch.shape[0],eeg_trials.shape[1]])\n",
    "         for k,ch in enumerate(index_selected_ch):\n",
    "            for trial in np.arange(eeg_trials.shape[1]):\n",
    "               PAC_sequences[k,trial] = pac.tfMVL(eeg_trials[ch,trial,start_sample:end_sample+1],high_freq=[High_fre,High_fre],low_freq=[Low_fre,Low_fre],Fs=500)\n",
    "      \n",
    "         np.save(Path_to_save_file,PAC_sequences)\n",
    "      \n",
    "      # compare the ERP calculation using the above EEG trials with ERP in mne\n",
    "      # indexes = np.nonzero([events[:,2]==event_dict['S200']])\n",
    "      # temp = eeg_trials[:,indexes[1],:]\n",
    "      # ERP1['S200'] = np.mean(temp,axis=1)\n",
    "\n",
    "      # indexes = np.nonzero([events[:,2]==event_dict['S201']])\n",
    "      # temp = eeg_trials[:,indexes[1],:]\n",
    "      # ERP1['S201'] = np.mean(temp,axis=1)\n",
    "\n",
    "      # indexes = np.nonzero([events[:,2]==event_dict['S202']])\n",
    "      # temp = eeg_trials[:,indexes[1],:]\n",
    "      # ERP1['S202'] = np.mean(temp,axis=1)\n",
    "      # t  = events[events[:,2]==5]\n",
    "      #     # t1 = mne.pick_events(events,include=[5])\n",
    "      # t2 = {'S200':5}\n",
    "      # pochs_1 = mne.Epochs(EEG,events=t,event_id=t2,\n",
    "      #                 tmin=0.250, tmax=1.450, baseline=(0.250,0.450),preload=True, verbose=0)\n",
    "      # ERP['S200'] = pochs_1['S200'].average().to_data_frame()\n",
    "      # del ERP['S200']['time']\n",
    "      # ERP_array[0,:,:] = np.transpose(ERP['S200'].to_numpy())\n",
    "      \n",
    "      # t  = events[events[:,2]==6]\n",
    "      # t2 = {'S201':6}\n",
    "      # pochs_1 = mne.Epochs(EEG,events=t,event_id=t2,\n",
    "      #                 tmin=0.250, tmax=1.450, baseline=(0.250,0.450),preload=True, verbose=0) \n",
    "      # ERP['S201'] = pochs_1['S201'].average().to_data_frame() \n",
    "      # del ERP['S201']['time']\n",
    "      # ERP_array[1,:,:] = np.transpose(ERP['S201'].to_numpy())\n",
    "\n",
    "      # t  = events[events[:,2]==7]\n",
    "      # t2 = {'S202':7}               \n",
    "      # pochs_1 = mne.Epochs(EEG,events=t,event_id=t2,\n",
    "      #                 tmin=-0.2, tmax=1, baseline=(-0.2,0.0),preload=True, verbose=0)  \n",
    "      # ERP['S202'] = pochs_1['S202'].average().to_data_frame() \n",
    "      # del ERP['S202']['time']\n",
    "      # ERP_array[2,:,:] = np.transpose(ERP['S202'].to_numpy())\n",
    "\n",
    "if __name__==\"__main__\":\n",
    "    PAC_sequences_cal()\n",
    "\n",
    "    # np.save(f'..\\data\\PAC_electordes_{start_time}_{end_time}_pair_fre_{High_fre}_{Low_fre}_nb_{nobaseline}',PAC_on_electrodes)\n",
    "\n",
    "\n",
    "    \n",
    "   \n",
    "\n",
    "\n",
    "\n",
    "\n",
    "                                                 \n",
    "   \n",
    "\n",
    "    "
   ]
  },
  {
   "cell_type": "code",
   "execution_count": 162,
   "metadata": {},
   "outputs": [
    {
     "name": "stdout",
     "output_type": "stream",
     "text": [
      "(63, 195)\n"
     ]
    },
    {
     "data": {
      "text/plain": [
       "75"
      ]
     },
     "execution_count": 162,
     "metadata": {},
     "output_type": "execute_result"
    }
   ],
   "source": [
    "j=0\n",
    "Path_to_save_file = os.path.join(Path,list_files_path_name['local_file_path'][j],list_files_path_name['PAC_sequences_v1'][j])\n",
    "a = np.load(Path_to_save_file)\n",
    "print(a.shape)\n",
    "num_task_file"
   ]
  },
  {
   "cell_type": "code",
   "execution_count": 22,
   "metadata": {},
   "outputs": [
    {
     "data": {
      "text/plain": [
       "False"
      ]
     },
     "execution_count": 22,
     "metadata": {},
     "output_type": "execute_result"
    }
   ],
   "source": [
    "A = ['a','c','f']\n",
    "B = ['d','c','f']\n",
    "ft.reduce(lambda x,y: x and y, list(map(lambda x,y: x==y,A,B)))"
   ]
  },
  {
   "cell_type": "code",
   "execution_count": 135,
   "metadata": {},
   "outputs": [
    {
     "data": {
      "text/plain": [
       "<matplotlib.legend.Legend at 0x2c705d27a60>"
      ]
     },
     "execution_count": 135,
     "metadata": {},
     "output_type": "execute_result"
    },
    {
     "data": {
      "image/png": "[encoded data removed]",
      "text/plain": [
       "<Figure size 432x288 with 1 Axes>"
      ]
     },
     "metadata": {
      "needs_background": "light"
     },
     "output_type": "display_data"
    }
   ],
   "source": [
    "ch_num = 62\n",
    "event_num = 1\n",
    "\n",
    "# plt.plot(eeg_trials[ch_num,trial_num,:])\n",
    "\n",
    "# plt.plot(ERP_array[event_num,ch_num,:])\n",
    "events = ['S200','S201','S202']\n",
    "\n",
    "\n",
    "Vmax = np.max(ERP1[events[event_num]][ch_num,:])\n",
    "Vmin = np.min(ERP1[events[event_num]][ch_num,:])\n",
    "\n",
    "temp = (ERP1[events[event_num]][ch_num,:]-Vmin)/(Vmax-Vmin)\n",
    "# plt.plot(temp)\n",
    "plt.plot(ERP1[events[event_num]][ch_num,:])\n",
    "\n",
    "Vmax = np.max(ERP_array[event_num,ch_num,:])\n",
    "Vmin = np.min(ERP_array[event_num,ch_num,:])\n",
    "\n",
    "temp1 = (ERP_array[event_num,ch_num,:]-Vmin)/(Vmax-Vmin)\n",
    "\n",
    "# plt.plot(temp1)\n",
    "plt.plot(ERP_array[event_num,ch_num,:])\n",
    "\n",
    "plt.legend(['mine','mne'])"
   ]
  },
  {
   "cell_type": "code",
   "execution_count": 134,
   "metadata": {},
   "outputs": [
    {
     "data": {
      "text/plain": [
       "0.06868210204433223"
      ]
     },
     "execution_count": 134,
     "metadata": {},
     "output_type": "execute_result"
    }
   ],
   "source": [
    "temp = ERP_array[event_num,ch_num,:]-ERP1[events[event_num]][ch_num,:]\n",
    "\n",
    "np.linalg.norm(temp)"
   ]
  }
 ],
 "metadata": {
  "interpreter": {
   "hash": "03a4708f0c4954715ae9cf7024e72e3792c12398c409e26581e2d99117072eb2"
  },
  "kernelspec": {
   "display_name": "Python 3.9.7 64-bit ('neuroscience': conda)",
   "name": "python3"
  },
  "language_info": {
   "codemirror_mode": {
    "name": "ipython",
    "version": 3
   },
   "file_extension": ".py",
   "mimetype": "text/x-python",
   "name": "python",
   "nbconvert_exporter": "python",
   "pygments_lexer": "ipython3",
   "version": "3.9.7"
  },
  "orig_nbformat": 4
 },
 "nbformat": 4,
 "nbformat_minor": 2
}
