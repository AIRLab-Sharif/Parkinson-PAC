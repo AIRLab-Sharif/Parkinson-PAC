{
 "cells": [
  {
   "cell_type": "code",
   "execution_count": null,
   "metadata": {},
   "outputs": [],
   "source": [
    "%config Completer.use_jedi = False"
   ]
  },
  {
   "cell_type": "code",
   "execution_count": null,
   "metadata": {},
   "outputs": [],
   "source": [
    "import os\n",
    "import itertools\n",
    "import numpy as np\n",
    "import pandas as pd\n",
    "import matplotlib.pyplot as plt\n",
    "import matplotlib.ticker as mticker\n",
    "import mne\n",
    "import json\n",
    "import scipy.stats\n",
    "\n",
    "# import scipy.io as sio\n",
    "# from scipy import signal\n",
    "\n",
    "import pac\n",
    "\n",
    "import simple_pipeline\n",
    "\n",
    "suffix = '_delay_corrected'#'_1ch_nv'\n",
    "gamma = [20, 80]\n",
    "beta  = [ 4, 16]"
   ]
  },
  {
   "cell_type": "markdown",
   "metadata": {
    "heading_collapsed": true
   },
   "source": [
    "# functions"
   ]
  },
  {
   "cell_type": "code",
   "execution_count": null,
   "metadata": {
    "code_folding": [],
    "hidden": true
   },
   "outputs": [],
   "source": [
    "with open('config.json') as f:\n",
    "    config = json.load(f)\n",
    "    channels = config['channels']\n",
    "colors = ['#1f77b4', '#ff7f0e', '#2ca02c']\n",
    "linestyles = ['-', ':', '--']\n",
    "\n",
    "groups = ['PD Med Off', 'PD Med On', 'CTL']\n",
    "event_types = ['Target', 'Standard', 'Novelty']"
   ]
  },
  {
   "cell_type": "code",
   "execution_count": null,
   "metadata": {
    "code_folding": [
     0
    ],
    "hidden": true
   },
   "outputs": [],
   "source": [
    "def plot_pac(pac, high_freq=gamma, low_freq=beta, ax=None, **kwargs):\n",
    "    if ax is None:\n",
    "        fig = plt.figure(figsize=(7, 15))\n",
    "        ax = fig.subplots()\n",
    "\n",
    "    im = ax.imshow((pac), origin='lower', interpolation='spline36', #'nearest', \n",
    "                   extent=low_freq+high_freq,\n",
    "#                    aspect='auto', )\n",
    "                   aspect=np.diff(low_freq)/np.diff(high_freq), **kwargs)\n",
    "\n",
    "    if ax is None:\n",
    "        plt.show()\n",
    "        \n",
    "    return im"
   ]
  },
  {
   "cell_type": "code",
   "execution_count": null,
   "metadata": {
    "code_folding": [
     0
    ],
    "hidden": true
   },
   "outputs": [],
   "source": [
    "def get_percent(arr, thr=0.95):\n",
    "    if arr.ndim > 1:\n",
    "        arr = arr.ravel()\n",
    "    freq, bins = np.histogram(arr, bins=100)\n",
    "    return (\n",
    "        bins[:-1][(freq / freq.sum()).cumsum() > thr][0], \n",
    "        bins[1:][(freq / freq.sum()).cumsum() > thr][0]\n",
    "    )"
   ]
  },
  {
   "cell_type": "code",
   "execution_count": null,
   "metadata": {
    "code_folding": [
     0
    ],
    "hidden": true
   },
   "outputs": [],
   "source": [
    "def save_fig(path):\n",
    "    directory = os.path.dirname(path)\n",
    "    if not os.path.exists(directory):\n",
    "        os.makedirs(directory)\n",
    "    plt.savefig(path)"
   ]
  },
  {
   "cell_type": "markdown",
   "metadata": {
    "heading_collapsed": true
   },
   "source": [
    "# Create Task list in `tasks_df`"
   ]
  },
  {
   "cell_type": "code",
   "execution_count": null,
   "metadata": {
    "code_folding": [
     0
    ],
    "hidden": true
   },
   "outputs": [],
   "source": [
    "if __name__ == '__main__':\n",
    "    tasks_df = simple_pipeline.create_tasks_df()\n",
    "    \n",
    "    completed = []\n",
    "    for task in tasks_df.iloc:\n",
    "        json_path = os.path.join(task['dir'], task['file_formatter'].format(f'completed{suffix}.json'))\n",
    "        completed.append(os.path.exists(json_path))\n",
    "\n",
    "    tasks_df = pd.concat([tasks_df, pd.DataFrame({'completed': completed})], axis=1)"
   ]
  },
  {
   "cell_type": "markdown",
   "metadata": {},
   "source": [
    "# Load Data"
   ]
  },
  {
   "cell_type": "code",
   "execution_count": null,
   "metadata": {},
   "outputs": [],
   "source": [
    "# MVL\n",
    "\n",
    "mvl_2ds_time = [[] for k in groups] # np.zeros((3, 64, 169, 37 * 12))\n",
    "mvl_2ds = [[] for k in groups] # np.zeros((3, 64, 169, 37))\n",
    "mvls = [[] for k in groups] # np.zeros((3, 64))\n",
    "\n",
    "for task in tasks_df.iloc:\n",
    "# if 1:\n",
    "    task_mvls = np.load(os.path.join(task['dir'], task['file_formatter'].format(f'mvls{suffix}.npz')))\n",
    "    task_mvl_2ds = np.load(os.path.join(task['dir'], task['file_formatter'].format(f'mvl_2ds{suffix}.npz')))\n",
    "    \n",
    "    # mvls\n",
    "    nbchan = task_mvls[task_mvls.files[0]].shape[0]\n",
    "    mvl = np.zeros((3, nbchan))\n",
    "    for i, event_type in enumerate(sorted(task_mvls.files)):\n",
    "        mvl[i] = task_mvls[event_type].diagonal()\n",
    "        \n",
    "    mvls[task.pd_drug_type].append(mvl)\n",
    "    \n",
    "    # mvl_2ds\n",
    "    mvl_2d = np.zeros((3, nbchan, gamma[1] - gamma[0] + 1, beta[1] - beta[0] + 1))\n",
    "    for i, event_type in enumerate(sorted(task_mvl_2ds.files)):\n",
    "        mvl_2d[i] = task_mvl_2ds[event_type].diagonal(0, 0, 1).transpose((2, 0, 1))\n",
    "        \n",
    "    mvl_2ds[task.pd_drug_type].append(mvl_2d)\n",
    "\n",
    "mvls = np.array(mvls)              # --> (pd_drug_type, subjects, event_types, channels)\n",
    "mvl_2ds = np.array(mvl_2ds)        # --> (pd_drug_type, subjects, event_types, channels, high_freqs, low_freqs)\n",
    "mvl_2ds_time = np.array(mvl_2ds_time)        # --> (pd_drug_type, subjects, event_types, channels, high_freqs, low_freqs * 12)"
   ]
  },
  {
   "cell_type": "code",
   "execution_count": null,
   "metadata": {
    "code_folding": []
   },
   "outputs": [],
   "source": [
    "# ERP\n",
    "\n",
    "epochs = [[] for k in groups] # np.zeros((2, 63, 601))\n",
    "\n",
    "for task in tasks_df.iloc:\n",
    "    task_epochs = np.load(os.path.join(task['dir'], task['file_formatter'].format(f'epochs.npz')))\n",
    "    \n",
    "    # epochs\n",
    "    nbchan = task_epochs[task_epochs.files[0]].shape[-2]\n",
    "    nbtime = task_epochs[task_epochs.files[0]].shape[-1]\n",
    "    epoch = np.zeros((3, 2, nbchan, nbtime))\n",
    "    for i, event_type in enumerate(sorted(task_epochs.files)):\n",
    "        epoch[i, 0] = task_epochs[event_type].mean(axis=0)\n",
    "        epoch[i, 1] = task_epochs[event_type].std(axis=0)\n",
    "        \n",
    "    epochs[task.pd_drug_type].append(epoch)\n",
    "\n",
    "epochs = np.array(epochs)          # --> (pd_drug_type, subjects, event_types, (mean, std), channels, time)"
   ]
  },
  {
   "cell_type": "markdown",
   "metadata": {},
   "source": [
    "# Plot ERP"
   ]
  },
  {
   "cell_type": "code",
   "execution_count": null,
   "metadata": {
    "code_folding": [
     0
    ]
   },
   "outputs": [],
   "source": [
    "# Plot for subjects\n",
    "\n",
    "for ch in range(epochs.shape[4]):\n",
    "    for drug_type in range(epochs.shape[0]):\n",
    "\n",
    "        ymin = (epochs[:, :, :, 0, ch, :] - epochs[:, :, :, 1, ch, :]).min()\n",
    "        ymax = (epochs[:, :, :, 0, ch, :] + epochs[:, :, :, 1, ch, :]).max()\n",
    "\n",
    "        for sub in range(epochs.shape[1]):\n",
    "#             fig, axs = plt.subplots(3, 1, sharex=True, sharey=True, figsize=(15, 15))\n",
    "            plt.figure(figsize=(15, 7))\n",
    "            \n",
    "            for event_type in range(epochs.shape[2]):    \n",
    "                erp = epochs[drug_type, sub, event_type, :, ch, :][0]\n",
    "                std = epochs[drug_type, sub, event_type, :, ch, :][1]\n",
    "                plt.plot(np.linspace(-200, 1000, 601), (erp), linewidth=2, color=colors[event_type], label=event_types[event_type])\n",
    "                plt.plot(np.linspace(-200, 1000, 601), (erp + std), linestyle='--', linewidth=0.5, color=colors[event_type], alpha=0.5)\n",
    "                plt.plot(np.linspace(-200, 1000, 601), (erp - std), linestyle='--', linewidth=0.5, color=colors[event_type], alpha=0.5)\n",
    "                \n",
    "            plt.grid()\n",
    "            plt.ylim(ymin, ymax)\n",
    "            plt.xlim(-200, 1000)\n",
    "            gca = plt.gca()\n",
    "            plt.plot([0, 0], [ymin, ymax], color='#999999', linestyle='--')\n",
    "            plt.plot([100, 100], [ymin, ymax], color='#999999', linestyle='--')\n",
    "            plt.plot([250, 250], [ymin, ymax], color='#999999', linestyle='--')\n",
    "            plt.sca(gca)\n",
    "            plt.title(f'Sub {sub + 1}, {groups[drug_type]}, Channel {channels[ch]}')\n",
    "            plt.legend()\n",
    "            \n",
    "            \n",
    "            if not os.path.exists(os.path.join('plots', f'erps', f'Sub{sub + 1}')):\n",
    "                os.makedirs(os.path.join('plots', f'erps', f'Sub{sub + 1}'))\n",
    "            plt.savefig(os.path.join('plots', 'erps', f'Sub{sub + 1}',\n",
    "                                     f'Sub{sub + 1}_{groups[drug_type]}_{channels[ch]}.png'))\n",
    "            plt.close()\n",
    "#           plt.show()\n",
    "            \n",
    "#             break\n",
    "#         break\n",
    "#     break\n",
    "    "
   ]
  },
  {
   "cell_type": "code",
   "execution_count": null,
   "metadata": {
    "code_folding": [
     0
    ],
    "scrolled": true
   },
   "outputs": [],
   "source": [
    "# Plot events\n",
    "\n",
    "for ch in range(epochs.shape[4]):\n",
    "    fig, axs = plt.subplots(3, 1, sharex=True, sharey=True, figsize=(15, 15))\n",
    "    for drug_type in range(epochs.shape[0]):\n",
    "        \n",
    "        for event_type in range(epochs.shape[2]):    \n",
    "            erp = epochs[drug_type, :, event_type, :, ch, :].mean(axis=0)[0, :]\n",
    "            std = epochs[drug_type, :, event_type, :, ch, :].std(axis=0)[0, :]\n",
    "            axs[drug_type].plot(np.linspace(-200, 1000, 601), (erp), linewidth=2,\n",
    "                                color=colors[event_type], label=event_types[event_type])\n",
    "#             axs[drug_type].plot(np.linspace(-200, 1000, 601), (erp + std), linestyle='--', linewidth=0.5, color=colors[event_type], alpha=0.5)\n",
    "#             axs[drug_type].plot(np.linspace(-200, 1000, 601), (erp - std), linestyle='--', linewidth=0.5, color=colors[event_type], alpha=0.5)\n",
    "        \n",
    "        axs[drug_type].legend()\n",
    "        ymin, ymax = axs[drug_type].get_ylim()\n",
    "\n",
    "#         axs[drug_type].plot([0, 0], [ymin, ymax], color='#999999', linestyle='--')\n",
    "#         axs[drug_type].plot([100, 100], [ymin, ymax], color='#999999', linestyle='--')\n",
    "#         axs[drug_type].plot([250, 250], [ymin, ymax], color='#999999', linestyle='--')\n",
    "        \n",
    "#         axs[drug_type].set_ylim(ymin, ymax)\n",
    "        axs[drug_type].set_xlim(-200, 1000)\n",
    "        axs[drug_type].grid()\n",
    "        \n",
    "    for i in range(3):\n",
    "        axs[i].set_ylabel(groups[i])\n",
    "    \n",
    "    plt.tight_layout(pad=4, w_pad=0.5, h_pad=1.0)\n",
    "    fig.suptitle(f'Channel {channels[ch]}', fontsize=16)\n",
    "\n",
    "    if not os.path.exists(os.path.join('plots', f'erps', 'channels')):\n",
    "        os.makedirs(os.path.join('plots', f'erps', 'channels'))\n",
    "    plt.savefig(os.path.join('plots', 'erps', 'channels', f'{channels[ch]}.png'))\n",
    "#     plt.close()\n",
    "    plt.show()\n",
    "            \n",
    "#     break"
   ]
  },
  {
   "cell_type": "code",
   "execution_count": null,
   "metadata": {
    "code_folding": [],
    "scrolled": true
   },
   "outputs": [],
   "source": [
    "# Plot stimuli\n",
    "    \n",
    "for ch in range(epochs.shape[4]):\n",
    "    fig, axs = plt.subplots(3, 1, sharex=True, sharey=True, figsize=(15, 15))\n",
    "    for event_type in range(epochs.shape[2]):\n",
    "        for drug_type in range(epochs.shape[0]):\n",
    "\n",
    "            erp = epochs[drug_type, :, event_type, :, ch, :].mean(axis=0)[0, :]\n",
    "            std = epochs[drug_type, :, event_type, :, ch, :].std(axis=0)[0, :]\n",
    "            axs[event_type].plot(np.linspace(-200, 1000, 601), (erp), linewidth=2, color=colors[drug_type], label=groups[drug_type])\n",
    "#             axs[drug_type].plot(np.linspace(-200, 1000, 601), (erp + std), linestyle='--', linewidth=0.5, color=colors[event_type], alpha=0.5)\n",
    "#             axs[drug_type].plot(np.linspace(-200, 1000, 601), (erp - std), linestyle='--', linewidth=0.5, color=colors[event_type], alpha=0.5)\n",
    "        \n",
    "        axs[event_type].legend()\n",
    "        ymin, ymax = axs[event_type].get_ylim()\n",
    "\n",
    "#         axs[drug_type].plot([0, 0], [ymin, ymax], color='#999999', linestyle='--')\n",
    "#         axs[drug_type].plot([100, 100], [ymin, ymax], color='#999999', linestyle='--')\n",
    "#         axs[drug_type].plot([250, 250], [ymin, ymax], color='#999999', linestyle='--')\n",
    "        \n",
    "#         axs[drug_type].set_ylim(ymin, ymax)\n",
    "        axs[event_type].set_xlim(-200, 1000)\n",
    "        axs[event_type].grid()\n",
    "        \n",
    "    for i in range(3):\n",
    "        axs[i].set_ylabel(event_types[i])\n",
    "    \n",
    "    plt.tight_layout(pad=4, w_pad=0.5, h_pad=1.0)\n",
    "    fig.suptitle(f'Channel {channels[ch]}', fontsize=16)\n",
    "\n",
    "    if not os.path.exists(os.path.join('plots', f'erps', 'Events')):\n",
    "        os.makedirs(os.path.join('plots', f'erps', 'Events'))\n",
    "    plt.savefig(os.path.join('plots', 'erps', 'Events', f'{channels[ch]}.png'))\n",
    "#     plt.close()\n",
    "    plt.show()\n",
    "            \n",
    "#     break"
   ]
  },
  {
   "cell_type": "code",
   "execution_count": null,
   "metadata": {},
   "outputs": [],
   "source": []
  },
  {
   "cell_type": "code",
   "execution_count": null,
   "metadata": {
    "code_folding": [
     0
    ],
    "scrolled": true
   },
   "outputs": [],
   "source": [
    "# Plot all\n",
    "    \n",
    "for ch in range(epochs.shape[4]):\n",
    "    fig = plt.figure(figsize=(15, 7))\n",
    "    for drug_type in range(epochs.shape[0]):\n",
    "        for event_type in range(epochs.shape[2]):\n",
    "\n",
    "            erp = epochs[drug_type, :, event_type, :, ch, :].mean(axis=0)[0, :]\n",
    "            std = epochs[drug_type, :, event_type, :, ch, :].std(axis=0)[0, :]\n",
    "            plt.plot(np.linspace(-200, 1000, 601), (erp), linewidth=1, color=colors[drug_type], \n",
    "                     label=f'{groups[drug_type]} {event_types[event_type]}', linestyle=linestyles[event_type])\n",
    "#             axs[drug_type].plot(np.linspace(-200, 1000, 601), (erp + std), linestyle='--', linewidth=0.5, color=colors[event_type], alpha=0.5)\n",
    "#             axs[drug_type].plot(np.linspace(-200, 1000, 601), (erp - std), linestyle='--', linewidth=0.5, color=colors[event_type], alpha=0.5)\n",
    "        \n",
    "    plt.legend()\n",
    "#     ymin, ymax = plt.ylim()\n",
    "    plt.xlim(-200, 1000)\n",
    "    plt.grid()\n",
    "        \n",
    "#     for i in range(3):\n",
    "#         axs[i].set_ylabel(event_types[i])\n",
    "    \n",
    "#     plt.tight_layout(pad=4, w_pad=0.5, h_pad=1.0)\n",
    "    fig.suptitle(f'Channel {channels[ch]}', fontsize=16)\n",
    "\n",
    "    if not os.path.exists(os.path.join('plots', f'erps', 'all')):\n",
    "        os.makedirs(os.path.join('plots', f'erps', 'all'))\n",
    "    plt.savefig(os.path.join('plots', 'erps', 'all', f'{channels[ch]}.png'))\n",
    "#     plt.close()\n",
    "    plt.show()\n",
    "            \n",
    "#     break"
   ]
  },
  {
   "cell_type": "code",
   "execution_count": null,
   "metadata": {
    "code_folding": [
     0
    ],
    "scrolled": true
   },
   "outputs": [],
   "source": [
    "# TTest events\n",
    "\n",
    "for ch in range(epochs.shape[4]):\n",
    "    fig, axs = plt.subplots(3, 1, sharex=True, sharey=True, figsize=(15, 15))\n",
    "    for drug_type in range(epochs.shape[0]):\n",
    "        for i, grp in enumerate(itertools.combinations(range(epochs.shape[2]), 2)):\n",
    "            \n",
    "            erp_a = epochs[drug_type, :, grp[0], 0, ch, :]\n",
    "            erp_b = epochs[drug_type, :, grp[1], 0, ch, :]\n",
    "            t, p = scipy.stats.ttest_ind(erp_a, erp_b)\n",
    "            axs[drug_type].plot(np.linspace(-200, 1000, 601), -np.log2(p), linewidth=2, color=colors[i],\n",
    "                                label=f'{event_types[grp[0]]} vs {event_types[grp[1]]}')\n",
    "            \n",
    "        \n",
    "        axs[drug_type].plot(np.linspace(-200, 1000, 601), -np.log2(0.05) * np.ones((601, )),\n",
    "                            linewidth=1, linestyle='--', color='black', label=f'Threshold')\n",
    "        \n",
    "        axs[drug_type].legend()\n",
    "        ymin, ymax = axs[drug_type].get_ylim()\n",
    "\n",
    "        axs[drug_type].set_xlim(-200, 1000)\n",
    "        axs[drug_type].grid()\n",
    "        \n",
    "    for i in range(3):\n",
    "        axs[i].set_ylabel(groups[i])\n",
    "    \n",
    "    plt.tight_layout(pad=4, w_pad=0.5, h_pad=1.0)\n",
    "    fig.suptitle(f'Channel {channels[ch]}', fontsize=16)\n",
    "\n",
    "    if not os.path.exists(os.path.join('plots', f'ttest', 'channels')):\n",
    "        os.makedirs(os.path.join('plots', f'ttest', 'channels'))\n",
    "    plt.savefig(os.path.join('plots', 'ttest', 'channels', f'{channels[ch]}.png'))\n",
    "#     plt.close()\n",
    "    plt.show()\n",
    "            \n",
    "#     break"
   ]
  },
  {
   "cell_type": "code",
   "execution_count": null,
   "metadata": {
    "scrolled": true
   },
   "outputs": [],
   "source": [
    "# TTest stimuli\n",
    "\n",
    "for ch in range(epochs.shape[4]):\n",
    "    fig, axs = plt.subplots(3, 1, sharex=True, sharey=True, figsize=(15, 15))\n",
    "    for event_type in range(epochs.shape[0]):\n",
    "        for i, grp in enumerate(itertools.combinations(range(epochs.shape[2]), 2)):\n",
    "            \n",
    "            erp_a = epochs[grp[0], :, event_type, 0, ch, :]\n",
    "            erp_b = epochs[grp[1], :, event_type, 0, ch, :]\n",
    "            t, p = scipy.stats.ttest_ind(erp_a, erp_b)\n",
    "            axs[event_type].plot(np.linspace(-200, 1000, 601), -np.log2(p), linewidth=2, color=colors[i],\n",
    "                                label=f'{groups[grp[0]]} vs {groups[grp[1]]}')\n",
    "            \n",
    "        \n",
    "        axs[event_type].plot(np.linspace(-200, 1000, 601), -np.log2(0.05) * np.ones((601, )),\n",
    "                             linewidth=1, linestyle='--', color='black', label=f'Threshold')\n",
    "        \n",
    "        axs[event_type].legend()\n",
    "        ymin, ymax = axs[event_type].get_ylim()\n",
    "\n",
    "        axs[event_type].set_xlim(-200, 1000)\n",
    "        axs[event_type].grid()\n",
    "        \n",
    "    for i in range(3):\n",
    "        axs[i].set_ylabel(event_types[i])\n",
    "    \n",
    "    plt.tight_layout(pad=4, w_pad=0.5, h_pad=1.0)\n",
    "    fig.suptitle(f'Channel {channels[ch]}', fontsize=16)\n",
    "\n",
    "    if not os.path.exists(os.path.join('plots', f'ttest', 'Events')):\n",
    "        os.makedirs(os.path.join('plots', f'ttest', 'Events'))\n",
    "    plt.savefig(os.path.join('plots', 'ttest', 'Events', f'{channels[ch]}.png'))\n",
    "#     plt.close()\n",
    "    plt.show()\n",
    "            \n",
    "#     break"
   ]
  },
  {
   "cell_type": "code",
   "execution_count": null,
   "metadata": {},
   "outputs": [],
   "source": [
    "print(epochs.shape)\n",
    "print(list(itertools.combinations(range(epochs.shape[2]), 2)))\n",
    "print(erp_a.shape, erp_b.shape)\n",
    "print(p.shape)"
   ]
  },
  {
   "cell_type": "code",
   "execution_count": null,
   "metadata": {
    "scrolled": false
   },
   "outputs": [],
   "source": [
    "# TTest stimuli dotted\n",
    "# --> (pd_drug_type, subjects, event_types, (mean, std), channels, time) (3, 25, 3, 2, 63, 601)\n",
    "for ch in range(epochs.shape[4]):\n",
    "    fig, axs = plt.subplots(3, 1, sharex=True, sharey=True, figsize=(15, 15))\n",
    "    for event_type in range(epochs.shape[2]):\n",
    "        for i, grp in enumerate(itertools.combinations(range(epochs.shape[0]), 2)):\n",
    "            \n",
    "            erp_a = epochs[grp[0], :, event_type, 0, ch, :]\n",
    "            erp_b = epochs[grp[1], :, event_type, 0, ch, :]\n",
    "            t, p = scipy.stats.ttest_ind(erp_a, erp_b)\n",
    "            p[p > 0.05] = 1\n",
    "            axs[event_type].plot(np.linspace(-200, 1000, 601), -np.log2(p), '.',\n",
    "                                 linewidth=2, color=colors[i],\n",
    "                                 label=f'{groups[grp[0]]} vs {groups[grp[1]]}')\n",
    "            \n",
    "        \n",
    "        axs[event_type].plot(np.linspace(-200, 1000, 601), -np.log2(0.05) * np.ones((601, )),\n",
    "                             linewidth=1, linestyle='--', color='black', label=f'Threshold')\n",
    "        \n",
    "        axs[event_type].legend()\n",
    "        ymin, ymax = axs[event_type].get_ylim()\n",
    "\n",
    "        axs[event_type].set_xlim(-200, 1000)\n",
    "        axs[event_type].grid()\n",
    "        \n",
    "    for i in range(3):\n",
    "        axs[i].set_ylabel(event_types[i])\n",
    "    \n",
    "    plt.tight_layout(pad=4, w_pad=0.5, h_pad=1.0)\n",
    "    fig.suptitle(f'Channel {channels[ch]}', fontsize=16)\n",
    "\n",
    "    if not os.path.exists(os.path.join('plots', f'ttest_dot', 'Events')):\n",
    "        os.makedirs(os.path.join('plots', f'ttest_dot', 'Events'))\n",
    "    plt.savefig(os.path.join('plots', 'ttest_dot', 'Events', f'{channels[ch]}.png'))\n",
    "#     plt.close()\n",
    "    plt.show()\n",
    "            \n",
    "#     break"
   ]
  },
  {
   "cell_type": "markdown",
   "metadata": {},
   "source": [
    "# Plot  2d PAC "
   ]
  },
  {
   "cell_type": "code",
   "execution_count": null,
   "metadata": {},
   "outputs": [],
   "source": [
    "mvl_2ds = [[] for k in groups] # np.zeros((3, 64, 169, 37))\n",
    "mvls = [[] for k in groups] # np.zeros((3, 64))\n",
    "\n",
    "for task in tasks_df.iloc:\n",
    "# if 1:\n",
    "    task_mvls = np.load(os.path.join(task['dir'], task['file_formatter'].format(f'mvls{suffix}.npz')))\n",
    "    task_mvl_2ds = np.load(os.path.join(task['dir'], task['file_formatter'].format(f'mvl_2ds{suffix}.npz')))\n",
    "    \n",
    "    # mvls\n",
    "    nbchan = task_mvls[task_mvls.files[0]].shape[0]\n",
    "    mvl = np.zeros((3, nbchan))\n",
    "    for i, event_type in enumerate(sorted(task_mvls.files)):\n",
    "        mvl[i] = task_mvls[event_type].diagonal()\n",
    "        \n",
    "    mvls[task.pd_drug_type].append(mvl)\n",
    "    \n",
    "    # mvl_2ds\n",
    "    mvl_2d = np.zeros((3, nbchan, gamma[1] - gamma[0] + 1, beta[1] - beta[0] + 1))\n",
    "    for i, event_type in enumerate(sorted(task_mvl_2ds.files)):\n",
    "        mvl_2d[i] = task_mvl_2ds[event_type].diagonal(0, 0, 1).transpose((2, 0, 1))\n",
    "        \n",
    "    mvl_2ds[task.pd_drug_type].append(mvl_2d)\n",
    "\n",
    "mvls = np.array(mvls)              # --> (pd_drug_type, subjects, event_types, channels)\n",
    "mvl_2ds = np.array(mvl_2ds)        # --> (pd_drug_type, subjects, event_types, channels, high_freqs, low_freqs)"
   ]
  },
  {
   "cell_type": "code",
   "execution_count": null,
   "metadata": {
    "scrolled": true
   },
   "outputs": [],
   "source": [
    "with open('config.json') as f:\n",
    "    config = json.load(f)\n",
    "    channels = config['channels']\n",
    "    \n",
    "for ch in range(mvl_2ds.shape[3]):\n",
    "    fig, axs = plt.subplots(3, 3, sharex=True, sharey=True, figsize=(15, 15))\n",
    "#     vmin, vmax = get_percent(np.log(mvl_2ds[:, :, :, ch].mean(axis=1)), 0.83)\n",
    "    for i, j in itertools.product(range(3), range(3)):\n",
    "        im = plot_pac(mvl_2ds[i, :, j, ch].mean(axis=0), ax=axs[i, j],)\n",
    "#                       vmin=vmin, vmax=vmax)\n",
    "        axs[i, j].xaxis.set_visible(False)\n",
    "        axs[i, j].yaxis.set_visible(False)\n",
    "\n",
    "\n",
    "    # fig.colorbar(im, ax=axs.ravel().tolist(), location='right', shrink=0.95)\n",
    "    cbar_ax = fig.add_axes([0.95, 0.15, 0.02, 0.7])\n",
    "    fig.colorbar(im, cax=cbar_ax)\n",
    "    # cbar = fig.colorbar(ims[i][j], ax=axs.ra//vel().tolist(), shrink=0.95)\n",
    "\n",
    "    for i in range(3):\n",
    "        axs[i, 0].set_ylabel(groups[i])\n",
    "        axs[0, i].set_title(event_types[i])\n",
    "\n",
    "        axs[-1, i].xaxis.set_visible(True)\n",
    "        axs[i, 0].yaxis.set_visible(True)\n",
    "    fig.suptitle(f'{channels[ch]}', fontsize=16)\n",
    "\n",
    "    save_fig(os.path.join('plots', f'pac{suffix}', f'pac_{channels[ch]}{suffix}'))\n",
    "    plt.close(fig)\n",
    "\n",
    "#     plt.show()"
   ]
  },
  {
   "cell_type": "code",
   "execution_count": null,
   "metadata": {},
   "outputs": [],
   "source": [
    "with open('config.json') as f:\n",
    "    config = json.load(f)\n",
    "    channels = config['channels']\n",
    "    \n",
    "for ch in range(mvl_2ds.shape[3]):\n",
    "    fig, axs = plt.subplots(3, 3, sharex=True, sharey=True, figsize=(15, 15))\n",
    "#     vmin, vmax = get_percent(np.log(mvl_2ds[:, :, :, ch].mean(axis=1)), 0.83)\n",
    "    for i, j in itertools.product(range(3), range(3)):\n",
    "        im = plot_pac(mvl_2ds[i, :, j, ch].mean(axis=0), ax=axs[i, j],)\n",
    "#                       vmin=vmin, vmax=vmax)\n",
    "        axs[i, j].xaxis.set_visible(False)\n",
    "        axs[i, j].yaxis.set_visible(False)\n",
    "\n",
    "\n",
    "    # fig.colorbar(im, ax=axs.ravel().tolist(), location='right', shrink=0.95)\n",
    "    cbar_ax = fig.add_axes([0.95, 0.15, 0.02, 0.7])\n",
    "    fig.colorbar(im, cax=cbar_ax)\n",
    "    # cbar = fig.colorbar(ims[i][j], ax=axs.ra//vel().tolist(), shrink=0.95)\n",
    "\n",
    "    for i in range(3):\n",
    "        axs[i, 0].set_ylabel(groups[i])\n",
    "        axs[0, i].set_title(event_types[i])\n",
    "\n",
    "        axs[-1, i].xaxis.set_visible(True)\n",
    "        axs[i, 0].yaxis.set_visible(True)\n",
    "    fig.suptitle(f'{channels[ch]}', fontsize=16)\n",
    "\n",
    "    save_fig(os.path.join('plots', f'pac{suffix}', f'pac_{channels[ch]}{suffix}'))\n",
    "    plt.close(fig)\n",
    "\n",
    "#     plt.show()"
   ]
  },
  {
   "cell_type": "code",
   "execution_count": null,
   "metadata": {
    "scrolled": false
   },
   "outputs": [],
   "source": [
    "with open('config.json') as f:\n",
    "    config = json.load(f)\n",
    "    channels = config['channels']\n",
    "    \n",
    "for ch in range(mvl_2ds.shape[3]):\n",
    "    fig, axs = plt.subplots(3, 3, sharex=True, sharey=True, figsize=(15, 15))\n",
    "#     vmin, vmax = get_percent(np.log(mvl_2ds[:, :, :, ch].mean(axis=1)), 0.83)\n",
    "    for grp, j in itertools.product(zip(itertools.combinations(range(3), 2), range(3)), range(3)):\n",
    "        a, b = grp[0]\n",
    "        i = grp[1]\n",
    "        t, p = scipy.stats.ttest_ind(mvl_2ds[a, :, j, ch], mvl_2ds[b, :, j, ch])\n",
    "        p[p>0.05] = 1\n",
    "        im = plot_pac(-np.log(p), ax=axs[i, j], )\n",
    "#                       vmin=vmin, vmax=vmax)\n",
    "        axs[i, j].xaxis.set_visible(False)\n",
    "        axs[i, j].yaxis.set_visible(False)\n",
    "\n",
    "\n",
    "    # fig.colorbar(im, ax=axs.ravel().tolist(), location='right', shrink=0.95)\n",
    "    cbar_ax = fig.add_axes([0.95, 0.15, 0.02, 0.7])\n",
    "    fig.colorbar(im, cax=cbar_ax)\n",
    "    # cbar = fig.colorbar(ims[i][j], ax=axs.ra//vel().tolist(), shrink=0.95)\n",
    "\n",
    "    for grp in zip(itertools.combinations(range(3), 2), range(3)):\n",
    "        a, b = grp[0]\n",
    "        i = grp[1]\n",
    "        \n",
    "        axs[i, 0].set_ylabel(f'{groups[a]} vs {groups[b]}')\n",
    "        axs[0, i].set_title(event_types[i])\n",
    "\n",
    "        axs[-1, i].xaxis.set_visible(True)\n",
    "        axs[i, 0].yaxis.set_visible(True)\n",
    "        \n",
    "    fig.suptitle(f'{channels[ch]}', fontsize=16)\n",
    "\n",
    "    save_fig(os.path.join('plots', f'pac_pv{suffix}', f'pac_pv_{channels[ch]}{suffix}'))\n",
    "#     plt.close(fig)\n",
    "\n",
    "    plt.show()"
   ]
  },
  {
   "cell_type": "markdown",
   "metadata": {},
   "source": [
    "# Plot topographic PAC"
   ]
  },
  {
   "cell_type": "code",
   "execution_count": null,
   "metadata": {},
   "outputs": [],
   "source": [
    "with open('config.json') as f:\n",
    "    config = json.load(f)\n",
    "    channels = config['channels']\n",
    "    \n",
    "if 'VEOG' in channels: channels.remove('VEOG')\n",
    "\n",
    "# create_elc_file(task)\n",
    "montage = mne.channels.read_custom_montage(os.path.join(\n",
    "    task.dir, task.file_formatter.format('electrodes.elc')))\n",
    "\n",
    "montage = mne.channels.read_custom_montage('Standard-10-20-Cap81.locs')\n",
    "n_channels = mvls.shape[-1]\n",
    "mne_info = mne.create_info(ch_names=channels, sfreq=500., ch_types='eeg')\n",
    "\n",
    "fig, axs = plt.subplots(3, 3, sharex=True, sharey=True, figsize=(15, 15))\n",
    "vmin, vmax = mvls.mean(axis=1).min(), mvls.mean(axis=1).max() #get_percent(mvls.mean(axis=1), 0.95)\n",
    "for i, j in itertools.product(range(3), range(3)):\n",
    "    data = mvls[i, :, j, :].mean(axis=0).reshape((-1, 1))\n",
    "    mvl_evoked = mne.EvokedArray(data - mvls.mean(), mne_info)\n",
    "    mvl_evoked.set_montage(montage)\n",
    "    mne.viz.plot_topomap(mvl_evoked.data[:, 0], mvl_evoked.info, axes=axs[i, j], show=False,\n",
    "                         names=channels, show_names=True, vmin=vmin- mvls.mean(), vmax=vmax- mvls.mean())\n",
    "\n",
    "for i in range(3):\n",
    "        axs[i, 0].set_ylabel(groups[i])\n",
    "        axs[0, i].set_title(event_types[i])\n",
    "\n",
    "        axs[-1, i].xaxis.set_visible(True)\n",
    "        axs[i, 0].yaxis.set_visible(True)\n",
    "        \n",
    "# mne.viz.mne_analyze_colormap(limits=[vmin, (vmin+vmax)/2, vmax], format='mayavi')\n",
    "\n",
    "plt.show()\n"
   ]
  },
  {
   "cell_type": "code",
   "execution_count": null,
   "metadata": {},
   "outputs": [],
   "source": [
    "with open('config.json') as f:\n",
    "    config = json.load(f)\n",
    "    channels = config['channels']\n",
    "    \n",
    "if 'VEOG' in channels: channels.remove('VEOG')\n",
    "\n",
    "# create_elc_file(task)\n",
    "montage = mne.channels.read_custom_montage(os.path.join(\n",
    "    task.dir, task.file_formatter.format('electrodes.elc')))\n",
    "\n",
    "montage = mne.channels.read_custom_montage('Standard-10-20-Cap81.locs')\n",
    "n_channels = mvls.shape[-1]\n",
    "mne_info = mne.create_info(ch_names=channels, sfreq=500., ch_types='eeg')\n",
    "\n",
    "fig, axs = plt.subplots(3, 3, sharex=True, sharey=True, figsize=(15, 15))\n",
    "# vmin, vmax = mvls.mean(axis=1).min(), mvls.mean(axis=1).max() #get_percent(mvls.mean(axis=1), 0.95)\n",
    "for grp, j in itertools.product(zip(itertools.combinations(range(3), 2), range(3)), range(3)):\n",
    "    a, b = grp[0]\n",
    "    i = grp[1]\n",
    "    t, p = scipy.stats.ttest_ind(mvls[a, :, j, :], mvls[b, :, j, :])\n",
    "    p[p>0.05] = 1\n",
    "    p = p.reshape((-1, 1))\n",
    "    mvl_evoked = mne.EvokedArray(-np.log(p) - -np.log(p).mean(), mne_info)\n",
    "    mvl_evoked.set_montage(montage)\n",
    "    mne.viz.plot_topomap(mvl_evoked.data[:, 0], mvl_evoked.info, axes=axs[i, j], show=False,\n",
    "                         names=channels, show_names=True)#, vmin=vmin- mvls.mean(), vmax=vmax- mvls.mean())\n",
    "\n",
    "for grp in zip(itertools.combinations(range(3), 2), range(3)):\n",
    "    a, b = grp[0]\n",
    "    i = grp[1]\n",
    "\n",
    "    axs[i, 0].set_ylabel(f'{groups[a]} vs {groups[b]}')\n",
    "    axs[0, i].set_title(event_types[i])\n",
    "\n",
    "    axs[-1, i].xaxis.set_visible(True)\n",
    "    axs[i, 0].yaxis.set_visible(True)\n",
    "        \n",
    "\n",
    "plt.show()"
   ]
  },
  {
   "cell_type": "markdown",
   "metadata": {},
   "source": [
    "# Plot topographic Time PAC"
   ]
  },
  {
   "cell_type": "code",
   "execution_count": null,
   "metadata": {},
   "outputs": [],
   "source": []
  }
 ],
 "metadata": {
  "hide_input": false,
  "kernelspec": {
   "display_name": "Python 3",
   "language": "python",
   "name": "python3"
  },
  "language_info": {
   "codemirror_mode": {
    "name": "ipython",
    "version": 3
   },
   "file_extension": ".py",
   "mimetype": "text/x-python",
   "name": "python",
   "nbconvert_exporter": "python",
   "pygments_lexer": "ipython3",
   "version": "3.6.6"
  },
  "toc": {
   "base_numbering": 1,
   "nav_menu": {},
   "number_sections": true,
   "sideBar": true,
   "skip_h1_title": false,
   "title_cell": "Table of Contents",
   "title_sidebar": "Contents",
   "toc_cell": false,
   "toc_position": {},
   "toc_section_display": true,
   "toc_window_display": false
  },
  "varInspector": {
   "cols": {
    "lenName": 16,
    "lenType": 16,
    "lenVar": 40
   },
   "kernels_config": {
    "python": {
     "delete_cmd_postfix": "",
     "delete_cmd_prefix": "del ",
     "library": "var_list.py",
     "varRefreshCmd": "print(var_dic_list())"
    },
    "r": {
     "delete_cmd_postfix": ") ",
     "delete_cmd_prefix": "rm(",
     "library": "var_list.r",
     "varRefreshCmd": "cat(var_dic_list()) "
    }
   },
   "types_to_exclude": [
    "module",
    "function",
    "builtin_function_or_method",
    "instance",
    "_Feature"
   ],
   "window_display": false
  }
 },
 "nbformat": 4,
 "nbformat_minor": 5
}
