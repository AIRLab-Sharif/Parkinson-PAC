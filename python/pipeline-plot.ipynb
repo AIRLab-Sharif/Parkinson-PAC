{
 "cells": [
  {
   "cell_type": "code",
   "execution_count": 1,
   "metadata": {},
   "outputs": [],
   "source": [
    "%config Completer.use_jedi = False"
   ]
  },
  {
   "cell_type": "code",
   "execution_count": 170,
   "metadata": {},
   "outputs": [],
   "source": [
    "import os\n",
    "import itertools\n",
    "import numpy as np\n",
    "import pandas as pd\n",
    "import matplotlib.pyplot as plt\n",
    "import matplotlib.ticker as mticker\n",
    "import mne\n",
    "import json\n",
    "\n",
    "# import scipy.io as sio\n",
    "# from scipy import signal\n",
    "\n",
    "import pac\n",
    "\n",
    "import simple_pipeline"
   ]
  },
  {
   "cell_type": "code",
   "execution_count": 263,
   "metadata": {},
   "outputs": [],
   "source": [
    "def plot_pac(pac, high_freq=[32, 200], low_freq=[4, 40], ax=None, **kwargs):\n",
    "    if ax is None:\n",
    "        fig = plt.figure(figsize=(7, 15))\n",
    "        ax = fig.subplots()\n",
    "\n",
    "    im = ax.imshow((pac), origin='lower', interpolation='nearest', \n",
    "                   extent=low_freq+high_freq,\n",
    "#                    aspect='auto', )\n",
    "                   aspect=np.diff(low_freq)/np.diff(high_freq), **kwargs)\n",
    "\n",
    "    if ax is None:\n",
    "        plt.show()\n",
    "        \n",
    "    return im"
   ]
  },
  {
   "cell_type": "code",
   "execution_count": 232,
   "metadata": {},
   "outputs": [],
   "source": [
    "def get_percent(arr, thr=0.95):\n",
    "    if arr.ndim > 1:\n",
    "        arr = arr.ravel()\n",
    "    freq, bins = np.histogram(arr, bins=100)\n",
    "    return (\n",
    "        bins[:-1][(freq / freq.sum()).cumsum() > thr][0], \n",
    "        bins[1:][(freq / freq.sum()).cumsum() > thr][0]\n",
    "    )"
   ]
  },
  {
   "cell_type": "code",
   "execution_count": 276,
   "metadata": {},
   "outputs": [],
   "source": [
    "def save_fig(path):\n",
    "    directory = os.path.dirname(path)\n",
    "    if not os.path.exists(directory):\n",
    "        os.makedirs(directory)\n",
    "    plt.savefig(path)"
   ]
  },
  {
   "cell_type": "markdown",
   "metadata": {},
   "source": [
    "# Create Task list in `tasks_df`"
   ]
  },
  {
   "cell_type": "code",
   "execution_count": 4,
   "metadata": {},
   "outputs": [],
   "source": [
    "if __name__ == '__main__':\n",
    "    tasks_df = simple_pipeline.create_tasks_df()\n",
    "    \n",
    "    completed = []\n",
    "    for task in tasks_df.iloc:\n",
    "        json_path = os.path.join(task['dir'], task['file_formatter'].format('completed.json'))\n",
    "        completed.append(os.path.exists(json_path))\n",
    "\n",
    "    tasks_df = pd.concat([tasks_df, pd.DataFrame({'completed': completed})], axis=1)"
   ]
  },
  {
   "cell_type": "code",
   "execution_count": 182,
   "metadata": {},
   "outputs": [],
   "source": [
    "groups = ['CTL', 'PD Med On', 'PD Med Off']\n",
    "event_types = ['Target', 'Standard', 'Novelty']\n",
    "mvl_2ds = [[] for k in groups] # np.zeros((3, 64, 169, 37))\n",
    "mvls = [[] for k in groups] # np.zeros((3, 64))\n",
    "\n",
    "for task in tasks_df.iloc:\n",
    "# if 1:\n",
    "    task_mvls = np.load(os.path.join(task['dir'], task['file_formatter'].format('mvls.npz')))\n",
    "    task_mvl_2ds = np.load(os.path.join(task['dir'], task['file_formatter'].format('mvl_2ds.npz')))\n",
    "\n",
    "    mvl = np.zeros((3, 64))\n",
    "    for i, event_type in enumerate(sorted(task_mvls.files)):\n",
    "        mvl[i] = task_mvls[event_type].diagonal()\n",
    "        \n",
    "    mvls[task.pd_drug_type].append(mvl)\n",
    "    \n",
    "    mvl_2d = np.zeros((3, 64, 169, 37))\n",
    "    for i, event_type in enumerate(sorted(task_mvl_2ds.files)):\n",
    "        mvl_2d[i] = task_mvl_2ds[event_type].diagonal(0, 0, 1).transpose((2, 0, 1))\n",
    "        \n",
    "    mvl_2ds[task.pd_drug_type].append(mvl_2d)\n",
    "\n",
    "mvls = np.array(mvls)\n",
    "mvl_2ds = np.array(mvl_2ds)"
   ]
  },
  {
   "cell_type": "code",
   "execution_count": 293,
   "metadata": {},
   "outputs": [],
   "source": [
    "with open('config.json') as f:\n",
    "    config = json.load(f)\n",
    "    channels = config['channels']\n",
    "    \n",
    "for ch in range(mvl_2ds.shape[3]):\n",
    "    fig, axs = plt.subplots(3, 3, sharex=True, sharey=True, figsize=(15, 15))\n",
    "    vmin, vmax = get_percent(np.log(mvl_2ds[:, :, :, ch].mean(axis=1)), 0.83)\n",
    "    ims = ([[None] * 3]) * 3\n",
    "    for i, j in itertools.product(range(3), range(3)):\n",
    "        im = plot_pac(mvl_2ds[i, :, j, ch].mean(axis=0), ax=axs[i, j],)\n",
    "    #              vmin=vmin, vmax=vmax)\n",
    "        axs[i, j].xaxis.set_visible(False)\n",
    "        axs[i, j].yaxis.set_visible(False)\n",
    "\n",
    "\n",
    "    # fig.colorbar(im, ax=axs.ravel().tolist(), location='right', shrink=0.95)\n",
    "    cbar_ax = fig.add_axes([0.95, 0.15, 0.02, 0.7])\n",
    "    fig.colorbar(im, cax=cbar_ax)\n",
    "    # cbar = fig.colorbar(ims[i][j], ax=axs.ra//vel().tolist(), shrink=0.95)\n",
    "\n",
    "    for i in range(3):\n",
    "        axs[i, 0].set_ylabel(groups[i])\n",
    "        axs[0, i].set_title(event_types[i])\n",
    "\n",
    "        axs[-1, i].xaxis.set_visible(True)\n",
    "        axs[i, 0].yaxis.set_visible(True)\n",
    "\n",
    "    save_fig(os.path.join('plots', f'pac_{channels[ch]}'))\n",
    "    plt.close(fig)\n",
    "\n",
    "#     plt.show()"
   ]
  },
  {
   "cell_type": "code",
   "execution_count": null,
   "metadata": {},
   "outputs": [],
   "source": []
  }
 ],
 "metadata": {
  "kernelspec": {
   "display_name": "Python 3",
   "language": "python",
   "name": "python3"
  },
  "language_info": {
   "codemirror_mode": {
    "name": "ipython",
    "version": 3
   },
   "file_extension": ".py",
   "mimetype": "text/x-python",
   "name": "python",
   "nbconvert_exporter": "python",
   "pygments_lexer": "ipython3",
   "version": "3.6.6"
  }
 },
 "nbformat": 4,
 "nbformat_minor": 5
}
