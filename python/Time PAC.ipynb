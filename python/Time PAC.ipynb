{
 "cells": [
  {
   "cell_type": "code",
   "execution_count": 1,
   "metadata": {},
   "outputs": [],
   "source": [
    "%config Completer.use_jedi = False"
   ]
  },
  {
   "cell_type": "code",
   "execution_count": 2,
   "metadata": {},
   "outputs": [],
   "source": [
    "import json\n",
    "import os\n",
    "import sys\n",
    "\n",
    "import mne\n",
    "import numpy as np\n",
    "import pandas as pd\n",
    "\n",
    "import pac\n",
    "\n",
    "\n",
    "\n",
    "suffix = '_time_PAC'\n",
    "gamma = [20, 80]\n",
    "beta  = [ 4, 16]"
   ]
  },
  {
   "cell_type": "code",
   "execution_count": 3,
   "metadata": {
    "code_folding": [
     37
    ],
    "run_control": {
     "marked": true
    }
   },
   "outputs": [],
   "source": [
    "def create_tasks_df(ds_path=None):\n",
    "    if ds_path is None:\n",
    "        with open('config.json') as f:\n",
    "            config = json.load(f)\n",
    "        base_path = config['BASE_PATH']\n",
    "        ds_path = os.path.join(base_path, 'ds003490-download')\n",
    "\n",
    "    df = pd.read_csv(os.path.join(ds_path, 'participants.tsv'), sep=\"\\t\")\n",
    "    tasks = []\n",
    "\n",
    "    for _, participant in df.iterrows():\n",
    "        if participant.Group == 'PD':\n",
    "            sessions = [(1, 1 * (participant.sess1_Med == 'ON')),\n",
    "                        (2, 1 * (participant.sess2_Med == 'ON'))]\n",
    "        else:\n",
    "            sessions = [(1, 2)]\n",
    "\n",
    "        for sess, pd_drug_type in sessions:\n",
    "            participant_tasks = {}\n",
    "            participant_tasks['participant_id'] = participant['participant_id']\n",
    "            participant_tasks['pd_drug_type'] = pd_drug_type\n",
    "            participant_tasks['isMale'] = participant['sex'] == 'Male'\n",
    "            participant_tasks['age'] = participant['age']\n",
    "            participant_tasks['dir'] = os.path.join(ds_path, participant['participant_id'], f'ses-{sess:02}', 'eeg', )\n",
    "            participant_tasks[\n",
    "                'file'] = f'{participant[\"participant_id\"]}_ses-{sess:02}_eeg_{participant[\"participant_id\"]}_ses-{sess:02}_task-Rest_eeg.mat'\n",
    "            participant_tasks['file_formatter'] = f'{participant[\"participant_id\"]}_ses-{sess:02}_task-Rest_{{}}'\n",
    "            participant_tasks['path'] = os.path.join(\n",
    "                participant_tasks['dir'], participant_tasks['file'])\n",
    "\n",
    "            tasks.append(participant_tasks)\n",
    "\n",
    "    tasks_df = pd.DataFrame(tasks)\n",
    "\n",
    "    return tasks_df\n",
    "\n",
    "\n",
    "def _test_tasks_df(tasks_df, i=0):\n",
    "    task = tasks_df.iloc[i]\n",
    "\n",
    "    assert os.path.exists(task.path)\n",
    "\n",
    "    ds = sio.loadmat(task.path)\n",
    "\n",
    "    ds['data'] = ds['EEG']\n",
    "\n",
    "    nbchan = ds['data'][0, 0]['nbchan'][0, 0]  # .dtype\n",
    "    Fs = ds['data'][0, 0]['srate'][0, 0]\n",
    "    times = ds['data'][0, 0]['times']\n",
    "    data = ds['data'][0, 0]['data']\n",
    "\n",
    "    dtypes = [k for k in ds['data'][0, 0]['event'].dtype.names]\n",
    "    events = pd.DataFrame([{n: event[n].item() if event[n].size > 0 else None for n in dtypes}\n",
    "                           for event in ds['data'][0, 0]['event'][0]])\n",
    "\n",
    "    electrodes = pd.read_csv(os.path.join(\n",
    "        task['dir'], task['file_formatter'].format('electrodes.tsv')), sep='\\t')\n",
    "\n",
    "    reject = ds['data'][0, 0]['reject']\n",
    "\n",
    "    print(events)\n"
   ]
  },
  {
   "cell_type": "markdown",
   "metadata": {},
   "source": [
    "# Create Task list in `tasks_df`"
   ]
  },
  {
   "cell_type": "code",
   "execution_count": 4,
   "metadata": {
    "code_folding": [
     0,
     13
    ]
   },
   "outputs": [],
   "source": [
    "def check_completed(task, event=None) -> bool:\n",
    "    json_path = os.path.join(task['dir'], task['file_formatter'].format(f'completed{suffix}.json'))\n",
    "    completed = {}\n",
    "    if os.path.exists(json_path):\n",
    "        with open(json_path) as f:\n",
    "            completed = json.load(f)\n",
    "    \n",
    "    if event is None:\n",
    "        return completed.get('total', False)\n",
    "    else:\n",
    "        return completed.get(event, False)\n",
    "\n",
    "\n",
    "def update_completed(task, event=None) -> bool:\n",
    "    json_path = os.path.join(task['dir'], task['file_formatter'].format(f'completed{suffix}.json'))\n",
    "    completed = {}\n",
    "    if os.path.exists(json_path):\n",
    "        with open(json_path) as f:\n",
    "            completed = json.load(f)\n",
    "\n",
    "    if event is None:\n",
    "        completed['total'] = True\n",
    "    else:\n",
    "        completed[event] = True\n",
    "        \n",
    "    with open(json_path, 'w') as f:\n",
    "        json.dump(completed, f)\n"
   ]
  },
  {
   "cell_type": "code",
   "execution_count": 5,
   "metadata": {
    "code_folding": []
   },
   "outputs": [],
   "source": [
    "def analyse_erps(erps: dict, task=None):\n",
    "    mvls = {}\n",
    "    mvl_2ds = {}\n",
    "    mvl_2d_times = {}\n",
    "    \n",
    "    steps = list(range(-200, 1000 + 1, 200))\n",
    "    \n",
    "    groups = ['PD Med Off', 'PD Med On', 'CTL']\n",
    "\n",
    "    for event_type, erp in erps.items():\n",
    "        mvl_2d = np.zeros(\n",
    "            (erp.info['nchan'], erp.info['nchan'], gamma[1] - gamma[0] + 1, beta[1] - beta[0] + 1))\n",
    "        mvl_2d_time = np.zeros((erp.info['nchan'], gamma[1] - gamma[0] + 1, \n",
    "                                beta[1] - beta[0] + 1, len(steps) - 1 ))\n",
    "\n",
    "        mvl = np.zeros((erp.info['nchan'], erp.info['nchan'],))\n",
    "        tfds = {}\n",
    "\n",
    "        erp_df = erp.to_data_frame()\n",
    "        erp_df = erp_df.set_index('time')\n",
    "\n",
    "        if task is not None:\n",
    "            print(f'{task.participant_id} {groups[task.pd_drug_type]:10} {event_type} tfd started')\n",
    "\n",
    "        for ch in erp_df:\n",
    "            tfd = pac.rid_rihaczek(erp_df[ch], int(erp.info['sfreq']))\n",
    "            tfds[ch] = tfd\n",
    "\n",
    "        for chx, chxname in enumerate(erp_df):\n",
    "            chy = chx\n",
    "            chyname = chxname\n",
    "            \n",
    "            for i, ts in enumerate(zip(steps[:-1], steps[1:])):\n",
    "                tstart, tend = ts\n",
    "                ind_start = np.where(erp_df.index == tstart)[0][0]\n",
    "                ind_end   = np.where(erp_df.index == tend)[0][0]\n",
    "                mvl_2d_time[chx, :, :, i] = pac.tfMVL_tfd2_2d_time(\n",
    "                    tfds[chxname], tfds[chxname], gamma, beta, ind_start, ind_end)\n",
    "\n",
    "            \n",
    "            for chy, chyname in enumerate(erp_df):\n",
    "                # todo:\n",
    "                # if(check_completed(task, f'{event_type}_{chxname}_{chyname}')):\n",
    "                #     continue\n",
    "\n",
    "                mvl_2d[chx, chy] = pac.tfMVL_tfd2_2d(\n",
    "                    tfds[chxname], tfds[chyname], gamma, beta)\n",
    "                mvl[chx, chy] = mvl_2d[chx, chy].sum()\n",
    "            # mvl[chx, chy] = pac.tfMVL_tfd2(\n",
    "            #     tfds[chxname], tfds[chyname], gamma, beta)\n",
    "\n",
    "        mvls[event_type] = mvl\n",
    "        mvl_2ds[event_type] = mvl_2d\n",
    "        mvl_2d_times[event_type] = mvl_2d_time\n",
    "\n",
    "    return mvls, mvl_2ds, mvl_2d_times"
   ]
  },
  {
   "cell_type": "code",
   "execution_count": 6,
   "metadata": {
    "code_folding": []
   },
   "outputs": [],
   "source": [
    "def analyse_sub(task):\n",
    "    if (check_completed(task)):\n",
    "        return\n",
    "\n",
    "    raw = mne.io.read_raw_eeglab(os.path.join(task['dir'], 'pre_' + task['file_formatter'].format('eeg.set')),\n",
    "                                 preload=True, verbose=0)\n",
    "    # raw.drop_channels(['X', 'Y', 'Z'])\n",
    "    raw.drop_channels(['VEOG'])\n",
    "    raw.set_eeg_reference()\n",
    "    \n",
    "    for ch in raw._data:\n",
    "        ch -= ch.mean()\n",
    "        ch /= ch.std()\n",
    "\n",
    "    # create_elc_file(task)\n",
    "    # montage = mne.channels.read_custom_montage(os.path.join(\n",
    "    #     task.dir, task.file_formatter.format('electrodes.elc')))\n",
    "    montage = mne.channels.read_custom_montage('Standard-10-20-Cap81.locs')\n",
    "    raw.set_montage(montage)\n",
    "\n",
    "    # mne.viz.plot_topomap(raw._data[:, 194000], raw.info, axes=ax,\n",
    "    #                      show=False)\n",
    "\n",
    "    eeg_picks = mne.pick_types(raw.info, eeg=True, meg=False, eog=True)\n",
    "    # freqs = (60, 120, 180, 240)\n",
    "    # raw_notch = raw.copy().notch_filter(freqs=freqs, picks=eeg_picks, verbose=0)\n",
    "    # raw_filtered = raw_notch.copy().filter(l_freq=1, h_freq=150, verbose=0)\n",
    "    \n",
    "    events, event_dict = mne.events_from_annotations(raw, verbose=0)\n",
    "\n",
    "    selected_events = ['S200', 'S201', 'S202']\n",
    "    event_types = {'S200': 'Target', 'S201': 'Standard', 'S202':'Novelty'}\n",
    "    kwargs = {'S200': {'baseline': (0.250, 0.450), 'tmin': 0.250, 'tmax':1.450},\n",
    "              'S201': {'baseline': (0.250, 0.450), 'tmin': 0.250, 'tmax':1.450},\n",
    "              'S202': {'baseline': (-.200,     0), 'tmin': -.200, 'tmax':1.000},}\n",
    "\n",
    "    erps = {}\n",
    "    epochs_data = {}\n",
    "    for ev in selected_events:\n",
    "        epochs = mne.Epochs(raw, events[events[:, 2] == event_dict[ev]],\n",
    "                            event_id={ev: event_dict[ev]}, preload=True, verbose=0, **(kwargs[ev]))\n",
    "        erps[ev] = epochs[ev].average()\n",
    "        if event_types[ev] in ['Target', 'Standard']:\n",
    "            epochs_data[ev] = epochs[ev]._data\n",
    "        else:\n",
    "            epochs_data[ev] = epochs[ev]._data\n",
    "\n",
    "        \n",
    "    np.savez_compressed(os.path.join(task['dir'], task['file_formatter'].format(f'epochs')),\n",
    "                        **epochs_data)\n",
    "    \n",
    "    np.savez_compressed(os.path.join(task['dir'], task['file_formatter'].format(f'erps')),\n",
    "                        **erps)\n",
    "    \n",
    "#     return\n",
    "\n",
    "    mvls, mvl_2ds, mvl_2d_times = analyse_erps(erps, task)\n",
    "    np.savez_compressed(os.path.join(task['dir'], task['file_formatter'].format(f'mvls{suffix}')),\n",
    "                        **mvls)\n",
    "    np.savez_compressed(os.path.join(task['dir'], task['file_formatter'].format(f'mvl_2ds{suffix}')),\n",
    "                        **mvl_2ds)\n",
    "    np.savez_compressed(os.path.join(task['dir'], task['file_formatter'].format(f'mvl_2d_times{suffix}')),\n",
    "                        **mvl_2d_times)\n",
    "    update_completed(task)\n",
    "    print(f'{task.participant_id} completed')"
   ]
  },
  {
   "cell_type": "markdown",
   "metadata": {},
   "source": [
    "# Main"
   ]
  },
  {
   "cell_type": "code",
   "execution_count": 6,
   "metadata": {
    "code_folding": [],
    "hide_input": false,
    "run_control": {
     "marked": true
    },
    "scrolled": true
   },
   "outputs": [
    {
     "name": "stdout",
     "output_type": "stream",
     "text": [
      "finished\n"
     ]
    }
   ],
   "source": [
    "if __name__ == '__main__':\n",
    "    tasks_df = create_tasks_df()\n",
    "\n",
    "#     analyse_sub(tasks_df.iloc[0])\n",
    "\n",
    "    # from multiprocessing import Pool\n",
    "    # with Pool(4) as p:\n",
    "    #    p.map(analyse_sub, tasks_df.iloc)\n",
    "\n",
    "#     for task in tasks_df.iloc:\n",
    "#         analyse_sub(task)\n",
    "    print('finished')"
   ]
  },
  {
   "cell_type": "markdown",
   "metadata": {},
   "source": [
    "# Single Subject"
   ]
  },
  {
   "cell_type": "code",
   "execution_count": 7,
   "metadata": {},
   "outputs": [
    {
     "name": "stderr",
     "output_type": "stream",
     "text": [
      "<ipython-input-7-f188ffe51aa9>:4: RuntimeWarning: The data contains 'boundary' events, indicating data discontinuities. Be cautious of filtering and epoching around these events.\n",
      "  preload=True, verbose=0)\n"
     ]
    }
   ],
   "source": [
    "task = tasks_df.iloc[0]\n",
    "\n",
    "raw = mne.io.read_raw_eeglab(os.path.join(task['dir'], 'pre_' + task['file_formatter'].format('eeg.set')),\n",
    "                             preload=True, verbose=0)\n",
    "# raw.drop_channels(['X', 'Y', 'Z'])\n",
    "raw.drop_channels(['VEOG'])\n",
    "raw.set_eeg_reference()\n",
    "\n",
    "for ch in raw._data:\n",
    "    ch -= ch.mean()\n",
    "    ch /= ch.std()\n",
    "\n",
    "# create_elc_file(task)\n",
    "# montage = mne.channels.read_custom_montage(os.path.join(\n",
    "#     task.dir, task.file_formatter.format('electrodes.elc')))\n",
    "montage = mne.channels.read_custom_montage('Standard-10-20-Cap81.locs')\n",
    "raw.set_montage(montage)\n",
    "\n",
    "# mne.viz.plot_topomap(raw._data[:, 194000], raw.info, axes=ax,\n",
    "#                      show=False)\n",
    "\n",
    "eeg_picks = mne.pick_types(raw.info, eeg=True, meg=False, eog=True)\n",
    "# freqs = (60, 120, 180, 240)\n",
    "# raw_notch = raw.copy().notch_filter(freqs=freqs, picks=eeg_picks, verbose=0)\n",
    "# raw_filtered = raw_notch.copy().filter(l_freq=1, h_freq=150, verbose=0)\n",
    "\n",
    "events, event_dict = mne.events_from_annotations(raw, verbose=0)\n",
    "epochs = mne.Epochs(raw, events, event_id=event_dict,\n",
    "                    tmin=-0.2, tmax=1.45, preload=True, verbose=0)\n",
    "\n",
    "selected_events = ['S200', 'S201', 'S202']\n",
    "event_types = {'S200': 'Target', 'S201': 'Standard', 'S202':'Novelty'}\n",
    "\n",
    "erps = {}\n",
    "epochs_data = {}\n",
    "for ev in selected_events:\n",
    "    erps[ev] = epochs[ev].average()\n",
    "    \n",
    "erps = {}\n",
    "epochs_data = {}\n",
    "for ev in selected_events:\n",
    "    erps[ev] = epochs[ev].average()\n",
    "    if event_types[ev] in ['Target', 'Standard']:\n",
    "        epochs_data[ev] = epochs[ev]._data[:, :, -601:]\n",
    "    else:\n",
    "        epochs_data[ev] = epochs[ev]._data[:, :, :601]"
   ]
  },
  {
   "cell_type": "code",
   "execution_count": 25,
   "metadata": {},
   "outputs": [
    {
     "name": "stdout",
     "output_type": "stream",
     "text": [
      "sub-001 PD Med On  S200 tfd started\n"
     ]
    }
   ],
   "source": [
    "erp = erps['S200']\n",
    "\n",
    "mvls = {}\n",
    "mvl_2ds = {}\n",
    "mvl_2ds_time = {}\n",
    "\n",
    "steps = list(range(-200, 1000 + 1, 100))\n",
    "\n",
    "groups = ['PD Med Off', 'PD Med On', 'CTL']\n",
    "\n",
    "for event_type, erp in erps.items():\n",
    "    mvl_2d = np.zeros((erp.info['nchan'], erp.info['nchan'],\n",
    "                       gamma[1] - gamma[0] + 1, beta[1] - beta[0] + 1))\n",
    "    mvl_2d_time = np.zeros((erp.info['nchan'], gamma[1] - gamma[0] + 1, \n",
    "                            beta[1] - beta[0] + 1, len(steps) - 1 ))\n",
    "\n",
    "    mvl = np.zeros((erp.info['nchan'], erp.info['nchan'],))\n",
    "    tfds = {}\n",
    "\n",
    "    erp_df = erp.to_data_frame()\n",
    "    erp_df = erp_df.set_index('time')\n",
    "\n",
    "    if task is not None:\n",
    "        print(f'{task.participant_id} {groups[task.pd_drug_type]:10} {event_type} tfd started')\n",
    "\n",
    "    for ch in erp_df[:1]:\n",
    "        tfd = pac.rid_rihaczek(erp_df[ch], int(erp.info['sfreq']))\n",
    "        tfds[ch] = tfd\n",
    "\n",
    "    for chx, chxname in enumerate(erp_df[:1]):\n",
    "        chy = chx\n",
    "        chyname = chxname\n",
    "        \n",
    "        for i, ts in enumerate(zip(steps[:-1], steps[1:])):\n",
    "            ts = tstart, tend\n",
    "            ind_start, ind_end = np.where(erp_df.index == tstart)[0][0], np.where(erp_df.index == tend)[0][0]\n",
    "            mvl_2d_time[chx, :, :, i] = pac.tfMVL_tfd2_2d_time(\n",
    "                tfds[chxname], tfds[chxname], gamma, beta, ind_start, ind_end)\n",
    "            \n",
    "        break\n",
    "    break\n",
    "        \n",
    "#         for chy, chyname in enumerate(erp_df):\n",
    "#             print(chxname, chyname)\n",
    "\n",
    "#             # todo:\n",
    "#             # if(check_completed(task, f'{event_type}_{chxname}_{chyname}')):\n",
    "#             #     continue\n",
    "\n",
    "#             mvl_2d[chx, chy] = pac.tfMVL_tfd2_2d(\n",
    "#                 tfds[chxname], tfds[chyname], gamma, beta)\n",
    "#             mvl[chx, chy] = mvl_2d[chx, chy].sum()\n"
   ]
  },
  {
   "cell_type": "code",
   "execution_count": 29,
   "metadata": {},
   "outputs": [],
   "source": [
    "A = pac.tfMVL_tfd2_2d_time(\n",
    "    tfds[chxname], tfds[chxname], gamma, beta, ind_start, ind_end)"
   ]
  },
  {
   "cell_type": "code",
   "execution_count": 33,
   "metadata": {},
   "outputs": [
    {
     "data": {
      "text/plain": [
       "array([[3.70750071e+11, 3.50669039e+11, 3.13276364e+11, 2.67757240e+11,\n",
       "        2.45099047e+11, 2.45678308e+11, 2.68144852e+11, 3.19257289e+11,\n",
       "        3.57757593e+11, 2.03346506e+11, 1.28031577e+11, 7.91387491e+10,\n",
       "        4.12345662e+10],\n",
       "       [4.27106662e+11, 4.02208505e+11, 3.57010944e+11, 3.02507140e+11,\n",
       "        2.74590720e+11, 2.76159957e+11, 3.08656354e+11, 3.77042314e+11,\n",
       "        4.20143788e+11, 2.41101722e+11, 1.65071993e+11, 1.10151056e+11,\n",
       "        5.66865224e+10],\n",
       "       [4.30534021e+11, 4.04426800e+11, 3.57719902e+11, 3.01759920e+11,\n",
       "        2.72640405e+11, 2.74636001e+11, 3.11118956e+11, 3.85399531e+11,\n",
       "        4.28035103e+11, 2.49873175e+11, 1.72455073e+11, 1.15681091e+11,\n",
       "        5.53145333e+10],\n",
       "       [3.74911795e+11, 3.50663782e+11, 3.07465505e+11, 2.55829380e+11,\n",
       "        2.28778629e+11, 2.30549605e+11, 2.65104313e+11, 3.35290548e+11,\n",
       "        3.74523647e+11, 2.27398373e+11, 1.51951029e+11, 9.67934116e+10,\n",
       "        3.76756772e+10],\n",
       "       [2.78869901e+11, 2.58271967e+11, 2.21503701e+11, 1.77490033e+11,\n",
       "        1.54377843e+11, 1.55437514e+11, 1.84437668e+11, 2.45229702e+11,\n",
       "        2.78800251e+11, 1.81190291e+11, 1.11140278e+11, 6.27315237e+10,\n",
       "        2.77557068e+10],\n",
       "       [2.03207654e+11, 1.85695861e+11, 1.54849393e+11, 1.18326142e+11,\n",
       "        9.92224860e+10, 9.95648379e+10, 1.23611590e+11, 1.77497372e+11,\n",
       "        2.02813548e+11, 1.37765839e+11, 7.38728278e+10, 4.47703379e+10,\n",
       "        5.54409329e+10],\n",
       "       [2.76229870e+11, 2.56438678e+11, 2.21531494e+11, 1.80040267e+11,\n",
       "        1.58072289e+11, 1.59261637e+11, 1.88016518e+11, 2.47116040e+11,\n",
       "        2.77628296e+11, 1.69678013e+11, 1.01391132e+11, 5.37230221e+10,\n",
       "        1.62371188e+10],\n",
       "       [3.70608859e+11, 3.47430639e+11, 3.07248005e+11, 2.60026603e+11,\n",
       "        2.34744513e+11, 2.36987681e+11, 2.72753339e+11, 3.42144170e+11,\n",
       "        3.76067439e+11, 2.24248441e+11, 1.53084596e+11, 1.00866327e+11,\n",
       "        4.06713793e+10],\n",
       "       [4.27099687e+11, 4.02180901e+11, 3.59655010e+11, 3.10113161e+11,\n",
       "        2.83246090e+11, 2.86086646e+11, 3.26252780e+11, 4.01872516e+11,\n",
       "        4.36037979e+11, 2.61879693e+11, 1.89171970e+11, 1.34517618e+11,\n",
       "        6.71483609e+10],\n",
       "       [4.26208532e+11, 4.01816518e+11, 3.60530926e+11, 3.12670337e+11,\n",
       "        2.86508477e+11, 2.89381048e+11, 3.29544811e+11, 4.04210256e+11,\n",
       "        4.36573397e+11, 2.67555424e+11, 1.97090411e+11, 1.43074113e+11,\n",
       "        7.44183807e+10],\n",
       "       [3.67415386e+11, 3.45550962e+11, 3.08454339e+11, 2.65483104e+11,\n",
       "        2.42050206e+11, 2.44459719e+11, 2.80170729e+11, 3.46992118e+11,\n",
       "        3.76652460e+11, 2.36896062e+11, 1.72443230e+11, 1.23130538e+11,\n",
       "        6.16264004e+10],\n",
       "       [2.66218219e+11, 2.48256572e+11, 2.17268522e+11, 1.81050768e+11,\n",
       "        1.61553181e+11, 1.63181092e+11, 1.91280252e+11, 2.45789278e+11,\n",
       "        2.72033034e+11, 1.73532333e+11, 1.16459566e+11, 7.56419686e+10,\n",
       "        3.18245823e+10],\n",
       "       [1.67194857e+11, 1.54318802e+11, 1.31890467e+11, 1.05452503e+11,\n",
       "        9.15060616e+10, 9.18950942e+10, 1.10124306e+11, 1.49598625e+11,\n",
       "        1.67434529e+11, 9.63354336e+10, 4.36196846e+10, 1.53926256e+10,\n",
       "        3.12319285e+10],\n",
       "       [2.37115210e+11, 2.20981670e+11, 1.92849449e+11, 1.59579300e+11,\n",
       "        1.41780484e+11, 1.42989918e+11, 1.67465537e+11, 2.16181970e+11,\n",
       "        2.39807873e+11, 1.40222853e+11, 8.65269174e+10, 4.85464352e+10,\n",
       "        7.17505706e+09],\n",
       "       [3.74839781e+11, 3.52451801e+11, 3.14611807e+11, 2.70724396e+11,\n",
       "        2.46588879e+11, 2.48942872e+11, 2.86316160e+11, 3.55558149e+11,\n",
       "        3.84511207e+11, 2.39175367e+11, 1.75942133e+11, 1.25532948e+11,\n",
       "        5.96920720e+10],\n",
       "       [4.94810906e+11, 4.67749200e+11, 4.23034130e+11, 3.71680061e+11,\n",
       "        3.42726424e+11, 3.45809140e+11, 3.93666409e+11, 4.79404999e+11,\n",
       "        5.10432191e+11, 3.24401934e+11, 2.50294270e+11, 1.87704608e+11,\n",
       "        9.87412776e+10],\n",
       "       [5.70787170e+11, 5.40731907e+11, 4.91641134e+11, 4.35484068e+11,\n",
       "        4.03365128e+11, 4.06888333e+11, 4.61570037e+11, 5.58142725e+11,\n",
       "        5.90448299e+11, 3.77937346e+11, 2.94964438e+11, 2.23795062e+11,\n",
       "        1.19473561e+11],\n",
       "       [5.89221164e+11, 5.57908804e+11, 5.06804359e+11, 4.48403197e+11,\n",
       "        4.14991151e+11, 4.18645923e+11, 4.75586564e+11, 5.76283219e+11,\n",
       "        6.10087619e+11, 3.90759148e+11, 3.02911262e+11, 2.28444454e+11,\n",
       "        1.20043794e+11],\n",
       "       [5.45953234e+11, 5.15391227e+11, 4.65043823e+11, 4.07399977e+11,\n",
       "        3.74834129e+11, 3.78262221e+11, 4.32387639e+11, 5.29583393e+11,\n",
       "        5.64770600e+11, 3.60708435e+11, 2.73383408e+11, 2.01676283e+11,\n",
       "        1.01463124e+11],\n",
       "       [4.47558083e+11, 4.20133708e+11, 3.74165106e+11, 3.21200056e+11,\n",
       "        2.91859306e+11, 2.94683181e+11, 3.41118865e+11, 4.26874394e+11,\n",
       "        4.61665397e+11, 2.92942658e+11, 2.11878457e+11, 1.48757198e+11,\n",
       "        6.75561223e+10],\n",
       "       [3.15109823e+11, 2.93035729e+11, 2.55222608e+11, 2.11086530e+11,\n",
       "        1.87057661e+11, 1.88927136e+11, 2.24383924e+11, 2.92709450e+11,\n",
       "        3.23320043e+11, 2.02738645e+11, 1.32275110e+11, 8.21562531e+10,\n",
       "        3.12338865e+10],\n",
       "       [1.96160577e+11, 1.79418518e+11, 1.50472177e+11, 1.16333106e+11,\n",
       "        9.77707004e+10, 9.86401061e+10, 1.24753305e+11, 1.77942777e+11,\n",
       "        2.00519862e+11, 1.28300788e+11, 7.10646627e+10, 4.21421253e+10,\n",
       "        4.57574989e+10],\n",
       "       [2.11817018e+11, 1.95788316e+11, 1.68191105e+11, 1.36059379e+11,\n",
       "        1.18719387e+11, 1.19831604e+11, 1.45229436e+11, 1.94811023e+11,\n",
       "        2.17447043e+11, 1.50199131e+11, 1.04005463e+11, 7.16193694e+10,\n",
       "        4.21289943e+10],\n",
       "       [2.66094097e+11, 2.50567269e+11, 2.24364516e+11, 1.94322588e+11,\n",
       "        1.77910479e+11, 1.79142058e+11, 2.04940920e+11, 2.52417634e+11,\n",
       "        2.72191439e+11, 1.91084899e+11, 1.54481447e+11, 1.20027031e+11,\n",
       "        7.08760751e+10],\n",
       "       [2.85277252e+11, 2.69460080e+11, 2.42615101e+11, 2.11789995e+11,\n",
       "        1.95030503e+11, 1.96250997e+11, 2.22263699e+11, 2.69906542e+11,\n",
       "        2.90327452e+11, 2.07367961e+11, 1.74576642e+11, 1.39202740e+11,\n",
       "        8.75771049e+10],\n",
       "       [2.57856358e+11, 2.40951540e+11, 2.11340898e+11, 1.76752746e+11,\n",
       "        1.58491987e+11, 1.59697812e+11, 1.85136084e+11, 2.34681424e+11,\n",
       "        2.61188216e+11, 1.87433748e+11, 1.46292399e+11, 1.09447333e+11,\n",
       "        6.62842848e+10],\n",
       "       [2.00542913e+11, 1.86350732e+11, 1.60813316e+11, 1.30229613e+11,\n",
       "        1.14517198e+11, 1.14985788e+11, 1.33237282e+11, 1.73858943e+11,\n",
       "        1.97699239e+11, 1.24018846e+11, 6.73818610e+10, 3.03471590e+10,\n",
       "        1.66951855e+10],\n",
       "       [2.70126938e+11, 2.52931163e+11, 2.22439272e+11, 1.86348782e+11,\n",
       "        1.67856694e+11, 1.68405338e+11, 1.90459444e+11, 2.39555586e+11,\n",
       "        2.66291348e+11, 1.41829294e+11, 6.42585287e+10, 1.89824801e+10,\n",
       "        2.92572329e+10],\n",
       "       [4.98906265e+11, 4.67444374e+11, 4.13214029e+11, 3.49721495e+11,\n",
       "        3.15674649e+11, 3.18858441e+11, 3.67500415e+11, 4.62383415e+11,\n",
       "        5.07935046e+11, 2.91262257e+11, 1.83104377e+11, 1.10931159e+11,\n",
       "        3.09495714e+10],\n",
       "       [7.50177025e+11, 7.05722630e+11, 6.30587125e+11, 5.43447731e+11,\n",
       "        4.95756493e+11, 5.01010466e+11, 5.74202982e+11, 7.11252568e+11,\n",
       "        7.70224900e+11, 4.53514019e+11, 3.13276589e+11, 2.13823495e+11,\n",
       "        9.14602938e+10],\n",
       "       [9.81326163e+11, 9.25098901e+11, 8.30897830e+11, 7.22017541e+11,\n",
       "        6.61806099e+11, 6.68681783e+11, 7.63814517e+11, 9.38976902e+11,\n",
       "        1.00995767e+12, 6.03458931e+11, 4.33287385e+11, 3.07572037e+11,\n",
       "        1.45203261e+11],\n",
       "       [1.15430562e+12, 1.08893215e+12, 9.79772418e+11, 8.53747503e+11,\n",
       "        7.83725254e+11, 7.91685030e+11, 9.03574713e+11, 1.10814825e+12,\n",
       "        1.18879344e+12, 7.18094380e+11, 5.24941655e+11, 3.78147588e+11,\n",
       "        1.84007423e+11],\n",
       "       [1.23880510e+12, 1.16878981e+12, 1.05208940e+12, 9.17466287e+11,\n",
       "        8.42447409e+11, 8.50821793e+11, 9.71460703e+11, 1.19117379e+12,\n",
       "        1.27637943e+12, 7.79171296e+11, 5.75616596e+11, 4.17387272e+11,\n",
       "        2.04899377e+11],\n",
       "       [1.22118869e+12, 1.15238384e+12, 1.03803134e+12, 9.06309813e+11,\n",
       "        8.32605786e+11, 8.40650451e+11, 9.60288355e+11, 1.17707814e+12,\n",
       "        1.25923877e+12, 7.79163257e+11, 5.82325211e+11, 4.25407100e+11,\n",
       "        2.10716878e+11],\n",
       "       [1.11174361e+12, 1.05025599e+12, 9.48738207e+11, 8.32150496e+11,\n",
       "        7.66352449e+11, 7.73363807e+11, 8.82297546e+11, 1.07761319e+12,\n",
       "        1.14798515e+12, 7.24702263e+11, 5.53155805e+11, 4.10806049e+11,\n",
       "        2.09185233e+11],\n",
       "       [9.48070724e+11, 8.99008328e+11, 8.19187023e+11, 7.27907031e+11,\n",
       "        6.75327441e+11, 6.80809173e+11, 7.71487258e+11, 9.30223785e+11,\n",
       "        9.80561260e+11, 6.35804008e+11, 5.04647796e+11, 3.87250093e+11,\n",
       "        2.08637333e+11],\n",
       "       [7.93589352e+11, 7.59027510e+11, 7.04455846e+11, 6.41803422e+11,\n",
       "        6.03736840e+11, 6.07800271e+11, 6.78656635e+11, 7.96285618e+11,\n",
       "        8.21610988e+11, 5.40179985e+11, 4.51325121e+11, 3.62203194e+11,\n",
       "        2.07535810e+11],\n",
       "       [7.32941478e+11, 7.02718989e+11, 6.55620435e+11, 6.01201966e+11,\n",
       "        5.67382122e+11, 5.71431810e+11, 6.36183789e+11, 7.41903819e+11,\n",
       "        7.60548939e+11, 4.87074513e+11, 4.05263194e+11, 3.26840774e+11,\n",
       "        1.87446372e+11],\n",
       "       [7.67697719e+11, 7.28833603e+11, 6.65727224e+11, 5.93298694e+11,\n",
       "        5.51469526e+11, 5.56436876e+11, 6.28832447e+11, 7.55264842e+11,\n",
       "        7.94502074e+11, 4.93741155e+11, 3.86276355e+11, 2.95616081e+11,\n",
       "        1.59120427e+11],\n",
       "       [7.94473108e+11, 7.50441517e+11, 6.77068546e+11, 5.92354510e+11,\n",
       "        5.45144998e+11, 5.50579505e+11, 6.26567511e+11, 7.64674653e+11,\n",
       "        8.17907028e+11, 4.95043812e+11, 3.68439119e+11, 2.70148710e+11,\n",
       "        1.37720567e+11],\n",
       "       [7.66314497e+11, 7.22019256e+11, 6.47134432e+11, 5.60242136e+11,\n",
       "        5.12645037e+11, 5.17864599e+11, 5.91134977e+11, 7.27409128e+11,\n",
       "        7.85581424e+11, 4.71419773e+11, 3.40223353e+11, 2.42174753e+11,\n",
       "        1.18144330e+11],\n",
       "       [6.72301267e+11, 6.32054166e+11, 5.63503268e+11, 4.83762349e+11,\n",
       "        4.40410107e+11, 4.44873641e+11, 5.10044"
      ]
     },
     "execution_count": 33,
     "metadata": {},
     "output_type": "execute_result"
    },
    {
     "data": {
      "text/html": [
       "<b>limit_output extension: Maximum message size of 10000 exceeded with 14701 characters</b>"
      ]
     },
     "metadata": {},
     "output_type": "display_data"
    }
   ],
   "source": [
    "mvl_2d_time[chx, :, :, i]"
   ]
  },
  {
   "cell_type": "code",
   "execution_count": 50,
   "metadata": {},
   "outputs": [
    {
     "data": {
      "text/plain": [
       "(array([50]),)"
      ]
     },
     "execution_count": 50,
     "metadata": {},
     "output_type": "execute_result"
    }
   ],
   "source": [
    "np.where(erp_df.index == -100)"
   ]
  },
  {
   "cell_type": "code",
   "execution_count": 54,
   "metadata": {},
   "outputs": [
    {
     "data": {
      "text/plain": [
       "(13,)"
      ]
     },
     "execution_count": 54,
     "metadata": {},
     "output_type": "execute_result"
    }
   ],
   "source": [
    "steps = np.array(range(-200, 1000 + 1, 100))\n",
    "steps.shape[0] - 1"
   ]
  },
  {
   "cell_type": "code",
   "execution_count": 67,
   "metadata": {},
   "outputs": [
    {
     "name": "stdout",
     "output_type": "stream",
     "text": [
      "0 50\n",
      "50 100\n",
      "100 150\n",
      "150 200\n",
      "200 250\n",
      "250 300\n",
      "300 350\n",
      "350 400\n",
      "400 450\n",
      "450 500\n",
      "500 550\n",
      "550 600\n"
     ]
    }
   ],
   "source": [
    "for tstart, tend in zip(steps[:-1], steps[1:]):\n",
    "    ind_start, ind_end = np.where(erp_df.index == tstart)[0][0], np.where(erp_df.index == tend)[0][0]\n",
    "    print(ind_start, ind_end)"
   ]
  },
  {
   "cell_type": "code",
   "execution_count": 66,
   "metadata": {},
   "outputs": [
    {
     "data": {
      "text/plain": [
       "(array([0]),)"
      ]
     },
     "execution_count": 66,
     "metadata": {},
     "output_type": "execute_result"
    }
   ],
   "source": [
    "np.where(erp_df.index == tstart)"
   ]
  },
  {
   "cell_type": "code",
   "execution_count": 65,
   "metadata": {},
   "outputs": [
    {
     "ename": "ValueError",
     "evalue": "either both or neither of x and y should be given",
     "output_type": "error",
     "traceback": [
      "\u001b[0;31m---------------------------------------------------------------------------\u001b[0m",
      "\u001b[0;31mValueError\u001b[0m                                Traceback (most recent call last)",
      "\u001b[0;32m<ipython-input-65-48b426b1ce52>\u001b[0m in \u001b[0;36m<module>\u001b[0;34m\u001b[0m\n\u001b[0;32m----> 1\u001b[0;31m \u001b[0mnp\u001b[0m\u001b[0;34m.\u001b[0m\u001b[0mwhere\u001b[0m\u001b[0;34m(\u001b[0m\u001b[0merp_df\u001b[0m\u001b[0;34m.\u001b[0m\u001b[0mindex\u001b[0m\u001b[0;34m.\u001b[0m\u001b[0m_data\u001b[0m\u001b[0;34m,\u001b[0m \u001b[0mtstart\u001b[0m\u001b[0;34m)\u001b[0m\u001b[0;34m\u001b[0m\u001b[0;34m\u001b[0m\u001b[0m\n\u001b[0m",
      "\u001b[0;32m<__array_function__ internals>\u001b[0m in \u001b[0;36mwhere\u001b[0;34m(*args, **kwargs)\u001b[0m\n",
      "\u001b[0;31mValueError\u001b[0m: either both or neither of x and y should be given"
     ]
    }
   ],
   "source": [
    "np.where(erp_df.index._data, tstart)"
   ]
  },
  {
   "cell_type": "code",
   "execution_count": null,
   "metadata": {},
   "outputs": [],
   "source": []
  }
 ],
 "metadata": {
  "hide_input": false,
  "kernelspec": {
   "display_name": "Python 3",
   "language": "python",
   "name": "python3"
  },
  "language_info": {
   "codemirror_mode": {
    "name": "ipython",
    "version": 3
   },
   "file_extension": ".py",
   "mimetype": "text/x-python",
   "name": "python",
   "nbconvert_exporter": "python",
   "pygments_lexer": "ipython3",
   "version": "3.6.6"
  },
  "toc": {
   "base_numbering": 1,
   "nav_menu": {},
   "number_sections": true,
   "sideBar": true,
   "skip_h1_title": false,
   "title_cell": "Table of Contents",
   "title_sidebar": "Contents",
   "toc_cell": false,
   "toc_position": {},
   "toc_section_display": true,
   "toc_window_display": false
  },
  "varInspector": {
   "cols": {
    "lenName": 16,
    "lenType": 16,
    "lenVar": 40
   },
   "kernels_config": {
    "python": {
     "delete_cmd_postfix": "",
     "delete_cmd_prefix": "del ",
     "library": "var_list.py",
     "varRefreshCmd": "print(var_dic_list())"
    },
    "r": {
     "delete_cmd_postfix": ") ",
     "delete_cmd_prefix": "rm(",
     "library": "var_list.r",
     "varRefreshCmd": "cat(var_dic_list()) "
    }
   },
   "types_to_exclude": [
    "module",
    "function",
    "builtin_function_or_method",
    "instance",
    "_Feature"
   ],
   "window_display": false
  }
 },
 "nbformat": 4,
 "nbformat_minor": 5
}
