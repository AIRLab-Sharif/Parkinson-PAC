{
 "cells": [
  {
   "cell_type": "code",
   "execution_count": 1,
   "metadata": {},
   "outputs": [],
   "source": [
    "%config Completer.use_jedi = False"
   ]
  },
  {
   "cell_type": "code",
   "execution_count": 1,
   "metadata": {},
   "outputs": [],
   "source": [
    "import json\n",
    "import os\n",
    "import sys\n",
    "\n",
    "import mne\n",
    "import numpy as np\n",
    "import pandas as pd\n",
    "\n",
    "import pac\n",
    "\n",
    "\n",
    "\n",
    "suffix = '_1_50'\n",
    "gamma = [10, 80]\n",
    "beta  = [ 1, 16]\n"
   ]
  },
  {
   "cell_type": "code",
   "execution_count": 2,
   "metadata": {
    "code_folding": [
     37
    ],
    "run_control": {
     "marked": true
    }
   },
   "outputs": [],
   "source": [
    "def create_tasks_df(ds_path=None):\n",
    "    if ds_path is None:\n",
    "        with open('config.json') as f:\n",
    "            config = json.load(f)\n",
    "        base_path = config['BASE_PATH']\n",
    "        ds_path = os.path.join(base_path, 'ds003490-download')\n",
    "\n",
    "    df = pd.read_csv(os.path.join(ds_path, 'participants.tsv'), sep=\"\\t\")\n",
    "    tasks = []\n",
    "\n",
    "    for _, participant in df.iterrows():\n",
    "        if participant.Group == 'PD':\n",
    "            sessions = [(1, 1 * (participant.sess1_Med == 'ON')),\n",
    "                        (2, 1 * (participant.sess2_Med == 'ON'))]\n",
    "        else:\n",
    "            sessions = [(1, 2)]\n",
    "\n",
    "        for sess, pd_drug_type in sessions:\n",
    "            participant_tasks = {}\n",
    "            participant_tasks['participant_id'] = participant['participant_id']\n",
    "            participant_tasks['pd_drug_type'] = pd_drug_type\n",
    "            participant_tasks['isMale'] = participant['sex'] == 'Male'\n",
    "            participant_tasks['age'] = participant['age']\n",
    "            participant_tasks['dir'] = os.path.join(ds_path, participant['participant_id'], f'ses-{sess:02}', 'eeg', )\n",
    "            participant_tasks[\n",
    "                'file'] = f'{participant[\"participant_id\"]}_ses-{sess:02}_eeg_{participant[\"participant_id\"]}_ses-{sess:02}_task-Rest_eeg.mat'\n",
    "            participant_tasks['file_formatter'] = f'{participant[\"participant_id\"]}_ses-{sess:02}_task-Rest_{{}}'\n",
    "            participant_tasks['path'] = os.path.join(\n",
    "                participant_tasks['dir'], participant_tasks['file'])\n",
    "\n",
    "            tasks.append(participant_tasks)\n",
    "\n",
    "    tasks_df = pd.DataFrame(tasks)\n",
    "\n",
    "    return tasks_df\n",
    "\n",
    "\n",
    "def _test_tasks_df(tasks_df, i=0):\n",
    "    task = tasks_df.iloc[i]\n",
    "\n",
    "    assert os.path.exists(task.path)\n",
    "\n",
    "    ds = sio.loadmat(task.path)\n",
    "\n",
    "    ds['data'] = ds['EEG']\n",
    "\n",
    "    nbchan = ds['data'][0, 0]['nbchan'][0, 0]  # .dtype\n",
    "    Fs = ds['data'][0, 0]['srate'][0, 0]\n",
    "    times = ds['data'][0, 0]['times']\n",
    "    data = ds['data'][0, 0]['data']\n",
    "\n",
    "    dtypes = [k for k in ds['data'][0, 0]['event'].dtype.names]\n",
    "    events = pd.DataFrame([{n: event[n].item() if event[n].size > 0 else None for n in dtypes}\n",
    "                           for event in ds['data'][0, 0]['event'][0]])\n",
    "\n",
    "    electrodes = pd.read_csv(os.path.join(\n",
    "        task['dir'], task['file_formatter'].format('electrodes.tsv')), sep='\\t')\n",
    "\n",
    "    reject = ds['data'][0, 0]['reject']\n",
    "\n",
    "    print(events)\n"
   ]
  },
  {
   "cell_type": "markdown",
   "metadata": {},
   "source": [
    "# Create Task list in `tasks_df`"
   ]
  },
  {
   "cell_type": "code",
   "execution_count": 3,
   "metadata": {
    "code_folding": [
     0,
     13
    ]
   },
   "outputs": [],
   "source": [
    "def check_completed(task, event=None) -> bool:\n",
    "    json_path = os.path.join(task['dir'], task['file_formatter'].format(f'completed{suffix}.json'))\n",
    "    completed = {}\n",
    "    if os.path.exists(json_path):\n",
    "        with open(json_path) as f:\n",
    "            completed = json.load(f)\n",
    "    \n",
    "    if event is None:\n",
    "        return completed.get('total', False)\n",
    "    else:\n",
    "        return completed.get(event, False)\n",
    "\n",
    "\n",
    "def update_completed(task, event=None) -> bool:\n",
    "    json_path = os.path.join(task['dir'], task['file_formatter'].format(f'completed{suffix}.json'))\n",
    "    completed = {}\n",
    "    if os.path.exists(json_path):\n",
    "        with open(json_path) as f:\n",
    "            completed = json.load(f)\n",
    "\n",
    "    if event is None:\n",
    "        completed['total'] = True\n",
    "    else:\n",
    "        completed[event] = True\n",
    "        \n",
    "    with open(json_path, 'w') as f:\n",
    "        json.dump(completed, f)\n"
   ]
  },
  {
   "cell_type": "code",
   "execution_count": 4,
   "metadata": {
    "code_folding": [
     0
    ]
   },
   "outputs": [],
   "source": [
    "def analyse_erps(erps: dict, task=None):\n",
    "    mvls = {}\n",
    "    mvl_2ds = {}\n",
    "    mvl_2d_times = {}\n",
    "    \n",
    "    steps = list(range(-200, 1000 + 1, 200))\n",
    "    \n",
    "    groups = ['PD Med Off', 'PD Med On', 'CTL']\n",
    "\n",
    "    for event_type, erp in erps.items():\n",
    "        mvl_2d = np.zeros(\n",
    "            (erp.info['nchan'], erp.info['nchan'], gamma[1] - gamma[0] + 1, beta[1] - beta[0] + 1))\n",
    "        mvl_2d_time = np.zeros((erp.info['nchan'], gamma[1] - gamma[0] + 1, \n",
    "                                beta[1] - beta[0] + 1, len(steps) - 1 ))\n",
    "\n",
    "        mvl = np.zeros((erp.info['nchan'], erp.info['nchan'],))\n",
    "        tfds = {}\n",
    "\n",
    "        erp_df = erp.to_data_frame()\n",
    "        erp_df = erp_df.set_index('time')\n",
    "\n",
    "        if task is not None:\n",
    "            print(f'{task.participant_id} {groups[task.pd_drug_type]:10} {event_type} tfd started')\n",
    "\n",
    "        for ch in erp_df:\n",
    "            tfd = pac.rid_rihaczek(erp_df[ch], int(erp.info['sfreq']))\n",
    "            tfds[ch] = tfd\n",
    "\n",
    "        for chx, chxname in enumerate(erp_df):\n",
    "            chy = chx\n",
    "            chyname = chxname\n",
    "            \n",
    "            for i, ts in enumerate(zip(steps[:-1], steps[1:])):\n",
    "                tstart, tend = ts\n",
    "                ind_start = np.where(erp_df.index == tstart)[0][0]\n",
    "                ind_end   = np.where(erp_df.index == tend)[0][0]\n",
    "                mvl_2d_time[chx, :, :, i] = pac.tfMVL_tfd2_2d_time(\n",
    "                    tfds[chxname], tfds[chxname], gamma, beta, ind_start, ind_end)\n",
    "\n",
    "            \n",
    "            for chy, chyname in enumerate(erp_df):\n",
    "                # todo:\n",
    "                # if(check_completed(task, f'{event_type}_{chxname}_{chyname}')):\n",
    "                #     continue\n",
    "\n",
    "                mvl_2d[chx, chy] = pac.tfMVL_tfd2_2d(\n",
    "                    tfds[chxname], tfds[chyname], gamma, beta)\n",
    "                mvl[chx, chy] = mvl_2d[chx, chy].sum()\n",
    "            # mvl[chx, chy] = pac.tfMVL_tfd2(\n",
    "            #     tfds[chxname], tfds[chyname], gamma, beta)\n",
    "\n",
    "        mvls[event_type] = mvl\n",
    "        mvl_2ds[event_type] = mvl_2d\n",
    "        mvl_2d_times[event_type] = mvl_2d_time\n",
    "\n",
    "    return mvls, mvl_2ds, mvl_2d_times"
   ]
  },
  {
   "cell_type": "code",
   "execution_count": 5,
   "metadata": {
    "code_folding": [
     0
    ]
   },
   "outputs": [],
   "source": [
    "def analyse_sub(task):\n",
    "    if (check_completed(task)):\n",
    "        return\n",
    "\n",
    "    raw = mne.io.read_raw_eeglab(os.path.join(task['dir'], 'pre_' + task['file_formatter'].format('eeg.set')),\n",
    "                                 preload=True, verbose=0)\n",
    "    # raw.drop_channels(['X', 'Y', 'Z'])\n",
    "    raw.drop_channels(['VEOG'])\n",
    "    raw.set_eeg_reference()\n",
    "    \n",
    "    for ch in raw._data:\n",
    "        ch -= ch.mean()\n",
    "        ch /= ch.std()\n",
    "\n",
    "    # create_elc_file(task)\n",
    "    # montage = mne.channels.read_custom_montage(os.path.join(\n",
    "    #     task.dir, task.file_formatter.format('electrodes.elc')))\n",
    "    montage = mne.channels.read_custom_montage('Standard-10-20-Cap81.locs')\n",
    "    raw.set_montage(montage)\n",
    "\n",
    "    # mne.viz.plot_topomap(raw._data[:, 194000], raw.info, axes=ax,\n",
    "    #                      show=False)\n",
    "\n",
    "    # eeg_picks = mne.pick_types(raw.info, eeg=True, meg=False, eog=True)\n",
    "    # freqs = (60, 120, 180, 240)\n",
    "    # raw_notch = raw.copy().notch_filter(freqs=freqs, picks=eeg_picks, verbose=0)\n",
    "    # raw_filtered = raw_notch.copy().filter(l_freq=1, h_freq=150, verbose=0)\n",
    "    \n",
    "    events, event_dict = mne.events_from_annotations(raw, verbose=0)\n",
    "\n",
    "    selected_events = ['S200', 'S201', 'S202']\n",
    "    event_types = {'S200': 'Target', 'S201': 'Standard', 'S202': 'Novelty'}\n",
    "    kwargs = {'S200': {'baseline': (0.250, 0.450), 'tmin': 0.250, 'tmax':1.450},\n",
    "              'S201': {'baseline': (0.250, 0.450), 'tmin': 0.250, 'tmax':1.450},\n",
    "              'S202': {'baseline': (-.200,     0), 'tmin': -.200, 'tmax':1.000},}\n",
    "\n",
    "    erps = {}\n",
    "    epochs_data = {}\n",
    "    for ev in selected_events:\n",
    "        epochs = mne.Epochs(raw, events[events[:, 2] == event_dict[ev]],\n",
    "                            event_id={ev: event_dict[ev]}, preload=True, verbose=0, **(kwargs[ev]))\n",
    "        erps[ev] = epochs[ev].average()\n",
    "        epochs_data[ev] = epochs[ev]._data\n",
    "        \n",
    "        \n",
    "    np.savez_compressed(os.path.join(task['dir'], task['file_formatter'].format(f'epochs')),\n",
    "                        **epochs_data)\n",
    "    \n",
    "    np.savez_compressed(os.path.join(task['dir'], task['file_formatter'].format(f'erps')),\n",
    "                        **erps)\n",
    "    \n",
    "#     return\n",
    "\n",
    "    mvls, mvl_2ds, mvl_2d_times = analyse_erps(erps, task)\n",
    "    np.savez_compressed(os.path.join(task['dir'], task['file_formatter'].format(f'mvls{suffix}')),\n",
    "                        **mvls)\n",
    "    np.savez_compressed(os.path.join(task['dir'], task['file_formatter'].format(f'mvl_2ds{suffix}')),\n",
    "                        **mvl_2ds)\n",
    "    np.savez_compressed(os.path.join(task['dir'], task['file_formatter'].format(f'mvl_2d_times{suffix}')),\n",
    "                        **mvl_2d_times)\n",
    "    update_completed(task)\n",
    "    print(f'{task.participant_id} completed')"
   ]
  },
  {
   "cell_type": "markdown",
   "metadata": {},
   "source": [
    "# Main"
   ]
  },
  {
   "cell_type": "code",
   "execution_count": 6,
   "metadata": {
    "code_folding": [],
    "hide_input": false,
    "run_control": {
     "marked": true
    },
    "scrolled": true
   },
   "outputs": [
    {
     "name": "stdout",
     "output_type": "stream",
     "text": [
      "finished\n"
     ]
    }
   ],
   "source": [
    "if __name__ == '__main__':\n",
    "    tasks_df = create_tasks_df()\n",
    "\n",
    "#     analyse_sub(tasks_df.iloc[0])\n",
    "\n",
    "    # from multiprocessing import Pool\n",
    "    # with Pool(4) as p:\n",
    "    #    p.map(analyse_sub, tasks_df.iloc)\n",
    "\n",
    "#     for task in tasks_df.iloc:\n",
    "#         analyse_sub(task)\n",
    "    print('finished')"
   ]
  },
  {
   "cell_type": "markdown",
   "metadata": {},
   "source": [
    "# Single Subject"
   ]
  },
  {
   "cell_type": "code",
   "execution_count": 7,
   "metadata": {},
   "outputs": [
    {
     "name": "stderr",
     "output_type": "stream",
     "text": [
      "<ipython-input-7-d92181a1c850>:7: RuntimeWarning: The data contains 'boundary' events, indicating data discontinuities. Be cautious of filtering and epoching around these events.\n",
      "  preload=True, verbose=0)\n"
     ]
    },
    {
     "ename": "ValueError",
     "evalue": "Channel(s) VEOG not found, nothing dropped.",
     "output_type": "error",
     "traceback": [
      "\u001b[0;31m---------------------------------------------------------------------------\u001b[0m",
      "\u001b[0;31mValueError\u001b[0m                                Traceback (most recent call last)",
      "\u001b[0;32m<ipython-input-7-d92181a1c850>\u001b[0m in \u001b[0;36m<module>\u001b[0;34m\u001b[0m\n\u001b[1;32m      7\u001b[0m                                  preload=True, verbose=0)\n\u001b[1;32m      8\u001b[0m     \u001b[0;31m# raw.drop_channels(['X', 'Y', 'Z'])\u001b[0m\u001b[0;34m\u001b[0m\u001b[0;34m\u001b[0m\u001b[0;34m\u001b[0m\u001b[0m\n\u001b[0;32m----> 9\u001b[0;31m     \u001b[0mraw\u001b[0m\u001b[0;34m.\u001b[0m\u001b[0mdrop_channels\u001b[0m\u001b[0;34m(\u001b[0m\u001b[0;34m[\u001b[0m\u001b[0;34m'VEOG'\u001b[0m\u001b[0;34m]\u001b[0m\u001b[0;34m)\u001b[0m\u001b[0;34m\u001b[0m\u001b[0;34m\u001b[0m\u001b[0m\n\u001b[0m\u001b[1;32m     10\u001b[0m \u001b[0;31m#     raw.set_eeg_reference()\u001b[0m\u001b[0;34m\u001b[0m\u001b[0;34m\u001b[0m\u001b[0;34m\u001b[0m\u001b[0m\n\u001b[1;32m     11\u001b[0m \u001b[0;34m\u001b[0m\u001b[0m\n",
      "\u001b[0;32m/usr/local/share/.virtualenvs/sci/lib/python3.6/site-packages/mne/channels/channels.py\u001b[0m in \u001b[0;36mdrop_channels\u001b[0;34m(self, ch_names)\u001b[0m\n\u001b[1;32m    889\u001b[0m         \u001b[0;32mif\u001b[0m \u001b[0mlen\u001b[0m\u001b[0;34m(\u001b[0m\u001b[0mmissing\u001b[0m\u001b[0;34m)\u001b[0m \u001b[0;34m>\u001b[0m \u001b[0;36m0\u001b[0m\u001b[0;34m:\u001b[0m\u001b[0;34m\u001b[0m\u001b[0;34m\u001b[0m\u001b[0m\n\u001b[1;32m    890\u001b[0m             \u001b[0mmsg\u001b[0m \u001b[0;34m=\u001b[0m \u001b[0;34m\"Channel(s) {0} not found, nothing dropped.\"\u001b[0m\u001b[0;34m\u001b[0m\u001b[0;34m\u001b[0m\u001b[0m\n\u001b[0;32m--> 891\u001b[0;31m             \u001b[0;32mraise\u001b[0m \u001b[0mValueError\u001b[0m\u001b[0;34m(\u001b[0m\u001b[0mmsg\u001b[0m\u001b[0;34m.\u001b[0m\u001b[0mformat\u001b[0m\u001b[0;34m(\u001b[0m\u001b[0;34m\", \"\u001b[0m\u001b[0;34m.\u001b[0m\u001b[0mjoin\u001b[0m\u001b[0;34m(\u001b[0m\u001b[0mmissing\u001b[0m\u001b[0;34m)\u001b[0m\u001b[0;34m)\u001b[0m\u001b[0;34m)\u001b[0m\u001b[0;34m\u001b[0m\u001b[0;34m\u001b[0m\u001b[0m\n\u001b[0m\u001b[1;32m    892\u001b[0m \u001b[0;34m\u001b[0m\u001b[0m\n\u001b[1;32m    893\u001b[0m         bad_idx = [self.ch_names.index(ch) for ch in ch_names\n",
      "\u001b[0;31mValueError\u001b[0m: Channel(s) VEOG not found, nothing dropped."
     ]
    }
   ],
   "source": [
    "task = tasks_df.iloc[0]\n",
    "if 1:\n",
    "    if (check_completed(task)):\n",
    "        pass\n",
    "    \n",
    "    raw = mne.io.read_raw_eeglab(os.path.join(task['dir'], 'pre_' + task['file_formatter'].format('eeg.set')),\n",
    "                                 preload=True, verbose=0)\n",
    "    # raw.drop_channels(['X', 'Y', 'Z'])\n",
    "#     raw.drop_channels(['VEOG'])\n",
    "#     raw.set_eeg_reference()\n",
    "    \n",
    "#     for ch in raw._data:\n",
    "#         ch -= ch.mean()\n",
    "#         ch /= ch.std()\n",
    "\n",
    "    # create_elc_file(task)\n",
    "    # montage = mne.channels.read_custom_montage(os.path.join(\n",
    "    #     task.dir, task.file_formatter.format('electrodes.elc')))\n",
    "    montage = mne.channels.read_custom_montage('Standard-10-20-Cap81.locs')\n",
    "    raw.set_montage(montage)\n",
    "\n",
    "    # mne.viz.plot_topomap(raw._data[:, 194000], raw.info, axes=ax,\n",
    "    #                      show=False)\n",
    "\n",
    "    # eeg_picks = mne.pick_types(raw.info, eeg=True, meg=False, eog=True)\n",
    "    # freqs = (60, 120, 180, 240)\n",
    "    # raw_notch = raw.copy().notch_filter(freqs=freqs, picks=eeg_picks, verbose=0)\n",
    "    # raw_filtered = raw_notch.copy().filter(l_freq=1, h_freq=150, verbose=0)\n",
    "    \n",
    "    events, event_dict = mne.events_from_annotations(raw, verbose=0)\n",
    "\n",
    "    selected_events = ['S200', 'S201', 'S202']\n",
    "    event_types = {'S200': 'Target', 'S201': 'Standard', 'S202': 'Novelty'}\n",
    "    kwargs = {'S200': {'baseline': (0.250, 0.450), 'tmin': 0.250, 'tmax':1.450},\n",
    "              'S201': {'baseline': (0.250, 0.450), 'tmin': 0.250, 'tmax':1.450},\n",
    "              'S202': {'baseline': (-.200,     0), 'tmin': -.200, 'tmax':1.000},}\n",
    "\n",
    "    erps = {}\n",
    "    epochs_data = {}\n",
    "    for ev in selected_events:\n",
    "        epochs = mne.Epochs(raw, events[events[:, 2] == event_dict[ev]],\n",
    "                            event_id={ev: event_dict[ev]}, preload=True, verbose=0, **(kwargs[ev]))\n",
    "        erps[ev] = epochs[ev].average()\n",
    "        epochs_data[ev] = epochs[ev]._data\n",
    "        "
   ]
  },
  {
   "cell_type": "code",
   "execution_count": 33,
   "metadata": {},
   "outputs": [
    {
     "name": "stdout",
     "output_type": "stream",
     "text": [
      "sub-001 PD Med On  S200 tfd started\n",
      "sub-001 PD Med On  S201 tfd started\n",
      "sub-001 PD Med On  S202 tfd started\n"
     ]
    }
   ],
   "source": [
    "if 1:\n",
    "    mvls = {}\n",
    "    mvl_2ds = {}\n",
    "    mvl_2d_times = {}\n",
    "    \n",
    "    steps = list(range(-200, 1000 + 1, 200))\n",
    "    \n",
    "    groups = ['PD Med Off', 'PD Med On', 'CTL']\n",
    "\n",
    "    for event_type, erp in erps.items():\n",
    "        mvl_2d = np.zeros(\n",
    "            (erp.info['nchan'], erp.info['nchan'], gamma[1] - gamma[0] + 1, beta[1] - beta[0] + 1))\n",
    "        mvl_2d_time = np.zeros((erp.info['nchan'], gamma[1] - gamma[0] + 1, \n",
    "                                beta[1] - beta[0] + 1, len(steps) - 1 ))\n",
    "\n",
    "        mvl = np.zeros((erp.info['nchan'], erp.info['nchan'],))\n",
    "        tfds = {}\n",
    "\n",
    "        erp_df = erp.to_data_frame()\n",
    "        erp_df.time = list(range(-200, 1000 + 1, 2))\n",
    "        erp_df = erp_df.set_index('time')\n",
    "\n",
    "        if task is not None:\n",
    "            print(f'{task.participant_id} {groups[task.pd_drug_type]:10} {event_type} tfd started')\n",
    "\n",
    "        for ch in erp_df:\n",
    "            tfd = pac.rid_rihaczek(erp_df[ch], int(erp.info['sfreq']))\n",
    "            tfds[ch] = tfd\n",
    "\n",
    "        for chx, chxname in enumerate(erp_df):\n",
    "            chy = chx\n",
    "            chyname = chxname\n",
    "            \n",
    "            for i, ts in enumerate(zip(steps[:-1], steps[1:])):\n",
    "                tstart, tend = ts\n",
    "                ind_start = np.where(erp_df.index == tstart)[0][0]\n",
    "                ind_end   = np.where(erp_df.index == tend)[0][0]\n",
    "                mvl_2d_time[chx, :, :, i] = pac.tfMVL_tfd2_2d_time(\n",
    "                    tfds[chxname], tfds[chxname], gamma, beta, ind_start, ind_end)\n",
    "\n",
    "            \n",
    "            for chy, chyname in enumerate(erp_df):\n",
    "                # todo:\n",
    "                # if(check_completed(task, f'{event_type}_{chxname}_{chyname}')):\n",
    "                #     continue\n",
    "\n",
    "                mvl_2d[chx, chy] = pac.tfMVL_tfd2_2d(\n",
    "                    tfds[chxname], tfds[chyname], gamma, beta)\n",
    "                mvl[chx, chy] = mvl_2d[chx, chy].sum()\n",
    "            # mvl[chx, chy] = pac.tfMVL_tfd2(\n",
    "            #     tfds[chxname], tfds[chyname], gamma, beta)\n",
    "\n",
    "        mvls[event_type] = mvl\n",
    "        mvl_2ds[event_type] = mvl_2d\n",
    "        mvl_2d_times[event_type] = mvl_2d_time"
   ]
  },
  {
   "cell_type": "code",
   "execution_count": 25,
   "metadata": {},
   "outputs": [
    {
     "data": {
      "image/png": "[encoded data removed]",
      "text/plain": [
       "<Figure size 432x288 with 1 Axes>"
      ]
     },
     "metadata": {
      "needs_background": "light"
     },
     "output_type": "display_data"
    }
   ],
   "source": [
    "erp = epochs_data['S201'].mean(axis=0)[10, :]\n",
    "plt.plot(erp)\n",
    "plt.show()"
   ]
  },
  {
   "cell_type": "code",
   "execution_count": 34,
   "metadata": {},
   "outputs": [],
   "source": [
    "np.savez_compressed('/home/kiani/DS/ds003490-download/extracted_data/mvls30_6_sub1.npz',\n",
    "                    **mvl_2ds)\n"
   ]
  },
  {
   "cell_type": "code",
   "execution_count": 35,
   "metadata": {},
   "outputs": [
    {
     "data": {
      "text/plain": [
       "(63, 63, 61, 13)"
      ]
     },
     "execution_count": 35,
     "metadata": {},
     "output_type": "execute_result"
    }
   ],
   "source": [
    "mvl_2ds['S200'].shape"
   ]
  },
  {
   "cell_type": "code",
   "execution_count": null,
   "metadata": {},
   "outputs": [],
   "source": []
  }
 ],
 "metadata": {
  "hide_input": false,
  "kernelspec": {
   "display_name": "Python 3",
   "language": "python",
   "name": "python3"
  },
  "language_info": {
   "codemirror_mode": {
    "name": "ipython",
    "version": 3
   },
   "file_extension": ".py",
   "mimetype": "text/x-python",
   "name": "python",
   "nbconvert_exporter": "python",
   "pygments_lexer": "ipython3",
   "version": "3.6.6"
  },
  "toc": {
   "base_numbering": 1,
   "nav_menu": {},
   "number_sections": true,
   "sideBar": true,
   "skip_h1_title": false,
   "title_cell": "Table of Contents",
   "title_sidebar": "Contents",
   "toc_cell": false,
   "toc_position": {},
   "toc_section_display": true,
   "toc_window_display": false
  },
  "varInspector": {
   "cols": {
    "lenName": 16,
    "lenType": 16,
    "lenVar": 40
   },
   "kernels_config": {
    "python": {
     "delete_cmd_postfix": "",
     "delete_cmd_prefix": "del ",
     "library": "var_list.py",
     "varRefreshCmd": "print(var_dic_list())"
    },
    "r": {
     "delete_cmd_postfix": ") ",
     "delete_cmd_prefix": "rm(",
     "library": "var_list.r",
     "varRefreshCmd": "cat(var_dic_list()) "
    }
   },
   "types_to_exclude": [
    "module",
    "function",
    "builtin_function_or_method",
    "instance",
    "_Feature"
   ],
   "window_display": false
  }
 },
 "nbformat": 4,
 "nbformat_minor": 5
}
