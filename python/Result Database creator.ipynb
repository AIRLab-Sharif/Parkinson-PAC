{
 "cells": [
  {
   "cell_type": "code",
   "execution_count": null,
   "metadata": {},
   "outputs": [],
   "source": [
    "%config Completer.use_jedi = False"
   ]
  },
  {
   "cell_type": "code",
   "execution_count": 1,
   "metadata": {},
   "outputs": [],
   "source": [
    "import os\n",
    "import itertools\n",
    "import numpy as np\n",
    "import pandas as pd\n",
    "import matplotlib.pyplot as plt\n",
    "import matplotlib.ticker as mticker\n",
    "import mne\n",
    "import json\n",
    "import scipy.stats\n",
    "import scipy.signal as sig\n",
    "\n",
    "# import scipy.io as sio\n",
    "# from scipy import signal\n",
    "\n",
    "import pac\n",
    "\n",
    "import simple_pipeline\n",
    "\n",
    "\n",
    "suffix = '_1_200_double'#'_1ch_nv'\n",
    "gamma = [ 1, 200]\n",
    "beta  = [ 1, 50]\n",
    "\n",
    "filt_wind = np.ones((3, 3))\n",
    "filt_wind /= filt_wind.sum()"
   ]
  },
  {
   "cell_type": "markdown",
   "metadata": {},
   "source": [
    "# functions"
   ]
  },
  {
   "cell_type": "code",
   "execution_count": 2,
   "metadata": {
    "code_folding": []
   },
   "outputs": [],
   "source": [
    "with open('config.json') as f:\n",
    "    config = json.load(f)\n",
    "    channels = config['channels']\n",
    "colors = ['#1f77b4', '#ff7f0e', '#2ca02c']\n",
    "linestyles = ['-', ':', '--']\n",
    "\n",
    "groups = ['PD Med Off', 'PD Med On', 'CTL']\n",
    "event_types = ['Target', 'Standard', 'Novelty']"
   ]
  },
  {
   "cell_type": "code",
   "execution_count": 3,
   "metadata": {
    "code_folding": []
   },
   "outputs": [],
   "source": [
    "def plot_pac(pac, high_freq=gamma, low_freq=beta, ax=None, interpolation='None', **kwargs):\n",
    "    if ax is None:\n",
    "        fig = plt.figure(figsize=(7, 15))\n",
    "        ax = fig.subplots()\n",
    "\n",
    "    im = ax.imshow((pac), origin='lower', interpolation=interpolation, #'nearest', \n",
    "                   extent=low_freq+high_freq,\n",
    "#                    aspect='auto', )\n",
    "                   aspect=np.diff(low_freq)/np.diff(high_freq), **kwargs)\n",
    "\n",
    "    if ax is None:\n",
    "        plt.show()\n",
    "        \n",
    "    return im"
   ]
  },
  {
   "cell_type": "code",
   "execution_count": 4,
   "metadata": {
    "code_folding": [
     0
    ]
   },
   "outputs": [],
   "source": [
    "def get_percent(arr, thr=0.95):\n",
    "    if arr.ndim > 1:\n",
    "        arr = arr.ravel()\n",
    "    freq, bins = np.histogram(arr, bins=100)\n",
    "    return (\n",
    "        bins[:-1][(freq / freq.sum()).cumsum() > thr][0], \n",
    "        bins[1:][(freq / freq.sum()).cumsum() > thr][0]\n",
    "    )"
   ]
  },
  {
   "cell_type": "code",
   "execution_count": 5,
   "metadata": {
    "code_folding": [
     0
    ]
   },
   "outputs": [],
   "source": [
    "def save_fig(path):\n",
    "    directory = os.path.dirname(path)\n",
    "    if not os.path.exists(directory):\n",
    "        os.makedirs(directory)\n",
    "    plt.savefig(path)"
   ]
  },
  {
   "cell_type": "markdown",
   "metadata": {},
   "source": [
    "# Create Task list in `tasks_df`"
   ]
  },
  {
   "cell_type": "code",
   "execution_count": 6,
   "metadata": {
    "code_folding": [
     0
    ],
    "run_control": {
     "marked": true
    }
   },
   "outputs": [],
   "source": [
    "if __name__ == '__main__':\n",
    "    tasks_df = simple_pipeline.create_tasks_df()\n",
    "    \n",
    "    completed = []\n",
    "    for task in tasks_df.iloc:\n",
    "        json_path = os.path.join(task['dir'], task['file_formatter'].format(f'completed{suffix}.json'))\n",
    "        completed.append(os.path.exists(json_path))\n",
    "\n",
    "    tasks_df = pd.concat([tasks_df, pd.DataFrame({'completed': completed})], axis=1)"
   ]
  },
  {
   "cell_type": "code",
   "execution_count": 7,
   "metadata": {},
   "outputs": [
    {
     "data": {
      "text/plain": [
       "'/home/kiani/DS/ds003490-download/sub-050/ses-01/eeg/sub-050_ses-01_task-Rest_mvls_1_200_double.npz'"
      ]
     },
     "execution_count": 7,
     "metadata": {},
     "output_type": "execute_result"
    }
   ],
   "source": [
    "os.path.join(task['dir'], task['file_formatter'].format(f'mvls{suffix}.npz'))"
   ]
  },
  {
   "cell_type": "markdown",
   "metadata": {},
   "source": [
    "# Load Data"
   ]
  },
  {
   "cell_type": "code",
   "execution_count": null,
   "metadata": {
    "code_folding": []
   },
   "outputs": [],
   "source": [
    "# MVL\n",
    "\n",
    "mvl_2ds_time = [[] for k in groups] # np.zeros((3, 64, 169, 37 * 12))\n",
    "mvl_2ds = [[] for k in groups] # np.zeros((3, 64, 61, 13 )//169, 37))\n",
    "mvls = [[] for k in groups] # np.zeros((3, 64))\n",
    "\n",
    "for task in tasks_df.iloc:\n",
    "# if 1:\n",
    "    task_mvls = np.load(os.path.join(task['dir'], task['file_formatter'].format(f'mvls{suffix}.npz')))\n",
    "    task_mvl_2ds = np.load(os.path.join(task['dir'], task['file_formatter'].format(f'mvl_2ds{suffix}.npz')))\n",
    "    \n",
    "    # mvls\n",
    "    nbchan = task_mvls[task_mvls.files[0]].shape[0]\n",
    "    mvl = np.zeros((3, nbchan))\n",
    "    for i, event_type in enumerate(sorted(task_mvls.files)):\n",
    "        mvl[i] = task_mvls[event_type].diagonal()\n",
    "        \n",
    "    mvls[task.pd_drug_type].append(mvl)\n",
    "    \n",
    "    # mvl_2ds\n",
    "    mvl_2d = np.zeros((3, nbchan, gamma[1] - gamma[0] + 1, beta[1] - beta[0] + 1))\n",
    "    for i, event_type in enumerate(sorted(task_mvl_2ds.files)):\n",
    "        mvl_2d[i] = task_mvl_2ds[event_type].diagonal(0, 0, 1).transpose((2, 0, 1))\n",
    "        \n",
    "    mvl_2ds[task.pd_drug_type].append(mvl_2d)\n",
    "\n",
    "mvls = np.array(mvls)              # --> (pd_drug_type, subjects, event_types, channels)\n",
    "mvl_2ds = np.array(mvl_2ds)        # --> (pd_drug_type, subjects, event_types, channels, high_freqs, low_freqs)\n",
    "mvl_2ds_time = np.array(mvl_2ds_time)        # --> (pd_drug_type, subjects, event_types, channels, high_freqs, low_freqs * 12)"
   ]
  },
  {
   "cell_type": "code",
   "execution_count": 9,
   "metadata": {},
   "outputs": [],
   "source": [
    "with open('config.json') as f:\n",
    "    config = json.load(f)\n",
    "base_path = config['BASE_PATH']\n",
    "ds_path = os.path.join(base_path, 'ds003490-download')\n",
    "nbchan = len(config['channels']) - 1"
   ]
  },
  {
   "cell_type": "code",
   "execution_count": 12,
   "metadata": {
    "scrolled": true
   },
   "outputs": [
    {
     "name": "stdout",
     "output_type": "stream",
     "text": [
      "[0, 0, 0] 1\n",
      "[0, 1, 0] 0\n",
      "[1, 1, 0] 1\n",
      "[1, 2, 0] 0\n",
      "[2, 2, 0] 2\n",
      "[2, 2, 1] 0\n",
      "[3, 2, 1] 1\n",
      "[3, 3, 1] 2\n",
      "[3, 3, 2] 0\n",
      "[4, 3, 2] 1\n",
      "[4, 4, 2] 0\n",
      "[5, 4, 2] 1\n",
      "[5, 5, 2] 1\n",
      "[5, 6, 2] 0\n",
      "[6, 6, 2] 1\n",
      "[6, 7, 2] 0\n",
      "[7, 7, 2] 1\n",
      "[7, 8, 2] 0\n",
      "[8, 8, 2] 0\n",
      "[9, 8, 2] 1\n",
      "[9, 9, 2] 1\n",
      "[9, 10, 2] 0\n",
      "[10, 10, 2] 1\n",
      "[10, 11, 2] 0\n",
      "[11, 11, 2] 0\n",
      "[12, 11, 2] 1\n",
      "[12, 12, 2] 0\n",
      "[13, 12, 2] 1\n",
      "[13, 13, 2] 1\n",
      "[13, 14, 2] 0\n",
      "[14, 14, 2] 0\n",
      "[15, 14, 2] 1\n",
      "[15, 15, 2] 1\n",
      "[15, 16, 2] 0\n",
      "[16, 16, 2] 1\n",
      "[16, 17, 2] 0\n",
      "[17, 17, 2] 1\n",
      "[17, 18, 2] 0\n",
      "[18, 18, 2] 0\n",
      "[19, 18, 2] 1\n",
      "[19, 19, 2] 0\n",
      "[20, 19, 2] 1\n",
      "[20, 20, 2] 1\n",
      "[20, 21, 2] 0\n",
      "[21, 21, 2] 1\n",
      "[21, 22, 2] 0\n",
      "[22, 22, 2] 0\n",
      "[23, 22, 2] 1\n",
      "[23, 23, 2] 0\n",
      "[24, 23, 2] 1\n",
      "[24, 24, 2] 0\n",
      "[25, 24, 2] 1\n",
      "[25, 25, 2] 2\n",
      "[25, 25, 3] 2\n",
      "[25, 25, 4] 2\n",
      "[25, 25, 5] 2\n",
      "[25, 25, 6] 2\n",
      "[25, 25, 7] 2\n",
      "[25, 25, 8] 2\n",
      "[25, 25, 9] 2\n",
      "[25, 25, 10] 2\n",
      "[25, 25, 11] 2\n",
      "[25, 25, 12] 2\n",
      "[25, 25, 13] 2\n",
      "[25, 25, 14] 2\n",
      "[25, 25, 15] 2\n",
      "[25, 25, 16] 2\n",
      "[25, 25, 17] 2\n",
      "[25, 25, 18] 2\n",
      "[25, 25, 19] 2\n",
      "[25, 25, 20] 2\n",
      "[25, 25, 21] 2\n",
      "[25, 25, 22] 2\n",
      "[25, 25, 23] 2\n",
      "[25, 25, 24] 2\n"
     ]
    }
   ],
   "source": [
    "# MVL 2Ds\n",
    "\n",
    "mvl_2ds_mmap_path = os.path.join(ds_path, f'MVL_2ds_{suffix}.mmap')\n",
    "\n",
    "mvl_2ds = np.memmap(mvl_2ds_mmap_path, dtype=float, mode='w+',\n",
    "                    shape=(3,  # pd_drug_type\n",
    "                           25, # Subjects\n",
    "                           3,  # event_types\n",
    "                           nbchan, # Channels\n",
    "                           gamma[1] - gamma[0] + 1, # High Freq\n",
    "                           beta[1] - beta[0] + 1, # Low Freq\n",
    "                          ))\n",
    "\n",
    "subs = [0, 0, 0]\n",
    "for task in tasks_df.iloc:\n",
    "    print(subs, task.pd_drug_type)\n",
    "    task_mvl_2ds = np.load(os.path.join(task['dir'], task['file_formatter'].format(f'mvl_2ds{suffix}.npz')))\n",
    "    for i, event_type in enumerate(sorted(task_mvl_2ds.files)):\n",
    "        mvl_2ds[task.pd_drug_type, subs[task.pd_drug_type], i] = \\\n",
    "            task_mvl_2ds[event_type].diagonal(0, 0, 1).transpose((2, 0, 1))\n",
    "    \n",
    "        \n",
    "    subs[task.pd_drug_type] += 1\n",
    "\n",
    "# mvl_2ds = np.array(mvl_2ds)        # --> (pd_drug_type, subjects, event_types, channels, high_freqs, low_freqs)\n",
    "# mvl_2ds_time = np.array(mvl_2ds_time)        # --> (pd_drug_type, subjects, event_types, channels, high_freqs, low_freqs * 12)"
   ]
  },
  {
   "cell_type": "code",
   "execution_count": null,
   "metadata": {
    "scrolled": true
   },
   "outputs": [
    {
     "name": "stdout",
     "output_type": "stream",
     "text": [
      "[0, 0, 0] 1\n",
      "[0, 1, 0] 0\n",
      "[1, 1, 0] 1\n",
      "[1, 2, 0] 0\n",
      "[2, 2, 0] 2\n",
      "[2, 2, 1] 0\n",
      "[3, 2, 1] 1\n",
      "[3, 3, 1] 2\n",
      "[3, 3, 2] 0\n",
      "[4, 3, 2] 1\n",
      "[4, 4, 2] 0\n",
      "[5, 4, 2] 1\n",
      "[5, 5, 2] 1\n",
      "[5, 6, 2] 0\n",
      "[6, 6, 2] 1\n",
      "[6, 7, 2] 0\n",
      "[7, 7, 2] 1\n",
      "[7, 8, 2] 0\n",
      "[8, 8, 2] 0\n",
      "[9, 8, 2] 1\n",
      "[9, 9, 2] 1\n",
      "[9, 10, 2] 0\n",
      "[10, 10, 2] 1\n",
      "[10, 11, 2] 0\n",
      "[11, 11, 2] 0\n",
      "[12, 11, 2] 1\n",
      "[12, 12, 2] 0\n",
      "[13, 12, 2] 1\n",
      "[13, 13, 2] 1\n",
      "[13, 14, 2] 0\n",
      "[14, 14, 2] 0\n",
      "[15, 14, 2] 1\n",
      "[15, 15, 2] 1\n",
      "[15, 16, 2] 0\n",
      "[16, 16, 2] 1\n",
      "[16, 17, 2] 0\n",
      "[17, 17, 2] 1\n",
      "[17, 18, 2] 0\n",
      "[18, 18, 2] 0\n",
      "[19, 18, 2] 1\n",
      "[19, 19, 2] 0\n",
      "[20, 19, 2] 1\n",
      "[20, 20, 2] 1\n",
      "[20, 21, 2] 0\n",
      "[21, 21, 2] 1\n",
      "[21, 22, 2] 0\n",
      "[22, 22, 2] 0\n",
      "[23, 22, 2] 1\n",
      "[23, 23, 2] 0\n",
      "[24, 23, 2] 1\n",
      "[24, 24, 2] 0\n",
      "[25, 24, 2] 1\n",
      "[25, 25, 2] 2\n",
      "[25, 25, 3] 2\n",
      "[25, 25, 4] 2\n",
      "[25, 25, 5] 2\n",
      "[25, 25, 6] 2\n",
      "[25, 25, 7] 2\n",
      "[25, 25, 8] 2\n",
      "[25, 25, 9] 2\n",
      "[25, 25, 10] 2\n",
      "[25, 25, 11] 2\n",
      "[25, 25, 12] 2\n",
      "[25, 25, 13] 2\n",
      "[25, 25, 14] 2\n",
      "[25, 25, 15] 2\n",
      "[25, 25, 16] 2\n",
      "[25, 25, 17] 2\n",
      "[25, 25, 18] 2\n",
      "[25, 25, 19] 2\n",
      "[25, 25, 20] 2\n",
      "[25, 25, 21] 2\n",
      "[25, 25, 22] 2\n",
      "[25, 25, 23] 2\n",
      "[25, 25, 24] 2\n"
     ]
    }
   ],
   "source": [
    "mvl_time_mmap_path = os.path.join(ds_path, f'PAC_time_{suffix}.mmap')\n",
    "mvl_time = np.memmap(mvl_time_mmap_path, dtype=float, mode='w+',\n",
    "                     shape=(3,  # pd_drug_type\n",
    "                            25, # Subjects\n",
    "                            3,  # event_types\n",
    "                            nbchan, # Channels\n",
    "                            gamma[1] - gamma[0] + 1, # High Freq\n",
    "                            beta[1] - beta[0] + 1, # Low Freq\n",
    "                            6, # Time sections\n",
    "                           ))\n",
    "\n",
    "subs = [0, 0, 0]\n",
    "for task in tasks_df.iloc:\n",
    "    print(subs, task.pd_drug_type)\n",
    "    task_mvl_2ds_time = np.load(os.path.join(task['dir'], task['file_formatter'].format(f'mvl_2d_times{suffix}.npz')))\n",
    "    \n",
    "    # mvl_2ds\n",
    "    for i, event_type in enumerate(sorted(task_mvl_2ds_time.files)):\n",
    "        mvl_time[task.pd_drug_type, subs[task.pd_drug_type], i] = \\\n",
    "            task_mvl_2ds_time[event_type]\n",
    "    \n",
    "#         mvl_2d_time[i] = task_mvl_2ds_time[event_type]\n",
    "    subs[task.pd_drug_type] += 1\n",
    "        \n",
    "#     mvl_2ds_time[task.pd_drug_type].append(mvl_2d_time)"
   ]
  },
  {
   "cell_type": "code",
   "execution_count": null,
   "metadata": {
    "code_folding": []
   },
   "outputs": [],
   "source": [
    "# ERP\n",
    "\n",
    "nbtime = 601\n",
    "\n",
    "erp_mmap_path = os.path.join(ds_path, f'ERPs_{suffix}.mmap')\n",
    "epochs = np.memmap(erp_mmap_path, dtype=float, mode='w+',\n",
    "                     shape=(3,  # pd_drug_type\n",
    "                            25, # Subjects\n",
    "                            3,  # event_types\n",
    "                            2,  # (mean, std)\n",
    "                            nbchan, # Channels\n",
    "                            nbtime, # time\n",
    "                           ))\n",
    "\n",
    "subs = [0, 0, 0]\n",
    "for task in tasks_df.iloc:\n",
    "    print(subs, task.pd_drug_type)\n",
    "    task_epochs = np.load(os.path.join(task['dir'], task['file_formatter'].format(f'epochs.npz')))\n",
    "    \n",
    "    # epochs\n",
    "    for i, event_type in enumerate(sorted(task_epochs.files)):\n",
    "        print(subs, task.pd_drug_type)\n",
    "        epochs[task.pd_drug_type, subs[task.pd_drug_type], i, 0] = task_epochs[event_type].mean(axis=0)\n",
    "        epochs[task.pd_drug_type, subs[task.pd_drug_type], i, 1] = task_epochs[event_type].std(axis=0)\n",
    "        \n",
    "    # epochs[task.pd_drug_type].append(epoch)\n",
    "    subs[task.pd_drug_type] += 1"
   ]
  },
  {
   "cell_type": "code",
   "execution_count": 18,
   "metadata": {},
   "outputs": [
    {
     "data": {
      "text/plain": [
       "True"
      ]
     },
     "execution_count": 18,
     "metadata": {},
     "output_type": "execute_result"
    }
   ],
   "source": []
  },
  {
   "cell_type": "code",
   "execution_count": 26,
   "metadata": {
    "scrolled": true
   },
   "outputs": [
    {
     "name": "stdout",
     "output_type": "stream",
     "text": [
      "[0, 0, 0] 1\n",
      "[0, 1, 0] 0\n",
      "[1, 1, 0] 1\n",
      "[1, 2, 0] 0\n",
      "[2, 2, 0] 2\n",
      "[2, 2, 1] 0\n",
      "[3, 2, 1] 1\n",
      "[3, 3, 1] 2\n",
      "[3, 3, 2] 0\n",
      "[4, 3, 2] 1\n",
      "[4, 4, 2] 0\n",
      "[5, 4, 2] 1\n",
      "[5, 5, 2] 1\n",
      "[5, 6, 2] 0\n",
      "[6, 6, 2] 1\n",
      "[6, 7, 2] 0\n",
      "[7, 7, 2] 1\n",
      "[7, 8, 2] 0\n",
      "[8, 8, 2] 0\n",
      "[9, 8, 2] 1\n",
      "[9, 9, 2] 1\n",
      "[9, 10, 2] 0\n",
      "[10, 10, 2] 1\n",
      "[10, 11, 2] 0\n",
      "[11, 11, 2] 0\n",
      "[12, 11, 2] 1\n",
      "[12, 12, 2] 0\n",
      "[13, 12, 2] 1\n",
      "[13, 13, 2] 1\n",
      "[13, 14, 2] 0\n",
      "[14, 14, 2] 0\n",
      "[15, 14, 2] 1\n",
      "[15, 15, 2] 1\n",
      "[15, 16, 2] 0\n",
      "[16, 16, 2] 1\n",
      "[16, 17, 2] 0\n",
      "[17, 17, 2] 1\n",
      "[17, 18, 2] 0\n",
      "[18, 18, 2] 0\n",
      "[19, 18, 2] 1\n",
      "[19, 19, 2] 0\n",
      "[20, 19, 2] 1\n",
      "[20, 20, 2] 1\n",
      "[20, 21, 2] 0\n",
      "[21, 21, 2] 1\n",
      "[21, 22, 2] 0\n",
      "[22, 22, 2] 0\n",
      "[23, 22, 2] 1\n",
      "[23, 23, 2] 0\n",
      "[24, 23, 2] 1\n",
      "[24, 24, 2] 0\n",
      "[25, 24, 2] 1\n",
      "[25, 25, 2] 2\n",
      "[25, 25, 3] 2\n",
      "[25, 25, 4] 2\n",
      "[25, 25, 5] 2\n",
      "[25, 25, 6] 2\n",
      "[25, 25, 7] 2\n",
      "[25, 25, 8] 2\n",
      "[25, 25, 9] 2\n",
      "[25, 25, 10] 2\n",
      "[25, 25, 11] 2\n",
      "[25, 25, 12] 2\n",
      "[25, 25, 13] 2\n",
      "[25, 25, 14] 2\n",
      "[25, 25, 15] 2\n",
      "[25, 25, 16] 2\n",
      "[25, 25, 17] 2\n",
      "[25, 25, 18] 2\n",
      "[25, 25, 19] 2\n",
      "[25, 25, 20] 2\n",
      "[25, 25, 21] 2\n",
      "[25, 25, 22] 2\n",
      "[25, 25, 23] 2\n",
      "[25, 25, 24] 2\n"
     ]
    }
   ],
   "source": [
    "# MVL 2Ds Cross\n",
    "\n",
    "selected_channels = ['FC3','FC4','AF3','AF4','F3','F4','Fz','Pz','Cz','FCz']\n",
    "selected_channels_index = [38, 57, 33, 61, 2, 29, 1, 12, 23, 39]\n",
    "if [channels[i] for i in selected_channels_index] == selected_channels_index:\n",
    "    print('Correct indices has been selected')\n",
    "\n",
    "mvl_cross_mmap_path = os.path.join(ds_path, f'MVL_cross_{suffix}.mmap')\n",
    "\n",
    "mvl_cross = np.memmap(mvl_cross_mmap_path, dtype=float, mode='w+',\n",
    "                      shape=(3,  # pd_drug_type\n",
    "                             25, # Subjects\n",
    "                             3,  # event_types\n",
    "                             len(selected_channels), # Selected Channels\n",
    "                             len(selected_channels), # Selected Channels\n",
    "                             gamma[1] - gamma[0] + 1, # High Freq\n",
    "                             beta[1] - beta[0] + 1, # Low Freq\n",
    "                            ))\n",
    "\n",
    "subs = [0, 0, 0]\n",
    "for task in tasks_df.iloc:\n",
    "    print(subs, task.pd_drug_type)\n",
    "    task_mvl_2ds = np.load(os.path.join(task['dir'], task['file_formatter'].format(f'mvl_2ds{suffix}.npz')))\n",
    "    for i, event_type in enumerate(sorted(task_mvl_2ds.files)):\n",
    "        mvl_cross[task.pd_drug_type, subs[task.pd_drug_type], i] = \\\n",
    "            task_mvl_2ds[event_type][selected_channels_index][:, selected_channels_index]\n",
    "        \n",
    "    subs[task.pd_drug_type] += 1\n",
    "\n",
    "# mvl_2ds = np.array(mvl_2ds)        # --> (pd_drug_type, subjects, event_types, channels, high_freqs, low_freqs)\n",
    "# mvl_2ds_time = np.array(mvl_2ds_time)        # --> (pd_drug_type, subjects, event_types, channels, high_freqs, low_freqs * 12)"
   ]
  },
  {
   "cell_type": "code",
   "execution_count": 14,
   "metadata": {
    "scrolled": true
   },
   "outputs": [
    {
     "name": "stdout",
     "output_type": "stream",
     "text": [
      "[0, 0, 0] 1\n",
      "[0, 1, 0] 0\n",
      "[1, 1, 0] 1\n",
      "[1, 2, 0] 0\n",
      "[2, 2, 0] 2\n",
      "[2, 2, 1] 0\n",
      "[3, 2, 1] 1\n",
      "[3, 3, 1] 2\n",
      "[3, 3, 2] 0\n",
      "[4, 3, 2] 1\n",
      "[4, 4, 2] 0\n",
      "[5, 4, 2] 1\n",
      "[5, 5, 2] 1\n",
      "[5, 6, 2] 0\n",
      "[6, 6, 2] 1\n",
      "[6, 7, 2] 0\n",
      "[7, 7, 2] 1\n",
      "[7, 8, 2] 0\n",
      "[8, 8, 2] 0\n",
      "[9, 8, 2] 1\n",
      "[9, 9, 2] 1\n",
      "[9, 10, 2] 0\n",
      "[10, 10, 2] 1\n",
      "[10, 11, 2] 0\n",
      "[11, 11, 2] 0\n",
      "[12, 11, 2] 1\n",
      "[12, 12, 2] 0\n",
      "[13, 12, 2] 1\n",
      "[13, 13, 2] 1\n",
      "[13, 14, 2] 0\n",
      "[14, 14, 2] 0\n",
      "[15, 14, 2] 1\n",
      "[15, 15, 2] 1\n",
      "[15, 16, 2] 0\n",
      "[16, 16, 2] 1\n",
      "[16, 17, 2] 0\n",
      "[17, 17, 2] 1\n",
      "[17, 18, 2] 0\n",
      "[18, 18, 2] 0\n",
      "[19, 18, 2] 1\n",
      "[19, 19, 2] 0\n",
      "[20, 19, 2] 1\n",
      "[20, 20, 2] 1\n",
      "[20, 21, 2] 0\n",
      "[21, 21, 2] 1\n",
      "[21, 22, 2] 0\n",
      "[22, 22, 2] 0\n",
      "[23, 22, 2] 1\n",
      "[23, 23, 2] 0\n",
      "[24, 23, 2] 1\n",
      "[24, 24, 2] 0\n",
      "[25, 24, 2] 1\n",
      "[25, 25, 2] 2\n",
      "[25, 25, 3] 2\n",
      "[25, 25, 4] 2\n",
      "[25, 25, 5] 2\n",
      "[25, 25, 6] 2\n",
      "[25, 25, 7] 2\n",
      "[25, 25, 8] 2\n",
      "[25, 25, 9] 2\n",
      "[25, 25, 10] 2\n",
      "[25, 25, 11] 2\n",
      "[25, 25, 12] 2\n",
      "[25, 25, 13] 2\n",
      "[25, 25, 14] 2\n",
      "[25, 25, 15] 2\n",
      "[25, 25, 16] 2\n",
      "[25, 25, 17] 2\n",
      "[25, 25, 18] 2\n",
      "[25, 25, 19] 2\n",
      "[25, 25, 20] 2\n",
      "[25, 25, 21] 2\n",
      "[25, 25, 22] 2\n",
      "[25, 25, 23] 2\n",
      "[25, 25, 24] 2\n"
     ]
    }
   ],
   "source": [
    "# MVL 2Ds Cross\n",
    "\n",
    "selected_channels = ['FC3','FC4','AF3','AF4','F3','F4','Fz','Pz','Cz','FCz']\n",
    "selected_channels_index = [38, 57, 33, 61, 2, 29, 1, 12, 23, 39]\n",
    "if [channels[i] for i in selected_channels_index] == selected_channels_index:\n",
    "    print('Correct indices has been selected')\n",
    "\n",
    "mvl_cross_time_mmap_path = os.path.join(ds_path, f'MVL_cross_time_{suffix}.mmap')\n",
    "\n",
    "mvl_cross_time = np.memmap(mvl_cross_time_mmap_path, dtype=float, mode='w+',\n",
    "                           shape=(3,  # pd_drug_type\n",
    "                                  25, # Subjects\n",
    "                                  3,  # event_types\n",
    "                                  len(selected_channels), # Selected Channels\n",
    "                                  len(selected_channels), # Selected Channels\n",
    "                                  gamma[1] - gamma[0] + 1, # High Freq\n",
    "                                  beta[1] - beta[0] + 1, # Low Freq\n",
    "                                  6\n",
    "                                 ))\n",
    "\n",
    "subs = [0, 0, 0]\n",
    "for task in tasks_df.iloc:\n",
    "    print(subs, task.pd_drug_type)\n",
    "    task_mvl_2ds = np.load(os.path.join(task['dir'], task['file_formatter'].format(f'mvl_cross_times{suffix}.npz')))\n",
    "    for i, event_type in enumerate(sorted(task_mvl_2ds.files)):\n",
    "        mvl_cross_time[task.pd_drug_type, subs[task.pd_drug_type], i] = \\\n",
    "            task_mvl_2ds[event_type]\n",
    "        \n",
    "    subs[task.pd_drug_type] += 1\n",
    "\n",
    "# mvl_2ds = np.array(mvl_2ds)        # --> (pd_drug_type, subjects, event_types, channels, high_freqs, low_freqs)\n",
    "# mvl_2ds_time = np.array(mvl_2ds_time)        # --> (pd_drug_type, subjects, event_types, channels, high_freqs, low_freqs * 12)"
   ]
  },
  {
   "cell_type": "code",
   "execution_count": 16,
   "metadata": {},
   "outputs": [
    {
     "data": {
      "text/plain": [
       "['ERPs__1_200_double.mmap',\n",
       " 'MVL_cross__1_200_double.mmap',\n",
       " 'MVL_cross_time__1_200_double.mmap',\n",
       " 'MVL_2ds__1_200_double.mmap',\n",
       " 'PAC_time__1_200_double.mmap']"
      ]
     },
     "execution_count": 16,
     "metadata": {},
     "output_type": "execute_result"
    }
   ],
   "source": [
    "[f for f in os.listdir(ds_path) if f.endswith('mmap')]"
   ]
  },
  {
   "cell_type": "code",
   "execution_count": 15,
   "metadata": {},
   "outputs": [
    {
     "name": "stdout",
     "output_type": "stream",
     "text": [
      "4.0K /home/kiani/DS/ds003490-download/ERPs__1_200_double.mmap\r\n",
      "1.1G /home/kiani/DS/ds003490-download/MVL_2ds__1_200_double.mmap\r\n",
      "1.7G /home/kiani/DS/ds003490-download/MVL_cross__1_200_double.mmap\r\n",
      " 11G /home/kiani/DS/ds003490-download/MVL_cross_time__1_200_double.mmap\r\n",
      "6.4G /home/kiani/DS/ds003490-download/PAC_time__1_200_double.mmap\r\n"
     ]
    }
   ],
   "source": [
    "!ls -sh /home/kiani/DS/ds003490-download/*.mmap"
   ]
  },
  {
   "cell_type": "code",
   "execution_count": 13,
   "metadata": {},
   "outputs": [
    {
     "data": {
      "text/plain": [
       "(10, 10, 200, 50, 6)"
      ]
     },
     "execution_count": 13,
     "metadata": {},
     "output_type": "execute_result"
    }
   ],
   "source": [
    "task_mvl_2ds[event_type][selected_channels_index][:, selected_channels_index]"
   ]
  },
  {
   "cell_type": "code",
   "execution_count": null,
   "metadata": {},
   "outputs": [],
   "source": []
  }
 ],
 "metadata": {
  "hide_input": false,
  "kernelspec": {
   "display_name": "Python 3",
   "language": "python",
   "name": "python3"
  },
  "language_info": {
   "codemirror_mode": {
    "name": "ipython",
    "version": 3
   },
   "file_extension": ".py",
   "mimetype": "text/x-python",
   "name": "python",
   "nbconvert_exporter": "python",
   "pygments_lexer": "ipython3",
   "version": "3.6.6"
  },
  "toc": {
   "base_numbering": 1,
   "nav_menu": {},
   "number_sections": true,
   "sideBar": true,
   "skip_h1_title": false,
   "title_cell": "Table of Contents",
   "title_sidebar": "Contents",
   "toc_cell": false,
   "toc_position": {
    "height": "calc(100% - 180px)",
    "left": "10px",
    "top": "150px",
    "width": "288px"
   },
   "toc_section_display": true,
   "toc_window_display": true
  },
  "varInspector": {
   "cols": {
    "lenName": 16,
    "lenType": 16,
    "lenVar": 40
   },
   "kernels_config": {
    "python": {
     "delete_cmd_postfix": "",
     "delete_cmd_prefix": "del ",
     "library": "var_list.py",
     "varRefreshCmd": "print(var_dic_list())"
    },
    "r": {
     "delete_cmd_postfix": ") ",
     "delete_cmd_prefix": "rm(",
     "library": "var_list.r",
     "varRefreshCmd": "cat(var_dic_list()) "
    }
   },
   "types_to_exclude": [
    "module",
    "function",
    "builtin_function_or_method",
    "instance",
    "_Feature"
   ],
   "window_display": false
  }
 },
 "nbformat": 4,
 "nbformat_minor": 5
}
